{
 "cells": [
  {
   "cell_type": "code",
   "execution_count": 3,
   "metadata": {},
   "outputs": [
    {
     "name": "stderr",
     "output_type": "stream",
     "text": [
      "/Users/nicholasjenkins/downloads/ENTER/lib/python3.7/site-packages/statsmodels/tools/_testing.py:19: FutureWarning: pandas.util.testing is deprecated. Use the functions in the public API at pandas.testing instead.\n",
      "  import pandas.util.testing as tm\n"
     ]
    }
   ],
   "source": [
    "from sources import *\n",
    "from analysis import * \n",
    "from datetime import datetime as dt"
   ]
  },
  {
   "cell_type": "code",
   "execution_count": 4,
   "metadata": {},
   "outputs": [],
   "source": [
    "\n",
    "def generate_auction_activity(verbose=False, test=False):\n",
    "    \"\"\" Generates auction history parquet file with auctions of interest.\n",
    "        Reads and parses Beancounter auction history across all characters\n",
    "        Works the data into a labelled and cleaned pandas before parquet saves\n",
    "    \"\"\"\n",
    "    relevant_auction_types = ['failedAuctions', 'completedAuctions', 'completedBidsBuyouts']       \n",
    "\n",
    "    settings = get_general_settings()\n",
    "    data = read_lua('BeanCounter')\n",
    "\n",
    "    # Generates BeanCounters id:item_name dict\n",
    "    num_item = {}\n",
    "    for key, item_raw in data['BeanCounterDBNames'].items():\n",
    "        item_name = item_raw.split(\";\")[1]\n",
    "        num_item[key.split(\":\")[0]] = item_name\n",
    "\n",
    "    # Parses all characters relevant listings into flat list\n",
    "    parsed = []\n",
    "    for character, auction_data in data['BeanCounterDB']['Grobbulus'].items():\n",
    "        for auction_type, item_listings in auction_data.items():\n",
    "            if auction_type in relevant_auction_types: \n",
    "                auction_name = settings['auction_type_labels'][auction_type]      \n",
    "                for item_id, listings in item_listings.items():            \n",
    "                    for _, listing in listings.items():\n",
    "                        for auction in listing:\n",
    "                            parsed.append([auction_name] + [num_item[item_id]] + [character] + auction.split(';'))\n",
    "\n",
    "    # Setup as pandas dataframe, remove irrelevant columns\n",
    "    df = pd.DataFrame(parsed)\n",
    "    df = df.drop([4,5,6,8,11,12], axis=1)\n",
    "\n",
    "    cols = [\"auction_type\", \"item\", \"character\", \"count\", \"price\", \"agent\", \"timestamp\"]\n",
    "    df.rename(columns=dict(zip(df.columns, cols)), inplace=True)\n",
    "\n",
    "    df = df[df['price']!='']\n",
    "    df['price'] = df['price'].astype(int)\n",
    "    df['count'] = df['count'].astype(int)\n",
    "\n",
    "    df['price_per'] = round(df['price'] / df['count'], 4)\n",
    "    df['timestamp'] = df['timestamp'].apply(lambda x: dt.fromtimestamp(int(x)))\n",
    "\n",
    "    return df\n",
    "    \n",
    "#     if test: return None # avoid saves\n",
    "#     if verbose: \n",
    "#         print(f\"Auction actions full repository. {df.shape[0]} records\")\n",
    "#     df.to_parquet('full/auction_activity.parquet', compression='gzip')"
   ]
  },
  {
   "cell_type": "code",
   "execution_count": 5,
   "metadata": {},
   "outputs": [],
   "source": [
    "df = generate_auction_activity()"
   ]
  },
  {
   "cell_type": "code",
   "execution_count": 8,
   "metadata": {},
   "outputs": [
    {
     "data": {
      "text/plain": [
       "buy_price     14679\n",
       "sell_price    13741\n",
       "failed         3954\n",
       "Name: auction_type, dtype: int64"
      ]
     },
     "execution_count": 8,
     "metadata": {},
     "output_type": "execute_result"
    }
   ],
   "source": [
    "df['auction_type'].value_counts()"
   ]
  },
  {
   "cell_type": "code",
   "execution_count": 17,
   "metadata": {},
   "outputs": [],
   "source": [
    "df = df.set_index('timestamp').sort_index()"
   ]
  },
  {
   "cell_type": "code",
   "execution_count": 29,
   "metadata": {},
   "outputs": [
    {
     "data": {
      "text/plain": [
       "<matplotlib.axes._subplots.AxesSubplot at 0x10c9342b0>"
      ]
     },
     "execution_count": 29,
     "metadata": {},
     "output_type": "execute_result"
    },
    {
     "data": {
      "image/png": "[encoded data removed]",
      "text/plain": [
       "<Figure size 842.4x595.44 with 1 Axes>"
      ]
     },
     "metadata": {},
     "output_type": "display_data"
    }
   ],
   "source": [
    "df[df['item']=='Gromsblood']['price_per'].rolling(10).mean().plot()"
   ]
  },
  {
   "cell_type": "code",
   "execution_count": 30,
   "metadata": {},
   "outputs": [],
   "source": [
    "def analyse_item_prices(verbose=False, full_pricing=False, test=False):\n",
    "    \"\"\"\n",
    "    Generate item prices based on all past auction activity and scans\n",
    "    \"\"\"\n",
    "\n",
    "    auction_activity = pd.read_parquet('full/auction_activity.parquet')\n",
    "    auction_activity = auction_activity[['item', 'timestamp', 'price_per', 'auction_type']]\n",
    "\n",
    "    auction_scan_minprice = pd.read_parquet('full/auction_scan_minprice.parquet')\n",
    "\n",
    "    df_auction_prices = auction_scan_minprice.append(auction_activity)\n",
    "\n",
    "    if full_pricing:\n",
    "        items = df_auction_prices['iten'].unique()\n",
    "    else:\n",
    "        items = load_items()\n",
    "\n",
    "    price_history = df_auction_prices.set_index(['item', 'timestamp']).sort_index()['price_per']\n",
    "\n",
    "    if full_pricing:\n",
    "        item_prices = {item: price_history.loc[item].ewm(alpha=0.2).mean().iloc[-1] for item in items}    \n",
    "    else:\n",
    "        # Only calculate for our item list; get backup price if present\n",
    "        item_prices = {}\n",
    "        for item, details in items.items():\n",
    "            price = details.get('backup_price')\n",
    "            if not price:\n",
    "                price = price_history.loc[item].ewm(alpha=0.2).mean().iloc[-1]\n",
    "            item_prices[item] = price\n",
    "    \n",
    "    item_prices = pd.DataFrame.from_dict(item_prices, orient='index')\n",
    "    item_prices.index.name = 'item'\n",
    "    item_prices.columns = ['market_price']\n",
    "\n",
    "    return item_prices"
   ]
  },
  {
   "cell_type": "code",
   "execution_count": 31,
   "metadata": {},
   "outputs": [],
   "source": [
    "item_prices = analyse_item_prices()"
   ]
  },
  {
   "cell_type": "code",
   "execution_count": null,
   "metadata": {},
   "outputs": [],
   "source": []
  },
  {
   "cell_type": "code",
   "execution_count": null,
   "metadata": {},
   "outputs": [],
   "source": []
  },
  {
   "cell_type": "code",
   "execution_count": null,
   "metadata": {},
   "outputs": [],
   "source": []
  },
  {
   "cell_type": "code",
   "execution_count": null,
   "metadata": {},
   "outputs": [],
   "source": []
  },
  {
   "cell_type": "code",
   "execution_count": null,
   "metadata": {},
   "outputs": [],
   "source": [
    "#4.31 seconds save time (4/26)\n",
    "start = dt.now()\n",
    "print(start)\n",
    "\n",
    "generate_auction_scandata(verbose=True)\n",
    "generate_auction_activity(verbose=True)\n",
    "generate_inventory(verbose=True)\n",
    "analyse_item_prices(verbose=True)\n",
    "analyse_sales_performance()\n",
    "analyse_item_min_sell_price()\n",
    "analyse_sell_data()\n",
    "apply_buy_policy(additional_percent=1.01)\n",
    "\n",
    "end = dt.now()\n",
    "print(end)\n",
    "print(\"Time taken\", (end - start).total_seconds())\n"
   ]
  }
 ],
 "metadata": {
  "kernelspec": {
   "display_name": "Python 3",
   "language": "python",
   "name": "python3"
  },
  "language_info": {
   "codemirror_mode": {
    "name": "ipython",
    "version": 3
   },
   "file_extension": ".py",
   "mimetype": "text/x-python",
   "name": "python",
   "nbconvert_exporter": "python",
   "pygments_lexer": "ipython3",
   "version": "3.7.3"
  }
 },
 "nbformat": 4,
 "nbformat_minor": 2
}
