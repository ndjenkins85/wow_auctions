{
 "cells": [
  {
   "cell_type": "code",
   "execution_count": 3,
   "metadata": {},
   "outputs": [
    {
     "name": "stderr",
     "output_type": "stream",
     "text": [
      "/Users/nicholasjenkins/downloads/ENTER/lib/python3.7/site-packages/statsmodels/tools/_testing.py:19: FutureWarning: pandas.util.testing is deprecated. Use the functions in the public API at pandas.testing instead.\n",
      "  import pandas.util.testing as tm\n"
     ]
    }
   ],
   "source": [
    "from sources import *\n",
    "from analysis import * \n",
    "from datetime import datetime as dt"
   ]
  },
  {
   "cell_type": "code",
   "execution_count": 59,
   "metadata": {},
   "outputs": [],
   "source": [
    "import os"
   ]
  },
  {
   "cell_type": "code",
   "execution_count": 94,
   "metadata": {},
   "outputs": [],
   "source": [
    "from slpp import slpp as lua"
   ]
  },
  {
   "cell_type": "code",
   "execution_count": 95,
   "metadata": {},
   "outputs": [
    {
     "ename": "UnicodeDecodeError",
     "evalue": "'utf-8' codec can't decode byte 0xe1 in position 526: invalid continuation byte",
     "output_type": "error",
     "traceback": [
      "\u001b[0;31m---------------------------------------------------------------------------\u001b[0m",
      "\u001b[0;31mUnicodeDecodeError\u001b[0m                        Traceback (most recent call last)",
      "\u001b[0;32m<ipython-input-95-cb055ad9fe58>\u001b[0m in \u001b[0;36m<module>\u001b[0;34m\u001b[0m\n\u001b[1;32m      2\u001b[0m \u001b[0;34m\u001b[0m\u001b[0m\n\u001b[1;32m      3\u001b[0m \u001b[0;32mwith\u001b[0m \u001b[0mopen\u001b[0m\u001b[0;34m(\u001b[0m\u001b[0mpath_live\u001b[0m\u001b[0;34m,\u001b[0m \u001b[0;34m'r'\u001b[0m\u001b[0;34m)\u001b[0m \u001b[0;32mas\u001b[0m \u001b[0mf\u001b[0m\u001b[0;34m:\u001b[0m\u001b[0;34m\u001b[0m\u001b[0;34m\u001b[0m\u001b[0m\n\u001b[0;32m----> 4\u001b[0;31m     \u001b[0mdata\u001b[0m \u001b[0;34m=\u001b[0m \u001b[0mlua\u001b[0m\u001b[0;34m.\u001b[0m\u001b[0mdecode\u001b[0m\u001b[0;34m(\u001b[0m\u001b[0;34m'{'\u001b[0m\u001b[0;34m+\u001b[0m\u001b[0mf\u001b[0m\u001b[0;34m.\u001b[0m\u001b[0mread\u001b[0m\u001b[0;34m(\u001b[0m\u001b[0;34m)\u001b[0m\u001b[0;34m+\u001b[0m\u001b[0;34m'}'\u001b[0m\u001b[0;34m)\u001b[0m\u001b[0;34m\u001b[0m\u001b[0;34m\u001b[0m\u001b[0m\n\u001b[0m",
      "\u001b[0;32m~/downloads/ENTER/lib/python3.7/codecs.py\u001b[0m in \u001b[0;36mdecode\u001b[0;34m(self, input, final)\u001b[0m\n\u001b[1;32m    320\u001b[0m         \u001b[0;31m# decode input (taking the buffer into account)\u001b[0m\u001b[0;34m\u001b[0m\u001b[0;34m\u001b[0m\u001b[0;34m\u001b[0m\u001b[0m\n\u001b[1;32m    321\u001b[0m         \u001b[0mdata\u001b[0m \u001b[0;34m=\u001b[0m \u001b[0mself\u001b[0m\u001b[0;34m.\u001b[0m\u001b[0mbuffer\u001b[0m \u001b[0;34m+\u001b[0m \u001b[0minput\u001b[0m\u001b[0;34m\u001b[0m\u001b[0;34m\u001b[0m\u001b[0m\n\u001b[0;32m--> 322\u001b[0;31m         \u001b[0;34m(\u001b[0m\u001b[0mresult\u001b[0m\u001b[0;34m,\u001b[0m \u001b[0mconsumed\u001b[0m\u001b[0;34m)\u001b[0m \u001b[0;34m=\u001b[0m \u001b[0mself\u001b[0m\u001b[0;34m.\u001b[0m\u001b[0m_buffer_decode\u001b[0m\u001b[0;34m(\u001b[0m\u001b[0mdata\u001b[0m\u001b[0;34m,\u001b[0m \u001b[0mself\u001b[0m\u001b[0;34m.\u001b[0m\u001b[0merrors\u001b[0m\u001b[0;34m,\u001b[0m \u001b[0mfinal\u001b[0m\u001b[0;34m)\u001b[0m\u001b[0;34m\u001b[0m\u001b[0;34m\u001b[0m\u001b[0m\n\u001b[0m\u001b[1;32m    323\u001b[0m         \u001b[0;31m# keep undecoded input until the next call\u001b[0m\u001b[0;34m\u001b[0m\u001b[0;34m\u001b[0m\u001b[0;34m\u001b[0m\u001b[0m\n\u001b[1;32m    324\u001b[0m         \u001b[0mself\u001b[0m\u001b[0;34m.\u001b[0m\u001b[0mbuffer\u001b[0m \u001b[0;34m=\u001b[0m \u001b[0mdata\u001b[0m\u001b[0;34m[\u001b[0m\u001b[0mconsumed\u001b[0m\u001b[0;34m:\u001b[0m\u001b[0;34m]\u001b[0m\u001b[0;34m\u001b[0m\u001b[0;34m\u001b[0m\u001b[0m\n",
      "\u001b[0;31mUnicodeDecodeError\u001b[0m: 'utf-8' codec can't decode byte 0xe1 in position 526: invalid continuation byte"
     ]
    }
   ],
   "source": [
    "\n",
    "path_live = r\"/Applications/World of Warcraft/_classic_/Interface/AddOns/BootyBayGazette/MarketData-US.lua\"\n",
    "\n",
    "with open(path_live, 'r') as f:\n",
    "    data = lua.decode('{'+f.read()+'}')"
   ]
  },
  {
   "cell_type": "code",
   "execution_count": 96,
   "metadata": {},
   "outputs": [
    {
     "ename": "SyntaxError",
     "evalue": "invalid syntax (<ipython-input-96-74cfeece374a>, line 1)",
     "output_type": "error",
     "traceback": [
      "\u001b[0;36m  File \u001b[0;32m\"<ipython-input-96-74cfeece374a>\"\u001b[0;36m, line \u001b[0;32m1\u001b[0m\n\u001b[0;31m    [[\u0003\u001b[0m\n\u001b[0m      ^\u001b[0m\n\u001b[0;31mSyntaxError\u001b[0m\u001b[0;31m:\u001b[0m invalid syntax\n"
     ]
    }
   ],
   "source": []
  },
  {
   "cell_type": "code",
   "execution_count": null,
   "metadata": {},
   "outputs": [],
   "source": []
  },
  {
   "cell_type": "code",
   "execution_count": null,
   "metadata": {},
   "outputs": [],
   "source": []
  },
  {
   "cell_type": "code",
   "execution_count": null,
   "metadata": {},
   "outputs": [],
   "source": []
  },
  {
   "cell_type": "code",
   "execution_count": null,
   "metadata": {},
   "outputs": [],
   "source": []
  },
  {
   "cell_type": "code",
   "execution_count": 70,
   "metadata": {},
   "outputs": [],
   "source": [
    "data = []\n",
    "base_dir = 'full/auction_scandata/'\n",
    "for file in sorted(os.listdir(base_dir)):\n",
    "    df = pd.read_parquet(os.path.join(base_dir, file))"
   ]
  },
  {
   "cell_type": "code",
   "execution_count": 71,
   "metadata": {},
   "outputs": [
    {
     "data": {
      "text/plain": [
       "'2020-07-05 16:20:28.parquet'"
      ]
     },
     "execution_count": 71,
     "metadata": {},
     "output_type": "execute_result"
    }
   ],
   "source": [
    "file"
   ]
  },
  {
   "cell_type": "code",
   "execution_count": 72,
   "metadata": {},
   "outputs": [
    {
     "data": {
      "text/html": [
       "<div>\n",
       "<style scoped>\n",
       "    .dataframe tbody tr th:only-of-type {\n",
       "        vertical-align: middle;\n",
       "    }\n",
       "\n",
       "    .dataframe tbody tr th {\n",
       "        vertical-align: top;\n",
       "    }\n",
       "\n",
       "    .dataframe thead th {\n",
       "        text-align: right;\n",
       "    }\n",
       "</style>\n",
       "<table border=\"1\" class=\"dataframe\">\n",
       "  <thead>\n",
       "    <tr style=\"text-align: right;\">\n",
       "      <th></th>\n",
       "      <th>timestamp</th>\n",
       "      <th>item</th>\n",
       "      <th>count</th>\n",
       "      <th>price</th>\n",
       "      <th>agent</th>\n",
       "      <th>price_per</th>\n",
       "      <th>auction_type</th>\n",
       "    </tr>\n",
       "    <tr>\n",
       "      <th>index</th>\n",
       "      <th></th>\n",
       "      <th></th>\n",
       "      <th></th>\n",
       "      <th></th>\n",
       "      <th></th>\n",
       "      <th></th>\n",
       "      <th></th>\n",
       "    </tr>\n",
       "  </thead>\n",
       "  <tbody>\n",
       "    <tr>\n",
       "      <th>0</th>\n",
       "      <td>2020-07-05 16:20:28</td>\n",
       "      <td>Swiftthistle</td>\n",
       "      <td>20</td>\n",
       "      <td>225000</td>\n",
       "      <td>Santear</td>\n",
       "      <td>11250</td>\n",
       "      <td>market</td>\n",
       "    </tr>\n",
       "    <tr>\n",
       "      <th>1</th>\n",
       "      <td>2020-07-05 16:20:28</td>\n",
       "      <td>Swiftthistle</td>\n",
       "      <td>20</td>\n",
       "      <td>225000</td>\n",
       "      <td>Santear</td>\n",
       "      <td>11250</td>\n",
       "      <td>market</td>\n",
       "    </tr>\n",
       "    <tr>\n",
       "      <th>2</th>\n",
       "      <td>2020-07-05 16:20:28</td>\n",
       "      <td>Swiftthistle</td>\n",
       "      <td>20</td>\n",
       "      <td>250000</td>\n",
       "      <td>Santear</td>\n",
       "      <td>12500</td>\n",
       "      <td>market</td>\n",
       "    </tr>\n",
       "    <tr>\n",
       "      <th>3</th>\n",
       "      <td>2020-07-05 16:20:28</td>\n",
       "      <td>Swiftthistle</td>\n",
       "      <td>20</td>\n",
       "      <td>250000</td>\n",
       "      <td>Santear</td>\n",
       "      <td>12500</td>\n",
       "      <td>market</td>\n",
       "    </tr>\n",
       "    <tr>\n",
       "      <th>4</th>\n",
       "      <td>2020-07-05 16:20:28</td>\n",
       "      <td>Swiftthistle</td>\n",
       "      <td>20</td>\n",
       "      <td>250000</td>\n",
       "      <td>Santear</td>\n",
       "      <td>12500</td>\n",
       "      <td>market</td>\n",
       "    </tr>\n",
       "    <tr>\n",
       "      <th>...</th>\n",
       "      <td>...</td>\n",
       "      <td>...</td>\n",
       "      <td>...</td>\n",
       "      <td>...</td>\n",
       "      <td>...</td>\n",
       "      <td>...</td>\n",
       "      <td>...</td>\n",
       "    </tr>\n",
       "    <tr>\n",
       "      <th>25358</th>\n",
       "      <td>2020-07-05 16:20:28</td>\n",
       "      <td>Incendicite Ore</td>\n",
       "      <td>6</td>\n",
       "      <td>11994</td>\n",
       "      <td>Adolphus</td>\n",
       "      <td>1999</td>\n",
       "      <td>market</td>\n",
       "    </tr>\n",
       "    <tr>\n",
       "      <th>25359</th>\n",
       "      <td>2020-07-05 16:20:28</td>\n",
       "      <td>Three of Warlords</td>\n",
       "      <td>1</td>\n",
       "      <td>78000</td>\n",
       "      <td>Frankiee</td>\n",
       "      <td>78000</td>\n",
       "      <td>market</td>\n",
       "    </tr>\n",
       "    <tr>\n",
       "      <th>25360</th>\n",
       "      <td>2020-07-05 16:20:28</td>\n",
       "      <td>Cat Carrier (White Kitten)</td>\n",
       "      <td>1</td>\n",
       "      <td>24375</td>\n",
       "      <td>Frankiee</td>\n",
       "      <td>24375</td>\n",
       "      <td>market</td>\n",
       "    </tr>\n",
       "    <tr>\n",
       "      <th>25361</th>\n",
       "      <td>2020-07-05 16:20:28</td>\n",
       "      <td>Darkweave Breeches</td>\n",
       "      <td>1</td>\n",
       "      <td>220000</td>\n",
       "      <td>Sateeva</td>\n",
       "      <td>220000</td>\n",
       "      <td>market</td>\n",
       "    </tr>\n",
       "    <tr>\n",
       "      <th>25362</th>\n",
       "      <td>2020-07-05 16:20:28</td>\n",
       "      <td>Forgotten Wraps</td>\n",
       "      <td>1</td>\n",
       "      <td>100000</td>\n",
       "      <td>Akromia</td>\n",
       "      <td>100000</td>\n",
       "      <td>market</td>\n",
       "    </tr>\n",
       "  </tbody>\n",
       "</table>\n",
       "<p>25256 rows × 7 columns</p>\n",
       "</div>"
      ],
      "text/plain": [
       "                timestamp                        item  count   price  \\\n",
       "index                                                                  \n",
       "0     2020-07-05 16:20:28                Swiftthistle     20  225000   \n",
       "1     2020-07-05 16:20:28                Swiftthistle     20  225000   \n",
       "2     2020-07-05 16:20:28                Swiftthistle     20  250000   \n",
       "3     2020-07-05 16:20:28                Swiftthistle     20  250000   \n",
       "4     2020-07-05 16:20:28                Swiftthistle     20  250000   \n",
       "...                   ...                         ...    ...     ...   \n",
       "25358 2020-07-05 16:20:28             Incendicite Ore      6   11994   \n",
       "25359 2020-07-05 16:20:28           Three of Warlords      1   78000   \n",
       "25360 2020-07-05 16:20:28  Cat Carrier (White Kitten)      1   24375   \n",
       "25361 2020-07-05 16:20:28          Darkweave Breeches      1  220000   \n",
       "25362 2020-07-05 16:20:28             Forgotten Wraps      1  100000   \n",
       "\n",
       "          agent  price_per auction_type  \n",
       "index                                    \n",
       "0       Santear      11250       market  \n",
       "1       Santear      11250       market  \n",
       "2       Santear      12500       market  \n",
       "3       Santear      12500       market  \n",
       "4       Santear      12500       market  \n",
       "...         ...        ...          ...  \n",
       "25358  Adolphus       1999       market  \n",
       "25359  Frankiee      78000       market  \n",
       "25360  Frankiee      24375       market  \n",
       "25361   Sateeva     220000       market  \n",
       "25362   Akromia     100000       market  \n",
       "\n",
       "[25256 rows x 7 columns]"
      ]
     },
     "execution_count": 72,
     "metadata": {},
     "output_type": "execute_result"
    }
   ],
   "source": [
    "df"
   ]
  },
  {
   "cell_type": "code",
   "execution_count": null,
   "metadata": {},
   "outputs": [],
   "source": []
  },
  {
   "cell_type": "code",
   "execution_count": null,
   "metadata": {},
   "outputs": [],
   "source": []
  },
  {
   "cell_type": "code",
   "execution_count": 73,
   "metadata": {},
   "outputs": [],
   "source": [
    "path_live = f\"/Applications/World of Warcraft/_classic_/WTF/Account/396255466#1/SavedVariables/Auc-ScanData.lua\" \n",
    "\n",
    "ropes = []\n",
    "with open(path_live, 'r') as f:\n",
    "    on = False\n",
    "    rope_count = 0\n",
    "    for line in f.readlines():\n",
    "        if on and rope_count<5:\n",
    "            ropes.append(line)\n",
    "            rope_count+=1\n",
    "        elif '[\"ropes\"]' in line:\n",
    "            on = True\n",
    "\n",
    "listings = []\n",
    "for rope in ropes:\n",
    "    if len(rope)<10:\n",
    "        continue        \n",
    "    listings_part = rope.split('},{')\n",
    "    listings_part[0] = listings_part[0].split('{{')[1]\n",
    "    listings_part[-1] = listings_part[-1].split('},}')[0]\n",
    "\n",
    "    listings.extend(listings_part)\n",
    "\n",
    "# Contains lots of columns, we ignore ones we likely dont care about\n",
    "# We apply transformations and relabel    \n",
    "df = pd.DataFrame([x.split('|')[-1].split(',') for x in listings])\n",
    "df['item'] = df[8].str.replace('\"','').str[1:-1]\n",
    "df['count'] = df[10].replace('nil', 0).astype(int)\n",
    "df['price'] = df[16].astype(int)\n",
    "df['agent'] = df[19].str.replace('\"','').str[1:-1]\n",
    "df['timestamp'] = df[7].apply(lambda x: dt.fromtimestamp(int(x)))\n",
    "\n",
    "# There is some timing difference in the timestamp, we dont really care we just need time of pull\n",
    "df['timestamp'] = df['timestamp'].max()\n",
    "\n",
    "df = df[df['count']>0]\n",
    "df['price_per'] = df['price'] / df['count']"
   ]
  },
  {
   "cell_type": "code",
   "execution_count": 86,
   "metadata": {},
   "outputs": [
    {
     "data": {
      "text/plain": [
       "4    12262\n",
       "3    11467\n",
       "2     2591\n",
       "1      687\n",
       "Name: 6, dtype: int64"
      ]
     },
     "execution_count": 86,
     "metadata": {},
     "output_type": "execute_result"
    }
   ],
   "source": [
    "df[6].value_counts()"
   ]
  },
  {
   "cell_type": "code",
   "execution_count": 92,
   "metadata": {},
   "outputs": [
    {
     "data": {
      "text/html": [
       "<div>\n",
       "<style scoped>\n",
       "    .dataframe tbody tr th:only-of-type {\n",
       "        vertical-align: middle;\n",
       "    }\n",
       "\n",
       "    .dataframe tbody tr th {\n",
       "        vertical-align: top;\n",
       "    }\n",
       "\n",
       "    .dataframe thead th {\n",
       "        text-align: right;\n",
       "    }\n",
       "</style>\n",
       "<table border=\"1\" class=\"dataframe\">\n",
       "  <thead>\n",
       "    <tr style=\"text-align: right;\">\n",
       "      <th></th>\n",
       "      <th>0</th>\n",
       "      <th>1</th>\n",
       "      <th>2</th>\n",
       "      <th>3</th>\n",
       "      <th>4</th>\n",
       "      <th>5</th>\n",
       "      <th>6</th>\n",
       "      <th>7</th>\n",
       "      <th>8</th>\n",
       "      <th>9</th>\n",
       "      <th>...</th>\n",
       "      <th>24</th>\n",
       "      <th>25</th>\n",
       "      <th>26</th>\n",
       "      <th>27</th>\n",
       "      <th>item</th>\n",
       "      <th>count</th>\n",
       "      <th>price</th>\n",
       "      <th>agent</th>\n",
       "      <th>timestamp</th>\n",
       "      <th>price_per</th>\n",
       "    </tr>\n",
       "  </thead>\n",
       "  <tbody>\n",
       "    <tr>\n",
       "      <th>74</th>\n",
       "      <td>r\\\"</td>\n",
       "      <td>19</td>\n",
       "      <td>2</td>\n",
       "      <td>10</td>\n",
       "      <td>17</td>\n",
       "      <td>6282</td>\n",
       "      <td>1</td>\n",
       "      <td>1593998538</td>\n",
       "      <td>\\\"Medicine Staff of Nature's Wrath\\\"</td>\n",
       "      <td>nil</td>\n",
       "      <td>...</td>\n",
       "      <td>0</td>\n",
       "      <td>0</td>\n",
       "      <td>60963968</td>\n",
       "      <td></td>\n",
       "      <td>Medicine Staff of Nature's Wrath</td>\n",
       "      <td>1</td>\n",
       "      <td>7852</td>\n",
       "      <td>Mcscrooge</td>\n",
       "      <td>2020-07-05 21:22:23</td>\n",
       "      <td>7852.0</td>\n",
       "    </tr>\n",
       "    <tr>\n",
       "      <th>2386</th>\n",
       "      <td>r\\\"</td>\n",
       "      <td>19</td>\n",
       "      <td>2</td>\n",
       "      <td>10</td>\n",
       "      <td>17</td>\n",
       "      <td>6125</td>\n",
       "      <td>3</td>\n",
       "      <td>1593998538</td>\n",
       "      <td>\\\"Medicine Staff of Nature's Wrath\\\"</td>\n",
       "      <td>nil</td>\n",
       "      <td>...</td>\n",
       "      <td>0</td>\n",
       "      <td>0</td>\n",
       "      <td>174157696</td>\n",
       "      <td></td>\n",
       "      <td>Medicine Staff of Nature's Wrath</td>\n",
       "      <td>1</td>\n",
       "      <td>7656</td>\n",
       "      <td>Skaargrim</td>\n",
       "      <td>2020-07-05 21:22:23</td>\n",
       "      <td>7656.0</td>\n",
       "    </tr>\n",
       "    <tr>\n",
       "      <th>18782</th>\n",
       "      <td>r\\\"</td>\n",
       "      <td>19</td>\n",
       "      <td>2</td>\n",
       "      <td>10</td>\n",
       "      <td>17</td>\n",
       "      <td>5068</td>\n",
       "      <td>4</td>\n",
       "      <td>1593998537</td>\n",
       "      <td>\\\"Medicine Staff of Nature's Wrath\\\"</td>\n",
       "      <td>nil</td>\n",
       "      <td>...</td>\n",
       "      <td>0</td>\n",
       "      <td>0</td>\n",
       "      <td>2070357760</td>\n",
       "      <td></td>\n",
       "      <td>Medicine Staff of Nature's Wrath</td>\n",
       "      <td>1</td>\n",
       "      <td>7034</td>\n",
       "      <td>Slish</td>\n",
       "      <td>2020-07-05 21:22:23</td>\n",
       "      <td>7034.0</td>\n",
       "    </tr>\n",
       "  </tbody>\n",
       "</table>\n",
       "<p>3 rows × 34 columns</p>\n",
       "</div>"
      ],
      "text/plain": [
       "         0   1  2   3   4     5  6           7  \\\n",
       "74     r\\\"  19  2  10  17  6282  1  1593998538   \n",
       "2386   r\\\"  19  2  10  17  6125  3  1593998538   \n",
       "18782  r\\\"  19  2  10  17  5068  4  1593998537   \n",
       "\n",
       "                                          8    9  ... 24 25          26 27  \\\n",
       "74     \\\"Medicine Staff of Nature's Wrath\\\"  nil  ...  0  0    60963968      \n",
       "2386   \\\"Medicine Staff of Nature's Wrath\\\"  nil  ...  0  0   174157696      \n",
       "18782  \\\"Medicine Staff of Nature's Wrath\\\"  nil  ...  0  0  2070357760      \n",
       "\n",
       "                                   item count price      agent  \\\n",
       "74     Medicine Staff of Nature's Wrath     1  7852  Mcscrooge   \n",
       "2386   Medicine Staff of Nature's Wrath     1  7656  Skaargrim   \n",
       "18782  Medicine Staff of Nature's Wrath     1  7034      Slish   \n",
       "\n",
       "                timestamp price_per  \n",
       "74    2020-07-05 21:22:23    7852.0  \n",
       "2386  2020-07-05 21:22:23    7656.0  \n",
       "18782 2020-07-05 21:22:23    7034.0  \n",
       "\n",
       "[3 rows x 34 columns]"
      ]
     },
     "execution_count": 92,
     "metadata": {},
     "output_type": "execute_result"
    }
   ],
   "source": [
    "df[df['item']==\"Medicine Staff of Nature's Wrath\"]"
   ]
  },
  {
   "cell_type": "code",
   "execution_count": null,
   "metadata": {},
   "outputs": [],
   "source": []
  },
  {
   "cell_type": "code",
   "execution_count": null,
   "metadata": {},
   "outputs": [],
   "source": []
  },
  {
   "cell_type": "code",
   "execution_count": null,
   "metadata": {},
   "outputs": [],
   "source": []
  },
  {
   "cell_type": "code",
   "execution_count": null,
   "metadata": {},
   "outputs": [],
   "source": []
  },
  {
   "cell_type": "code",
   "execution_count": null,
   "metadata": {},
   "outputs": [],
   "source": []
  },
  {
   "cell_type": "code",
   "execution_count": 52,
   "metadata": {},
   "outputs": [],
   "source": [
    "\n",
    "def generate_auction_activity(verbose=False, test=False):\n",
    "    \"\"\" Generates auction history parquet file with auctions of interest.\n",
    "        Reads and parses Beancounter auction history across all characters\n",
    "        Works the data into a labelled and cleaned pandas before parquet saves\n",
    "    \"\"\"\n",
    "    relevant_auction_types = ['failedAuctions', 'completedAuctions', 'completedBidsBuyouts']       \n",
    "\n",
    "    settings = get_general_settings()\n",
    "    data = read_lua('BeanCounter')\n",
    "\n",
    "    # Generates BeanCounters id:item_name dict\n",
    "    num_item = {}\n",
    "    for key, item_raw in data['BeanCounterDBNames'].items():\n",
    "        item_name = item_raw.split(\";\")[1]\n",
    "        num_item[key.split(\":\")[0]] = item_name\n",
    "\n",
    "    # Parses all characters relevant listings into flat list\n",
    "    parsed = []\n",
    "    for character, auction_data in data['BeanCounterDB']['Grobbulus'].items():\n",
    "        for auction_type, item_listings in auction_data.items():\n",
    "            if auction_type in relevant_auction_types: \n",
    "                auction_name = settings['auction_type_labels'][auction_type]      \n",
    "                for item_id, listings in item_listings.items():            \n",
    "                    for _, listing in listings.items():\n",
    "                        for auction in listing:\n",
    "                            parsed.append([auction_name] + [num_item[item_id]] + [character] + auction.split(';'))\n",
    "\n",
    "    # Setup as pandas dataframe, remove irrelevant columns\n",
    "    df = pd.DataFrame(parsed)\n",
    "    \n",
    "    df = df.drop([4,5,6,8,11,12], axis=1)\n",
    "\n",
    "    cols = [\"auction_type\", \"item\", \"character\", \"count\", \"price\", \"agent\", \"timestamp\"]\n",
    "    df.rename(columns=dict(zip(df.columns, cols)), inplace=True)\n",
    "\n",
    "    df = df[df['price']!='']\n",
    "    df['price'] = df['price'].astype(int)\n",
    "    df['count'] = df['count'].astype(int)\n",
    "\n",
    "    df['price_per'] = round(df['price'] / df['count'], 4)\n",
    "    df['timestamp'] = df['timestamp'].apply(lambda x: dt.fromtimestamp(int(x)))\n",
    "\n",
    "    return df\n",
    "    \n",
    "#     if test: return None # avoid saves\n",
    "#     if verbose: \n",
    "#         print(f\"Auction actions full repository. {df.shape[0]} records\")\n",
    "#     df.to_parquet('full/auction_activity.parquet', compression='gzip')"
   ]
  },
  {
   "cell_type": "code",
   "execution_count": 53,
   "metadata": {},
   "outputs": [],
   "source": [
    "df = generate_auction_activity()"
   ]
  },
  {
   "cell_type": "code",
   "execution_count": 58,
   "metadata": {},
   "outputs": [
    {
     "data": {
      "text/plain": [
       "0       2020-02-17 20:33:21\n",
       "1       2020-02-17 20:33:20\n",
       "2       2020-02-17 20:33:16\n",
       "3       2020-02-17 20:33:11\n",
       "4       2020-02-17 20:33:08\n",
       "                ...        \n",
       "32370   2020-05-20 17:14:50\n",
       "32371   2020-05-19 21:07:32\n",
       "32372   2020-05-19 21:07:29\n",
       "32373   2020-05-19 21:07:26\n",
       "32374   2020-05-19 21:07:24\n",
       "Name: timestamp, Length: 32374, dtype: datetime64[ns]"
      ]
     },
     "execution_count": 58,
     "metadata": {},
     "output_type": "execute_result"
    }
   ],
   "source": [
    "df['timestamp']"
   ]
  },
  {
   "cell_type": "code",
   "execution_count": null,
   "metadata": {},
   "outputs": [],
   "source": []
  },
  {
   "cell_type": "code",
   "execution_count": null,
   "metadata": {},
   "outputs": [],
   "source": []
  },
  {
   "cell_type": "code",
   "execution_count": null,
   "metadata": {},
   "outputs": [],
   "source": []
  },
  {
   "cell_type": "code",
   "execution_count": 8,
   "metadata": {},
   "outputs": [
    {
     "data": {
      "text/plain": [
       "buy_price     14679\n",
       "sell_price    13741\n",
       "failed         3954\n",
       "Name: auction_type, dtype: int64"
      ]
     },
     "execution_count": 8,
     "metadata": {},
     "output_type": "execute_result"
    }
   ],
   "source": [
    "df['auction_type'].value_counts()"
   ]
  },
  {
   "cell_type": "code",
   "execution_count": 17,
   "metadata": {},
   "outputs": [],
   "source": [
    "df = df.set_index('timestamp').sort_index()"
   ]
  },
  {
   "cell_type": "code",
   "execution_count": 29,
   "metadata": {},
   "outputs": [
    {
     "data": {
      "text/plain": [
       "<matplotlib.axes._subplots.AxesSubplot at 0x10c9342b0>"
      ]
     },
     "execution_count": 29,
     "metadata": {},
     "output_type": "execute_result"
    },
    {
     "data": {
      "image/png": "[encoded data removed]",
      "text/plain": [
       "<Figure size 842.4x595.44 with 1 Axes>"
      ]
     },
     "metadata": {},
     "output_type": "display_data"
    }
   ],
   "source": [
    "df[df['item']=='Gromsblood']['price_per'].rolling(10).mean().plot()"
   ]
  },
  {
   "cell_type": "code",
   "execution_count": 37,
   "metadata": {},
   "outputs": [
    {
     "data": {
      "text/plain": [
       "<matplotlib.axes._subplots.AxesSubplot at 0x1a215fa438>"
      ]
     },
     "execution_count": 37,
     "metadata": {},
     "output_type": "execute_result"
    },
    {
     "data": {
      "image/png": "[encoded data removed]",
      "text/plain": [
       "<Figure size 842.4x595.44 with 1 Axes>"
      ]
     },
     "metadata": {},
     "output_type": "display_data"
    }
   ],
   "source": [
    "df[df['item']=='Mighty Rage Potion']['price_per'].rolling(10).mean().plot()"
   ]
  },
  {
   "cell_type": "code",
   "execution_count": null,
   "metadata": {},
   "outputs": [],
   "source": []
  },
  {
   "cell_type": "code",
   "execution_count": 30,
   "metadata": {},
   "outputs": [],
   "source": [
    "def analyse_item_prices(verbose=False, full_pricing=False, test=False):\n",
    "    \"\"\"\n",
    "    Generate item prices based on all past auction activity and scans\n",
    "    \"\"\"\n",
    "\n",
    "    auction_activity = pd.read_parquet('full/auction_activity.parquet')\n",
    "    auction_activity = auction_activity[['item', 'timestamp', 'price_per', 'auction_type']]\n",
    "\n",
    "    auction_scan_minprice = pd.read_parquet('full/auction_scan_minprice.parquet')\n",
    "\n",
    "    df_auction_prices = auction_scan_minprice.append(auction_activity)\n",
    "\n",
    "    if full_pricing:\n",
    "        items = df_auction_prices['iten'].unique()\n",
    "    else:\n",
    "        items = load_items()\n",
    "\n",
    "    price_history = df_auction_prices.set_index(['item', 'timestamp']).sort_index()['price_per']\n",
    "\n",
    "    if full_pricing:\n",
    "        item_prices = {item: price_history.loc[item].ewm(alpha=0.2).mean().iloc[-1] for item in items}    \n",
    "    else:\n",
    "        # Only calculate for our item list; get backup price if present\n",
    "        item_prices = {}\n",
    "        for item, details in items.items():\n",
    "            price = details.get('backup_price')\n",
    "            if not price:\n",
    "                price = price_history.loc[item].ewm(alpha=0.2).mean().iloc[-1]\n",
    "            item_prices[item] = price\n",
    "    \n",
    "    item_prices = pd.DataFrame.from_dict(item_prices, orient='index')\n",
    "    item_prices.index.name = 'item'\n",
    "    item_prices.columns = ['market_price']\n",
    "\n",
    "    return item_prices"
   ]
  },
  {
   "cell_type": "code",
   "execution_count": 97,
   "metadata": {},
   "outputs": [],
   "source": [
    "item_prices = analyse_item_prices()"
   ]
  },
  {
   "cell_type": "code",
   "execution_count": null,
   "metadata": {},
   "outputs": [],
   "source": []
  },
  {
   "cell_type": "code",
   "execution_count": null,
   "metadata": {},
   "outputs": [],
   "source": []
  },
  {
   "cell_type": "code",
   "execution_count": 103,
   "metadata": {},
   "outputs": [
    {
     "data": {
      "text/plain": [
       "market_price    261.200833\n",
       "Name: Briarthorn, dtype: float64"
      ]
     },
     "execution_count": 103,
     "metadata": {},
     "output_type": "execute_result"
    }
   ],
   "source": [
    "item_prices.loc['Briarthorn']"
   ]
  },
  {
   "cell_type": "code",
   "execution_count": 36,
   "metadata": {},
   "outputs": [
    {
     "data": {
      "text/plain": [
       "market_price    9951.931769\n",
       "Name: Mighty Rage Potion, dtype: float64"
      ]
     },
     "execution_count": 36,
     "metadata": {},
     "output_type": "execute_result"
    }
   ],
   "source": [
    "item_prices.loc['Mighty Rage Potion'] / 3"
   ]
  },
  {
   "cell_type": "code",
   "execution_count": null,
   "metadata": {},
   "outputs": [],
   "source": []
  },
  {
   "cell_type": "code",
   "execution_count": null,
   "metadata": {},
   "outputs": [],
   "source": []
  },
  {
   "cell_type": "code",
   "execution_count": null,
   "metadata": {},
   "outputs": [],
   "source": [
    "#4.31 seconds save time (4/26)\n",
    "start = dt.now()\n",
    "print(start)\n",
    "\n",
    "generate_auction_scandata(verbose=True)\n",
    "generate_auction_activity(verbose=True)\n",
    "generate_inventory(verbose=True)\n",
    "analyse_item_prices(verbose=True)\n",
    "analyse_sales_performance()\n",
    "analyse_item_min_sell_price()\n",
    "analyse_sell_data()\n",
    "apply_buy_policy(additional_percent=1.01)\n",
    "\n",
    "end = dt.now()\n",
    "print(end)\n",
    "print(\"Time taken\", (end - start).total_seconds())\n"
   ]
  }
 ],
 "metadata": {
  "kernelspec": {
   "display_name": "Python 3",
   "language": "python",
   "name": "python3"
  },
  "language_info": {
   "codemirror_mode": {
    "name": "ipython",
    "version": 3
   },
   "file_extension": ".py",
   "mimetype": "text/x-python",
   "name": "python",
   "nbconvert_exporter": "python",
   "pygments_lexer": "ipython3",
   "version": "3.7.3"
  }
 },
 "nbformat": 4,
 "nbformat_minor": 2
}
