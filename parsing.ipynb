{
 "cells": [
  {
   "cell_type": "code",
   "execution_count": 571,
   "metadata": {},
   "outputs": [],
   "source": [
    "import yaml\n",
    "import pandas as pd\n",
    "import seaborn as sns\n",
    "from datetime import datetime as dt"
   ]
  },
  {
   "cell_type": "code",
   "execution_count": 572,
   "metadata": {},
   "outputs": [],
   "source": [
    "path_to_beancounter = '/Applications/World of Warcraft/_classic_/WTF/Account/BLUEM/SavedVariables/BeanCounter.lua'\n",
    "#path_to_beancounter = 'BeanCounter.lua'"
   ]
  },
  {
   "cell_type": "code",
   "execution_count": 573,
   "metadata": {},
   "outputs": [],
   "source": [
    "# Reads the beancounter database and converts all items:code into a dict\n",
    "with open(path_to_beancounter, 'r') as f:\n",
    "    beans = f.readlines()\n",
    "    \n",
    "start_db = [i for i, x in enumerate(beans) if 'BeanCounterDBNames' in x][0] + 1\n",
    "end_db = [i for i, x in enumerate(beans) if 'BeanCounterAccountDB' in x][0] - 1\n",
    "\n",
    "def parse_item(x):\n",
    "    return x.split(';')[1].split('\"')[0].replace('\"', '')\n",
    "\n",
    "def parse_code(x):\n",
    "    return x.split('\"')[1].split(':')[0]\n",
    "\n",
    "full_items = dict([(parse_item(x), parse_code(x)) for x in beans[start_db: end_db]])"
   ]
  },
  {
   "cell_type": "code",
   "execution_count": 574,
   "metadata": {},
   "outputs": [
    {
     "name": "stdout",
     "output_type": "stream",
     "text": [
      "I'm in the market for 55 items, and selling 21 potions and Elixirs\n"
     ]
    }
   ],
   "source": [
    "# Load my inventory list, ensure keys are typed up correctly\n",
    "# Gets relevant list of items\n",
    "with open(f'inventory.yaml', 'r') as f:\n",
    "    inventory = yaml.load(f, Loader=yaml.FullLoader)\n",
    "    \n",
    "for sku in inventory:\n",
    "    assert sku in full_items    \n",
    "    \n",
    "items = dict([(value, key) for key, value in full_items.items() if key in inventory])  \n",
    "\n",
    "pots = [x for i, x in items.items() if 'Potion' in x or 'Elixir' in x]\n",
    "\n",
    "print(f\"I'm in the market for {len(items)} items, and selling {len(pots)} potions and Elixirs\")"
   ]
  },
  {
   "cell_type": "code",
   "execution_count": 575,
   "metadata": {},
   "outputs": [],
   "source": [
    "# Find the relevant section of the file to do with actual auctions\n",
    "sale_start = [i for i, x in enumerate(beans) if 'Amazoni' in x][0] + 1\n",
    "sale_end = [i for i, x in enumerate(beans) if 'BeanCounterDBSettings' in x][0] - 6\n",
    "\n",
    "records = beans[sale_start: sale_end]"
   ]
  },
  {
   "cell_type": "code",
   "execution_count": 576,
   "metadata": {},
   "outputs": [],
   "source": [
    "# Pattern matching logic for records\n",
    "item_pattern_a = '\\t\\t\\t\\t[\"'\n",
    "item_pattern_b = '\"] = {\\n'\n",
    "\n",
    "detail_pattern_a = '\\t\\t\\t\\t\\t\\t\"'\n",
    "detail_pattern_b = '\", -- [1]\\n'\n",
    "\n",
    "def pattern_fit(line, pattern, left=True):\n",
    "    \"\"\"\n",
    "    Given a line of text, and a left/right pattern, return True or False for matching    \n",
    "    \"\"\"\n",
    "    if len(line) <= len(pattern):\n",
    "        return False\n",
    "    elif left:\n",
    "        return line[:len(pattern)] == pattern\n",
    "    else:\n",
    "        return line[-len(pattern):] == pattern\n",
    "    \n",
    "    \n",
    "def pattern_extract(line, patterns=[]):\n",
    "    return line[len(patterns[0]):len(line)-len(patterns[1])]\n",
    "\n",
    "\n",
    "def get_auction_type(record):\n",
    "    #if 'postedAuctions' in record: return 'postedAuctions'\n",
    "    #if 'failedAuctions' in record: return 'failedAuctions'\n",
    "    if 'completedBidsBuyouts' in record: return 'completedBidsBuyouts'\n",
    "    if 'completedAuctions' in record: return 'completedAuctions'"
   ]
  },
  {
   "cell_type": "code",
   "execution_count": 577,
   "metadata": {},
   "outputs": [],
   "source": [
    "auction_type = None\n",
    "item_id = None\n",
    "detail = None\n",
    "data = []\n",
    "\n",
    "for record in records:\n",
    "    \n",
    "    if get_auction_type(record):\n",
    "        auction_type = get_auction_type(record)\n",
    "        \n",
    "    if pattern_fit(record, item_pattern_a) and pattern_fit(record, item_pattern_b, left=False):\n",
    "        item_id = pattern_extract(record, [item_pattern_a, item_pattern_b])\n",
    "        \n",
    "    if '\\t\\t\\t\\t\\t\\t\"' in record and '\", -- [' in record:\n",
    "        detail = record.split('\\t\\t\\t\\t\\t\\t\"')[1].split('\", -- [')[0]\n",
    "    else:\n",
    "        detail = None\n",
    "        \n",
    "    if auction_type and item_id and detail:\n",
    "        row = [auction_type, item_id] + detail.split(';')\n",
    "        data.append(row)"
   ]
  },
  {
   "cell_type": "code",
   "execution_count": null,
   "metadata": {},
   "outputs": [],
   "source": []
  },
  {
   "cell_type": "code",
   "execution_count": 578,
   "metadata": {},
   "outputs": [],
   "source": [
    "df = pd.DataFrame(data)"
   ]
  },
  {
   "cell_type": "code",
   "execution_count": 579,
   "metadata": {},
   "outputs": [
    {
     "data": {
      "text/html": [
       "<div>\n",
       "<style scoped>\n",
       "    .dataframe tbody tr th:only-of-type {\n",
       "        vertical-align: middle;\n",
       "    }\n",
       "\n",
       "    .dataframe tbody tr th {\n",
       "        vertical-align: top;\n",
       "    }\n",
       "\n",
       "    .dataframe thead th {\n",
       "        text-align: right;\n",
       "    }\n",
       "</style>\n",
       "<table border=\"1\" class=\"dataframe\">\n",
       "  <thead>\n",
       "    <tr style=\"text-align: right;\">\n",
       "      <th></th>\n",
       "      <th>0</th>\n",
       "      <th>1</th>\n",
       "      <th>2</th>\n",
       "      <th>3</th>\n",
       "      <th>4</th>\n",
       "      <th>5</th>\n",
       "      <th>6</th>\n",
       "      <th>7</th>\n",
       "      <th>8</th>\n",
       "      <th>9</th>\n",
       "      <th>10</th>\n",
       "      <th>11</th>\n",
       "    </tr>\n",
       "  </thead>\n",
       "  <tbody>\n",
       "    <tr>\n",
       "      <th>0</th>\n",
       "      <td>completedBidsBuyouts</td>\n",
       "      <td>12006</td>\n",
       "      <td>1</td>\n",
       "      <td></td>\n",
       "      <td>636</td>\n",
       "      <td></td>\n",
       "      <td>81859</td>\n",
       "      <td>73673</td>\n",
       "      <td></td>\n",
       "      <td>1578161035</td>\n",
       "      <td></td>\n",
       "      <td>A</td>\n",
       "    </tr>\n",
       "    <tr>\n",
       "      <th>1</th>\n",
       "      <td>completedBidsBuyouts</td>\n",
       "      <td>6562</td>\n",
       "      <td>1</td>\n",
       "      <td></td>\n",
       "      <td>300</td>\n",
       "      <td></td>\n",
       "      <td>80000</td>\n",
       "      <td>70000</td>\n",
       "      <td></td>\n",
       "      <td>1578161040</td>\n",
       "      <td></td>\n",
       "      <td>A</td>\n",
       "    </tr>\n",
       "    <tr>\n",
       "      <th>2</th>\n",
       "      <td>completedBidsBuyouts</td>\n",
       "      <td>6371</td>\n",
       "      <td>1</td>\n",
       "      <td></td>\n",
       "      <td></td>\n",
       "      <td></td>\n",
       "      <td>5576</td>\n",
       "      <td>5438</td>\n",
       "      <td></td>\n",
       "      <td>1582929914</td>\n",
       "      <td></td>\n",
       "      <td>A</td>\n",
       "    </tr>\n",
       "    <tr>\n",
       "      <th>3</th>\n",
       "      <td>completedBidsBuyouts</td>\n",
       "      <td>6371</td>\n",
       "      <td>1</td>\n",
       "      <td></td>\n",
       "      <td></td>\n",
       "      <td></td>\n",
       "      <td>5576</td>\n",
       "      <td>5438</td>\n",
       "      <td></td>\n",
       "      <td>1582929914</td>\n",
       "      <td></td>\n",
       "      <td>A</td>\n",
       "    </tr>\n",
       "    <tr>\n",
       "      <th>4</th>\n",
       "      <td>completedBidsBuyouts</td>\n",
       "      <td>6371</td>\n",
       "      <td>1</td>\n",
       "      <td></td>\n",
       "      <td></td>\n",
       "      <td></td>\n",
       "      <td>5576</td>\n",
       "      <td>5438</td>\n",
       "      <td></td>\n",
       "      <td>1582929914</td>\n",
       "      <td></td>\n",
       "      <td>A</td>\n",
       "    </tr>\n",
       "    <tr>\n",
       "      <th>...</th>\n",
       "      <td>...</td>\n",
       "      <td>...</td>\n",
       "      <td>...</td>\n",
       "      <td>...</td>\n",
       "      <td>...</td>\n",
       "      <td>...</td>\n",
       "      <td>...</td>\n",
       "      <td>...</td>\n",
       "      <td>...</td>\n",
       "      <td>...</td>\n",
       "      <td>...</td>\n",
       "      <td>...</td>\n",
       "    </tr>\n",
       "    <tr>\n",
       "      <th>9373</th>\n",
       "      <td>completedAuctions</td>\n",
       "      <td>3824</td>\n",
       "      <td>1</td>\n",
       "      <td></td>\n",
       "      <td></td>\n",
       "      <td></td>\n",
       "      <td></td>\n",
       "      <td>30000</td>\n",
       "      <td>Gordonian</td>\n",
       "      <td>1578351263</td>\n",
       "      <td></td>\n",
       "      <td>A</td>\n",
       "    </tr>\n",
       "    <tr>\n",
       "      <th>9374</th>\n",
       "      <td>completedAuctions</td>\n",
       "      <td>3824</td>\n",
       "      <td>1</td>\n",
       "      <td></td>\n",
       "      <td></td>\n",
       "      <td></td>\n",
       "      <td></td>\n",
       "      <td>30000</td>\n",
       "      <td>Wispers</td>\n",
       "      <td>1578351261</td>\n",
       "      <td></td>\n",
       "      <td>A</td>\n",
       "    </tr>\n",
       "    <tr>\n",
       "      <th>9375</th>\n",
       "      <td>completedAuctions</td>\n",
       "      <td>3824</td>\n",
       "      <td>1</td>\n",
       "      <td></td>\n",
       "      <td></td>\n",
       "      <td></td>\n",
       "      <td></td>\n",
       "      <td>30000</td>\n",
       "      <td>Gordonian</td>\n",
       "      <td>1578351259</td>\n",
       "      <td></td>\n",
       "      <td>A</td>\n",
       "    </tr>\n",
       "    <tr>\n",
       "      <th>9376</th>\n",
       "      <td>completedAuctions</td>\n",
       "      <td>12808</td>\n",
       "      <td>1</td>\n",
       "      <td></td>\n",
       "      <td></td>\n",
       "      <td></td>\n",
       "      <td></td>\n",
       "      <td>11500</td>\n",
       "      <td>Carbene</td>\n",
       "      <td>1578516974</td>\n",
       "      <td></td>\n",
       "      <td>A</td>\n",
       "    </tr>\n",
       "    <tr>\n",
       "      <th>9377</th>\n",
       "      <td>completedAuctions</td>\n",
       "      <td>13476</td>\n",
       "      <td>1</td>\n",
       "      <td></td>\n",
       "      <td></td>\n",
       "      <td></td>\n",
       "      <td></td>\n",
       "      <td>220000</td>\n",
       "      <td>Ferriss</td>\n",
       "      <td>1581467181</td>\n",
       "      <td></td>\n",
       "      <td>A</td>\n",
       "    </tr>\n",
       "  </tbody>\n",
       "</table>\n",
       "<p>9378 rows × 12 columns</p>\n",
       "</div>"
      ],
      "text/plain": [
       "                         0      1  2 3     4 5       6       7          8  \\\n",
       "0     completedBidsBuyouts  12006  1     636     81859   73673              \n",
       "1     completedBidsBuyouts   6562  1     300     80000   70000              \n",
       "2     completedBidsBuyouts   6371  1              5576    5438              \n",
       "3     completedBidsBuyouts   6371  1              5576    5438              \n",
       "4     completedBidsBuyouts   6371  1              5576    5438              \n",
       "...                    ...    ... .. ..  ... ..    ...     ...        ...   \n",
       "9373     completedAuctions   3824  1                     30000  Gordonian   \n",
       "9374     completedAuctions   3824  1                     30000    Wispers   \n",
       "9375     completedAuctions   3824  1                     30000  Gordonian   \n",
       "9376     completedAuctions  12808  1                     11500    Carbene   \n",
       "9377     completedAuctions  13476  1                    220000    Ferriss   \n",
       "\n",
       "               9 10 11  \n",
       "0     1578161035     A  \n",
       "1     1578161040     A  \n",
       "2     1582929914     A  \n",
       "3     1582929914     A  \n",
       "4     1582929914     A  \n",
       "...          ... .. ..  \n",
       "9373  1578351263     A  \n",
       "9374  1578351261     A  \n",
       "9375  1578351259     A  \n",
       "9376  1578516974     A  \n",
       "9377  1581467181     A  \n",
       "\n",
       "[9378 rows x 12 columns]"
      ]
     },
     "execution_count": 579,
     "metadata": {},
     "output_type": "execute_result"
    }
   ],
   "source": [
    "df"
   ]
  },
  {
   "cell_type": "code",
   "execution_count": null,
   "metadata": {},
   "outputs": [],
   "source": []
  },
  {
   "cell_type": "code",
   "execution_count": null,
   "metadata": {},
   "outputs": [],
   "source": []
  },
  {
   "cell_type": "code",
   "execution_count": null,
   "metadata": {},
   "outputs": [],
   "source": []
  },
  {
   "cell_type": "code",
   "execution_count": null,
   "metadata": {},
   "outputs": [],
   "source": []
  },
  {
   "cell_type": "code",
   "execution_count": 580,
   "metadata": {},
   "outputs": [],
   "source": [
    "# Create dataframe and filter to only our items we care about\n",
    "df = pd.DataFrame(data)\n",
    "\n",
    "df = df[df[1].isin(items)]\n",
    "df[1] = df[1].replace(items)\n",
    "\n",
    "df = df.drop_duplicates()\n",
    "df = df.drop([3,4,5,6,10,11], axis=1)\n",
    "\n",
    "df[0] = df[0].replace({'completedBidsBuyouts': 'Bought', 'completedAuctions': 'Sold'})\n",
    "\n",
    "df.columns = ['Action', 'Item', 'Qty', 'Price', 'Player', 'Timestamp']\n",
    "\n",
    "df['Qty'] = df['Qty'].astype(int)\n",
    "df['Price'] = round(df['Price'].astype(int) / 10000, 4)\n",
    "\n",
    "# Make purchases negative\n",
    "df.loc[df[df['Action']=='Bought'].index, 'Price'] = - df.loc[df[df['Action']=='Bought'].index, 'Price']\n",
    "\n",
    "df['PricePer'] = round(df['Price'] / df['Qty'], 4)\n",
    "\n"
   ]
  },
  {
   "cell_type": "code",
   "execution_count": 581,
   "metadata": {},
   "outputs": [],
   "source": [
    "new_df = df.copy()"
   ]
  },
  {
   "cell_type": "code",
   "execution_count": 582,
   "metadata": {},
   "outputs": [],
   "source": [
    "df = new_df"
   ]
  },
  {
   "cell_type": "code",
   "execution_count": 583,
   "metadata": {},
   "outputs": [],
   "source": [
    "df = df.drop_duplicates().dropna()"
   ]
  },
  {
   "cell_type": "code",
   "execution_count": 584,
   "metadata": {},
   "outputs": [],
   "source": [
    "\n",
    "# Set index to timestamp\n",
    "df['Timestamp'] = df['Timestamp'].apply(lambda x: dt.fromtimestamp(int(x)))\n",
    "df = df.set_index('Timestamp').sort_index()\n",
    "\n",
    "sold = df[df['Action']=='Sold']\n",
    "bought = df[df['Action']=='Bought']"
   ]
  },
  {
   "cell_type": "code",
   "execution_count": 585,
   "metadata": {},
   "outputs": [
    {
     "data": {
      "text/html": [
       "<div>\n",
       "<style scoped>\n",
       "    .dataframe tbody tr th:only-of-type {\n",
       "        vertical-align: middle;\n",
       "    }\n",
       "\n",
       "    .dataframe tbody tr th {\n",
       "        vertical-align: top;\n",
       "    }\n",
       "\n",
       "    .dataframe thead th {\n",
       "        text-align: right;\n",
       "    }\n",
       "</style>\n",
       "<table border=\"1\" class=\"dataframe\">\n",
       "  <thead>\n",
       "    <tr style=\"text-align: right;\">\n",
       "      <th></th>\n",
       "      <th>Action</th>\n",
       "      <th>Item</th>\n",
       "      <th>Qty</th>\n",
       "      <th>Price</th>\n",
       "      <th>Player</th>\n",
       "      <th>PricePer</th>\n",
       "    </tr>\n",
       "    <tr>\n",
       "      <th>Timestamp</th>\n",
       "      <th></th>\n",
       "      <th></th>\n",
       "      <th></th>\n",
       "      <th></th>\n",
       "      <th></th>\n",
       "      <th></th>\n",
       "    </tr>\n",
       "  </thead>\n",
       "  <tbody>\n",
       "    <tr>\n",
       "      <th>2019-11-17 23:01:22</th>\n",
       "      <td>Bought</td>\n",
       "      <td>Major Healing Potion</td>\n",
       "      <td>2</td>\n",
       "      <td>-3.3600</td>\n",
       "      <td>Culstire</td>\n",
       "      <td>-1.6800</td>\n",
       "    </tr>\n",
       "    <tr>\n",
       "      <th>2019-11-17 23:01:30</th>\n",
       "      <td>Bought</td>\n",
       "      <td>Major Healing Potion</td>\n",
       "      <td>1</td>\n",
       "      <td>-1.6999</td>\n",
       "      <td>Azureaegis</td>\n",
       "      <td>-1.6999</td>\n",
       "    </tr>\n",
       "    <tr>\n",
       "      <th>2019-11-17 23:01:33</th>\n",
       "      <td>Bought</td>\n",
       "      <td>Major Healing Potion</td>\n",
       "      <td>1</td>\n",
       "      <td>-1.6999</td>\n",
       "      <td>Azureaegis</td>\n",
       "      <td>-1.6999</td>\n",
       "    </tr>\n",
       "    <tr>\n",
       "      <th>2019-11-17 23:01:35</th>\n",
       "      <td>Bought</td>\n",
       "      <td>Major Healing Potion</td>\n",
       "      <td>1</td>\n",
       "      <td>-1.6999</td>\n",
       "      <td>Azureaegis</td>\n",
       "      <td>-1.6999</td>\n",
       "    </tr>\n",
       "    <tr>\n",
       "      <th>2019-11-17 23:01:38</th>\n",
       "      <td>Bought</td>\n",
       "      <td>Major Healing Potion</td>\n",
       "      <td>1</td>\n",
       "      <td>-1.6999</td>\n",
       "      <td>Azureaegis</td>\n",
       "      <td>-1.6999</td>\n",
       "    </tr>\n",
       "    <tr>\n",
       "      <th>...</th>\n",
       "      <td>...</td>\n",
       "      <td>...</td>\n",
       "      <td>...</td>\n",
       "      <td>...</td>\n",
       "      <td>...</td>\n",
       "      <td>...</td>\n",
       "    </tr>\n",
       "    <tr>\n",
       "      <th>2020-03-10 19:57:25</th>\n",
       "      <td>Bought</td>\n",
       "      <td>Elixir of Greater Intellect</td>\n",
       "      <td>5</td>\n",
       "      <td>-3.5140</td>\n",
       "      <td></td>\n",
       "      <td>-0.7028</td>\n",
       "    </tr>\n",
       "    <tr>\n",
       "      <th>2020-03-10 19:57:55</th>\n",
       "      <td>Bought</td>\n",
       "      <td>Elixir of Superior Defense</td>\n",
       "      <td>1</td>\n",
       "      <td>-1.6097</td>\n",
       "      <td></td>\n",
       "      <td>-1.6097</td>\n",
       "    </tr>\n",
       "    <tr>\n",
       "      <th>2020-03-10 19:57:55</th>\n",
       "      <td>Bought</td>\n",
       "      <td>Elixir of Superior Defense</td>\n",
       "      <td>1</td>\n",
       "      <td>-1.7578</td>\n",
       "      <td></td>\n",
       "      <td>-1.7578</td>\n",
       "    </tr>\n",
       "    <tr>\n",
       "      <th>2020-03-10 19:57:59</th>\n",
       "      <td>Bought</td>\n",
       "      <td>Elixir of Superior Defense</td>\n",
       "      <td>1</td>\n",
       "      <td>-1.6097</td>\n",
       "      <td></td>\n",
       "      <td>-1.6097</td>\n",
       "    </tr>\n",
       "    <tr>\n",
       "      <th>2020-03-10 19:59:40</th>\n",
       "      <td>Bought</td>\n",
       "      <td>Greater Arcane Protection Potion</td>\n",
       "      <td>1</td>\n",
       "      <td>-1.5782</td>\n",
       "      <td></td>\n",
       "      <td>-1.5782</td>\n",
       "    </tr>\n",
       "  </tbody>\n",
       "</table>\n",
       "<p>5650 rows × 6 columns</p>\n",
       "</div>"
      ],
      "text/plain": [
       "                     Action                              Item  Qty   Price  \\\n",
       "Timestamp                                                                    \n",
       "2019-11-17 23:01:22  Bought              Major Healing Potion    2 -3.3600   \n",
       "2019-11-17 23:01:30  Bought              Major Healing Potion    1 -1.6999   \n",
       "2019-11-17 23:01:33  Bought              Major Healing Potion    1 -1.6999   \n",
       "2019-11-17 23:01:35  Bought              Major Healing Potion    1 -1.6999   \n",
       "2019-11-17 23:01:38  Bought              Major Healing Potion    1 -1.6999   \n",
       "...                     ...                               ...  ...     ...   \n",
       "2020-03-10 19:57:25  Bought       Elixir of Greater Intellect    5 -3.5140   \n",
       "2020-03-10 19:57:55  Bought        Elixir of Superior Defense    1 -1.6097   \n",
       "2020-03-10 19:57:55  Bought        Elixir of Superior Defense    1 -1.7578   \n",
       "2020-03-10 19:57:59  Bought        Elixir of Superior Defense    1 -1.6097   \n",
       "2020-03-10 19:59:40  Bought  Greater Arcane Protection Potion    1 -1.5782   \n",
       "\n",
       "                         Player  PricePer  \n",
       "Timestamp                                  \n",
       "2019-11-17 23:01:22    Culstire   -1.6800  \n",
       "2019-11-17 23:01:30  Azureaegis   -1.6999  \n",
       "2019-11-17 23:01:33  Azureaegis   -1.6999  \n",
       "2019-11-17 23:01:35  Azureaegis   -1.6999  \n",
       "2019-11-17 23:01:38  Azureaegis   -1.6999  \n",
       "...                         ...       ...  \n",
       "2020-03-10 19:57:25               -0.7028  \n",
       "2020-03-10 19:57:55               -1.6097  \n",
       "2020-03-10 19:57:55               -1.7578  \n",
       "2020-03-10 19:57:59               -1.6097  \n",
       "2020-03-10 19:59:40               -1.5782  \n",
       "\n",
       "[5650 rows x 6 columns]"
      ]
     },
     "execution_count": 585,
     "metadata": {},
     "output_type": "execute_result"
    }
   ],
   "source": [
    "df"
   ]
  },
  {
   "cell_type": "markdown",
   "metadata": {},
   "source": [
    "## Analysis"
   ]
  },
  {
   "cell_type": "markdown",
   "metadata": {},
   "source": [
    "### Sales activity"
   ]
  },
  {
   "cell_type": "code",
   "execution_count": null,
   "metadata": {},
   "outputs": [],
   "source": []
  },
  {
   "cell_type": "code",
   "execution_count": 586,
   "metadata": {},
   "outputs": [
    {
     "data": {
      "text/plain": [
       "<matplotlib.axes._subplots.AxesSubplot at 0x1a4e698940>"
      ]
     },
     "execution_count": 586,
     "metadata": {},
     "output_type": "execute_result"
    },
    {
     "data": {
      "image/png": "[encoded data removed]",
      "text/plain": [
       "<Figure size 432x288 with 1 Axes>"
      ]
     },
     "metadata": {
      "needs_background": "light"
     },
     "output_type": "display_data"
    }
   ],
   "source": [
    "df['Qty'].cumsum().plot(title='Raw units bought and sold')"
   ]
  },
  {
   "cell_type": "code",
   "execution_count": 587,
   "metadata": {},
   "outputs": [
    {
     "data": {
      "text/plain": [
       "<matplotlib.axes._subplots.AxesSubplot at 0x1a4f612a20>"
      ]
     },
     "execution_count": 587,
     "metadata": {},
     "output_type": "execute_result"
    },
    {
     "data": {
      "image/png": "[encoded data removed]",
      "text/plain": [
       "<Figure size 432x288 with 1 Axes>"
      ]
     },
     "metadata": {
      "needs_background": "light"
     },
     "output_type": "display_data"
    }
   ],
   "source": [
    "sold['Price'].cumsum().plot(title='Raw Sales over time')"
   ]
  },
  {
   "cell_type": "code",
   "execution_count": 588,
   "metadata": {},
   "outputs": [
    {
     "data": {
      "text/plain": [
       "<matplotlib.axes._subplots.AxesSubplot at 0x1a4f70d828>"
      ]
     },
     "execution_count": 588,
     "metadata": {},
     "output_type": "execute_result"
    },
    {
     "data": {
      "image/png": "[encoded data removed]",
      "text/plain": [
       "<Figure size 432x288 with 1 Axes>"
      ]
     },
     "metadata": {
      "needs_background": "light"
     },
     "output_type": "display_data"
    }
   ],
   "source": [
    "df.loc['2020-01-01':]['Price'].cumsum().plot(title='Recent profit')"
   ]
  },
  {
   "cell_type": "code",
   "execution_count": 589,
   "metadata": {},
   "outputs": [
    {
     "data": {
      "text/plain": [
       "151.3169202898543"
      ]
     },
     "execution_count": 589,
     "metadata": {},
     "output_type": "execute_result"
    }
   ],
   "source": [
    "# Gold per week based on since year start\n",
    "df.loc['2020-01-01':]['Price'].cumsum()[-1] / ((df.index.max() - pd.to_datetime('2020-01-01')).days / 7)"
   ]
  },
  {
   "cell_type": "code",
   "execution_count": 590,
   "metadata": {},
   "outputs": [
    {
     "data": {
      "text/plain": [
       "179.3519599999998"
      ]
     },
     "execution_count": 590,
     "metadata": {},
     "output_type": "execute_result"
    }
   ],
   "source": [
    "# Gold per week based on since start alchy hording\n",
    "df.loc['2020-02-04':]['Price'].cumsum()[-1] / ((df.index.max() - pd.to_datetime('2020-02-04')).days / 7)"
   ]
  },
  {
   "cell_type": "code",
   "execution_count": null,
   "metadata": {},
   "outputs": [],
   "source": []
  },
  {
   "cell_type": "markdown",
   "metadata": {},
   "source": [
    "### Profit breakdown"
   ]
  },
  {
   "cell_type": "code",
   "execution_count": 591,
   "metadata": {},
   "outputs": [
    {
     "data": {
      "text/html": [
       "<div>\n",
       "<style scoped>\n",
       "    .dataframe tbody tr th:only-of-type {\n",
       "        vertical-align: middle;\n",
       "    }\n",
       "\n",
       "    .dataframe tbody tr th {\n",
       "        vertical-align: top;\n",
       "    }\n",
       "\n",
       "    .dataframe thead th {\n",
       "        text-align: right;\n",
       "    }\n",
       "</style>\n",
       "<table border=\"1\" class=\"dataframe\">\n",
       "  <thead>\n",
       "    <tr style=\"text-align: right;\">\n",
       "      <th></th>\n",
       "      <th>Action</th>\n",
       "      <th>Item</th>\n",
       "      <th>Qty</th>\n",
       "      <th>Price</th>\n",
       "      <th>Player</th>\n",
       "      <th>PricePer</th>\n",
       "    </tr>\n",
       "    <tr>\n",
       "      <th>Timestamp</th>\n",
       "      <th></th>\n",
       "      <th></th>\n",
       "      <th></th>\n",
       "      <th></th>\n",
       "      <th></th>\n",
       "      <th></th>\n",
       "    </tr>\n",
       "  </thead>\n",
       "  <tbody>\n",
       "    <tr>\n",
       "      <th>2019-11-17 23:01:22</th>\n",
       "      <td>Bought</td>\n",
       "      <td>Major Healing Potion</td>\n",
       "      <td>2</td>\n",
       "      <td>-3.3600</td>\n",
       "      <td>Culstire</td>\n",
       "      <td>-1.6800</td>\n",
       "    </tr>\n",
       "    <tr>\n",
       "      <th>2019-11-17 23:01:30</th>\n",
       "      <td>Bought</td>\n",
       "      <td>Major Healing Potion</td>\n",
       "      <td>1</td>\n",
       "      <td>-1.6999</td>\n",
       "      <td>Azureaegis</td>\n",
       "      <td>-1.6999</td>\n",
       "    </tr>\n",
       "    <tr>\n",
       "      <th>2019-11-17 23:01:33</th>\n",
       "      <td>Bought</td>\n",
       "      <td>Major Healing Potion</td>\n",
       "      <td>1</td>\n",
       "      <td>-1.6999</td>\n",
       "      <td>Azureaegis</td>\n",
       "      <td>-1.6999</td>\n",
       "    </tr>\n",
       "    <tr>\n",
       "      <th>2019-11-17 23:01:35</th>\n",
       "      <td>Bought</td>\n",
       "      <td>Major Healing Potion</td>\n",
       "      <td>1</td>\n",
       "      <td>-1.6999</td>\n",
       "      <td>Azureaegis</td>\n",
       "      <td>-1.6999</td>\n",
       "    </tr>\n",
       "    <tr>\n",
       "      <th>2019-11-17 23:01:38</th>\n",
       "      <td>Bought</td>\n",
       "      <td>Major Healing Potion</td>\n",
       "      <td>1</td>\n",
       "      <td>-1.6999</td>\n",
       "      <td>Azureaegis</td>\n",
       "      <td>-1.6999</td>\n",
       "    </tr>\n",
       "    <tr>\n",
       "      <th>...</th>\n",
       "      <td>...</td>\n",
       "      <td>...</td>\n",
       "      <td>...</td>\n",
       "      <td>...</td>\n",
       "      <td>...</td>\n",
       "      <td>...</td>\n",
       "    </tr>\n",
       "    <tr>\n",
       "      <th>2020-03-10 19:57:25</th>\n",
       "      <td>Bought</td>\n",
       "      <td>Elixir of Greater Intellect</td>\n",
       "      <td>5</td>\n",
       "      <td>-3.5140</td>\n",
       "      <td></td>\n",
       "      <td>-0.7028</td>\n",
       "    </tr>\n",
       "    <tr>\n",
       "      <th>2020-03-10 19:57:55</th>\n",
       "      <td>Bought</td>\n",
       "      <td>Elixir of Superior Defense</td>\n",
       "      <td>1</td>\n",
       "      <td>-1.6097</td>\n",
       "      <td></td>\n",
       "      <td>-1.6097</td>\n",
       "    </tr>\n",
       "    <tr>\n",
       "      <th>2020-03-10 19:57:55</th>\n",
       "      <td>Bought</td>\n",
       "      <td>Elixir of Superior Defense</td>\n",
       "      <td>1</td>\n",
       "      <td>-1.7578</td>\n",
       "      <td></td>\n",
       "      <td>-1.7578</td>\n",
       "    </tr>\n",
       "    <tr>\n",
       "      <th>2020-03-10 19:57:59</th>\n",
       "      <td>Bought</td>\n",
       "      <td>Elixir of Superior Defense</td>\n",
       "      <td>1</td>\n",
       "      <td>-1.6097</td>\n",
       "      <td></td>\n",
       "      <td>-1.6097</td>\n",
       "    </tr>\n",
       "    <tr>\n",
       "      <th>2020-03-10 19:59:40</th>\n",
       "      <td>Bought</td>\n",
       "      <td>Greater Arcane Protection Potion</td>\n",
       "      <td>1</td>\n",
       "      <td>-1.5782</td>\n",
       "      <td></td>\n",
       "      <td>-1.5782</td>\n",
       "    </tr>\n",
       "  </tbody>\n",
       "</table>\n",
       "<p>5650 rows × 6 columns</p>\n",
       "</div>"
      ],
      "text/plain": [
       "                     Action                              Item  Qty   Price  \\\n",
       "Timestamp                                                                    \n",
       "2019-11-17 23:01:22  Bought              Major Healing Potion    2 -3.3600   \n",
       "2019-11-17 23:01:30  Bought              Major Healing Potion    1 -1.6999   \n",
       "2019-11-17 23:01:33  Bought              Major Healing Potion    1 -1.6999   \n",
       "2019-11-17 23:01:35  Bought              Major Healing Potion    1 -1.6999   \n",
       "2019-11-17 23:01:38  Bought              Major Healing Potion    1 -1.6999   \n",
       "...                     ...                               ...  ...     ...   \n",
       "2020-03-10 19:57:25  Bought       Elixir of Greater Intellect    5 -3.5140   \n",
       "2020-03-10 19:57:55  Bought        Elixir of Superior Defense    1 -1.6097   \n",
       "2020-03-10 19:57:55  Bought        Elixir of Superior Defense    1 -1.7578   \n",
       "2020-03-10 19:57:59  Bought        Elixir of Superior Defense    1 -1.6097   \n",
       "2020-03-10 19:59:40  Bought  Greater Arcane Protection Potion    1 -1.5782   \n",
       "\n",
       "                         Player  PricePer  \n",
       "Timestamp                                  \n",
       "2019-11-17 23:01:22    Culstire   -1.6800  \n",
       "2019-11-17 23:01:30  Azureaegis   -1.6999  \n",
       "2019-11-17 23:01:33  Azureaegis   -1.6999  \n",
       "2019-11-17 23:01:35  Azureaegis   -1.6999  \n",
       "2019-11-17 23:01:38  Azureaegis   -1.6999  \n",
       "...                         ...       ...  \n",
       "2020-03-10 19:57:25               -0.7028  \n",
       "2020-03-10 19:57:55               -1.6097  \n",
       "2020-03-10 19:57:55               -1.7578  \n",
       "2020-03-10 19:57:59               -1.6097  \n",
       "2020-03-10 19:59:40               -1.5782  \n",
       "\n",
       "[5650 rows x 6 columns]"
      ]
     },
     "execution_count": 591,
     "metadata": {},
     "output_type": "execute_result"
    }
   ],
   "source": [
    "df"
   ]
  },
  {
   "cell_type": "code",
   "execution_count": null,
   "metadata": {},
   "outputs": [],
   "source": []
  },
  {
   "cell_type": "code",
   "execution_count": 592,
   "metadata": {},
   "outputs": [],
   "source": [
    "bought_qty = bought.groupby('Item').sum()['Qty']\n",
    "bought_qty.name = 'B_Qty'\n",
    "\n",
    "bought_price = bought.groupby('Item').mean()['PricePer']\n",
    "bought_price.name = 'B_Price'\n",
    "\n",
    "bought_total_sales = bought.groupby('Item').sum()['Price']\n",
    "bought_total_sales.name = 'B_Sales'\n",
    "\n",
    "\n",
    "sold_qty = sold.groupby('Item').sum()['Qty']\n",
    "sold_qty.name = 'S_Qty'\n",
    "\n",
    "sold_price = sold.groupby('Item').mean()['PricePer']\n",
    "sold_price.name = 'S_Price'\n",
    "\n",
    "sold_total_sales = sold.groupby('Item').sum()['Price']\n",
    "sold_total_sales.name = 'S_Sales'\n",
    "\n",
    "\n",
    "sales = pd.concat([bought_qty, bought_price, bought_total_sales, sold_qty, sold_price, sold_total_sales], \n",
    "                  axis=1, sort=True)\n",
    "\n",
    "sales['Volume'] = sales['B_Qty'] + sales['S_Qty']\n",
    "\n",
    "sales['Profit%'] = ((sales['S_Price'] / - sales['B_Price']) - 1) * 100 \n",
    "\n",
    "sales = sales.fillna(0)\n",
    "\n",
    "sales['Gross_Profit'] = (sales['S_Qty'] * sales['S_Price']) + (sales['B_Qty'] * sales['B_Price'])\n",
    "\n",
    "sales['True_Profit'] = (sales['S_Sales'] + sales['B_Sales'])\n",
    "\n",
    "\n",
    "sales['Weighted_Price'] = ((sales['S_Qty'] * sales['S_Price']) + (\n",
    "                            sales['B_Qty'] * -sales['B_Price'])\n",
    "                          ) / (sales['S_Qty'] + sales['B_Qty'])\n",
    "\n",
    "sales = sales.round(2)\n"
   ]
  },
  {
   "cell_type": "code",
   "execution_count": 593,
   "metadata": {},
   "outputs": [
    {
     "data": {
      "text/html": [
       "<div>\n",
       "<style scoped>\n",
       "    .dataframe tbody tr th:only-of-type {\n",
       "        vertical-align: middle;\n",
       "    }\n",
       "\n",
       "    .dataframe tbody tr th {\n",
       "        vertical-align: top;\n",
       "    }\n",
       "\n",
       "    .dataframe thead th {\n",
       "        text-align: right;\n",
       "    }\n",
       "</style>\n",
       "<table border=\"1\" class=\"dataframe\">\n",
       "  <thead>\n",
       "    <tr style=\"text-align: right;\">\n",
       "      <th></th>\n",
       "      <th>B_Qty</th>\n",
       "      <th>B_Price</th>\n",
       "      <th>B_Sales</th>\n",
       "      <th>S_Qty</th>\n",
       "      <th>S_Price</th>\n",
       "      <th>S_Sales</th>\n",
       "      <th>Volume</th>\n",
       "      <th>Profit%</th>\n",
       "      <th>Gross_Profit</th>\n",
       "      <th>True_Profit</th>\n",
       "      <th>Weighted_Price</th>\n",
       "    </tr>\n",
       "  </thead>\n",
       "  <tbody>\n",
       "    <tr>\n",
       "      <th>Fire Protection Potion</th>\n",
       "      <td>189.0</td>\n",
       "      <td>-2.16</td>\n",
       "      <td>-437.61</td>\n",
       "      <td>960.0</td>\n",
       "      <td>2.09</td>\n",
       "      <td>2080.20</td>\n",
       "      <td>1149.0</td>\n",
       "      <td>-2.93</td>\n",
       "      <td>1602.78</td>\n",
       "      <td>1642.60</td>\n",
       "      <td>2.10</td>\n",
       "    </tr>\n",
       "    <tr>\n",
       "      <th>Mighty Rage Potion</th>\n",
       "      <td>13.0</td>\n",
       "      <td>-1.26</td>\n",
       "      <td>-15.63</td>\n",
       "      <td>367.0</td>\n",
       "      <td>1.04</td>\n",
       "      <td>379.42</td>\n",
       "      <td>380.0</td>\n",
       "      <td>-17.31</td>\n",
       "      <td>366.51</td>\n",
       "      <td>363.79</td>\n",
       "      <td>1.05</td>\n",
       "    </tr>\n",
       "    <tr>\n",
       "      <th>Elixir of Giants</th>\n",
       "      <td>37.0</td>\n",
       "      <td>-0.79</td>\n",
       "      <td>-29.43</td>\n",
       "      <td>277.0</td>\n",
       "      <td>0.94</td>\n",
       "      <td>256.07</td>\n",
       "      <td>314.0</td>\n",
       "      <td>17.80</td>\n",
       "      <td>229.81</td>\n",
       "      <td>226.64</td>\n",
       "      <td>0.92</td>\n",
       "    </tr>\n",
       "    <tr>\n",
       "      <th>Elixir of the Mongoose</th>\n",
       "      <td>77.0</td>\n",
       "      <td>-4.02</td>\n",
       "      <td>-315.79</td>\n",
       "      <td>251.0</td>\n",
       "      <td>5.42</td>\n",
       "      <td>1376.93</td>\n",
       "      <td>328.0</td>\n",
       "      <td>34.81</td>\n",
       "      <td>1050.87</td>\n",
       "      <td>1061.14</td>\n",
       "      <td>5.09</td>\n",
       "    </tr>\n",
       "    <tr>\n",
       "      <th>Elixir of Greater Agility</th>\n",
       "      <td>5.0</td>\n",
       "      <td>-1.04</td>\n",
       "      <td>-4.74</td>\n",
       "      <td>234.0</td>\n",
       "      <td>0.88</td>\n",
       "      <td>202.18</td>\n",
       "      <td>239.0</td>\n",
       "      <td>-15.68</td>\n",
       "      <td>200.16</td>\n",
       "      <td>197.45</td>\n",
       "      <td>0.88</td>\n",
       "    </tr>\n",
       "    <tr>\n",
       "      <th>Greater Arcane Protection Potion</th>\n",
       "      <td>39.0</td>\n",
       "      <td>-1.43</td>\n",
       "      <td>-56.30</td>\n",
       "      <td>161.0</td>\n",
       "      <td>1.21</td>\n",
       "      <td>196.86</td>\n",
       "      <td>200.0</td>\n",
       "      <td>-15.25</td>\n",
       "      <td>139.63</td>\n",
       "      <td>140.56</td>\n",
       "      <td>1.26</td>\n",
       "    </tr>\n",
       "    <tr>\n",
       "      <th>Elixir of Superior Defense</th>\n",
       "      <td>17.0</td>\n",
       "      <td>-1.67</td>\n",
       "      <td>-28.83</td>\n",
       "      <td>126.0</td>\n",
       "      <td>1.14</td>\n",
       "      <td>145.03</td>\n",
       "      <td>143.0</td>\n",
       "      <td>-32.11</td>\n",
       "      <td>114.74</td>\n",
       "      <td>116.20</td>\n",
       "      <td>1.20</td>\n",
       "    </tr>\n",
       "    <tr>\n",
       "      <th>Greater Shadow Protection Potion</th>\n",
       "      <td>20.0</td>\n",
       "      <td>-7.83</td>\n",
       "      <td>-157.52</td>\n",
       "      <td>109.0</td>\n",
       "      <td>7.48</td>\n",
       "      <td>822.11</td>\n",
       "      <td>129.0</td>\n",
       "      <td>-4.44</td>\n",
       "      <td>658.58</td>\n",
       "      <td>664.59</td>\n",
       "      <td>7.53</td>\n",
       "    </tr>\n",
       "    <tr>\n",
       "      <th>Greater Stoneshield Potion</th>\n",
       "      <td>18.0</td>\n",
       "      <td>-1.44</td>\n",
       "      <td>-25.89</td>\n",
       "      <td>103.0</td>\n",
       "      <td>1.17</td>\n",
       "      <td>113.77</td>\n",
       "      <td>121.0</td>\n",
       "      <td>-18.45</td>\n",
       "      <td>94.92</td>\n",
       "      <td>87.89</td>\n",
       "      <td>1.21</td>\n",
       "    </tr>\n",
       "    <tr>\n",
       "      <th>Arcane Elixir</th>\n",
       "      <td>3.0</td>\n",
       "      <td>-0.91</td>\n",
       "      <td>-2.74</td>\n",
       "      <td>81.0</td>\n",
       "      <td>0.94</td>\n",
       "      <td>81.13</td>\n",
       "      <td>84.0</td>\n",
       "      <td>3.33</td>\n",
       "      <td>73.70</td>\n",
       "      <td>78.39</td>\n",
       "      <td>0.94</td>\n",
       "    </tr>\n",
       "    <tr>\n",
       "      <th>Free Action Potion</th>\n",
       "      <td>32.0</td>\n",
       "      <td>-1.20</td>\n",
       "      <td>-35.02</td>\n",
       "      <td>81.0</td>\n",
       "      <td>1.27</td>\n",
       "      <td>103.28</td>\n",
       "      <td>113.0</td>\n",
       "      <td>5.76</td>\n",
       "      <td>64.30</td>\n",
       "      <td>68.26</td>\n",
       "      <td>1.25</td>\n",
       "    </tr>\n",
       "    <tr>\n",
       "      <th>Elixir of Fortitude</th>\n",
       "      <td>10.0</td>\n",
       "      <td>-1.03</td>\n",
       "      <td>-7.78</td>\n",
       "      <td>61.0</td>\n",
       "      <td>1.41</td>\n",
       "      <td>85.74</td>\n",
       "      <td>71.0</td>\n",
       "      <td>36.46</td>\n",
       "      <td>75.44</td>\n",
       "      <td>77.96</td>\n",
       "      <td>1.35</td>\n",
       "    </tr>\n",
       "    <tr>\n",
       "      <th>Swiftness Potion</th>\n",
       "      <td>0.0</td>\n",
       "      <td>0.00</td>\n",
       "      <td>0.00</td>\n",
       "      <td>54.0</td>\n",
       "      <td>0.75</td>\n",
       "      <td>39.96</td>\n",
       "      <td>0.0</td>\n",
       "      <td>0.00</td>\n",
       "      <td>40.42</td>\n",
       "      <td>39.96</td>\n",
       "      <td>0.75</td>\n",
       "    </tr>\n",
       "    <tr>\n",
       "      <th>Limited Invulnerability Potion</th>\n",
       "      <td>1.0</td>\n",
       "      <td>-2.19</td>\n",
       "      <td>-2.19</td>\n",
       "      <td>54.0</td>\n",
       "      <td>2.19</td>\n",
       "      <td>121.58</td>\n",
       "      <td>55.0</td>\n",
       "      <td>-0.16</td>\n",
       "      <td>115.86</td>\n",
       "      <td>119.39</td>\n",
       "      <td>2.19</td>\n",
       "    </tr>\n",
       "    <tr>\n",
       "      <th>Superior Mana Potion</th>\n",
       "      <td>0.0</td>\n",
       "      <td>0.00</td>\n",
       "      <td>0.00</td>\n",
       "      <td>53.0</td>\n",
       "      <td>1.37</td>\n",
       "      <td>74.89</td>\n",
       "      <td>0.0</td>\n",
       "      <td>0.00</td>\n",
       "      <td>72.70</td>\n",
       "      <td>74.89</td>\n",
       "      <td>1.37</td>\n",
       "    </tr>\n",
       "    <tr>\n",
       "      <th>Invisibility Potion</th>\n",
       "      <td>22.0</td>\n",
       "      <td>-2.22</td>\n",
       "      <td>-42.71</td>\n",
       "      <td>46.0</td>\n",
       "      <td>2.24</td>\n",
       "      <td>99.84</td>\n",
       "      <td>68.0</td>\n",
       "      <td>0.92</td>\n",
       "      <td>54.11</td>\n",
       "      <td>57.13</td>\n",
       "      <td>2.23</td>\n",
       "    </tr>\n",
       "    <tr>\n",
       "      <th>Elixir of Shadow Power</th>\n",
       "      <td>1.0</td>\n",
       "      <td>-3.50</td>\n",
       "      <td>-3.50</td>\n",
       "      <td>44.0</td>\n",
       "      <td>3.27</td>\n",
       "      <td>143.74</td>\n",
       "      <td>45.0</td>\n",
       "      <td>-6.66</td>\n",
       "      <td>140.24</td>\n",
       "      <td>140.24</td>\n",
       "      <td>3.27</td>\n",
       "    </tr>\n",
       "    <tr>\n",
       "      <th>Elixir of Greater Intellect</th>\n",
       "      <td>36.0</td>\n",
       "      <td>-0.56</td>\n",
       "      <td>-18.73</td>\n",
       "      <td>32.0</td>\n",
       "      <td>0.68</td>\n",
       "      <td>23.65</td>\n",
       "      <td>68.0</td>\n",
       "      <td>19.87</td>\n",
       "      <td>1.33</td>\n",
       "      <td>4.92</td>\n",
       "      <td>0.62</td>\n",
       "    </tr>\n",
       "    <tr>\n",
       "      <th>Superior Healing Potion</th>\n",
       "      <td>158.0</td>\n",
       "      <td>-0.10</td>\n",
       "      <td>-14.40</td>\n",
       "      <td>19.0</td>\n",
       "      <td>0.14</td>\n",
       "      <td>2.67</td>\n",
       "      <td>177.0</td>\n",
       "      <td>41.25</td>\n",
       "      <td>-13.04</td>\n",
       "      <td>-11.73</td>\n",
       "      <td>0.10</td>\n",
       "    </tr>\n",
       "    <tr>\n",
       "      <th>Elixir of Greater Defense</th>\n",
       "      <td>2.0</td>\n",
       "      <td>-1.21</td>\n",
       "      <td>-2.42</td>\n",
       "      <td>16.0</td>\n",
       "      <td>0.81</td>\n",
       "      <td>12.95</td>\n",
       "      <td>18.0</td>\n",
       "      <td>-33.05</td>\n",
       "      <td>10.53</td>\n",
       "      <td>10.53</td>\n",
       "      <td>0.85</td>\n",
       "    </tr>\n",
       "    <tr>\n",
       "      <th>Major Healing Potion</th>\n",
       "      <td>113.0</td>\n",
       "      <td>-1.03</td>\n",
       "      <td>-90.09</td>\n",
       "      <td>11.0</td>\n",
       "      <td>0.71</td>\n",
       "      <td>7.80</td>\n",
       "      <td>124.0</td>\n",
       "      <td>-31.19</td>\n",
       "      <td>-108.62</td>\n",
       "      <td>-82.29</td>\n",
       "      <td>1.00</td>\n",
       "    </tr>\n",
       "  </tbody>\n",
       "</table>\n",
       "</div>"
      ],
      "text/plain": [
       "                                  B_Qty  B_Price  B_Sales  S_Qty  S_Price  \\\n",
       "Fire Protection Potion            189.0    -2.16  -437.61  960.0     2.09   \n",
       "Mighty Rage Potion                 13.0    -1.26   -15.63  367.0     1.04   \n",
       "Elixir of Giants                   37.0    -0.79   -29.43  277.0     0.94   \n",
       "Elixir of the Mongoose             77.0    -4.02  -315.79  251.0     5.42   \n",
       "Elixir of Greater Agility           5.0    -1.04    -4.74  234.0     0.88   \n",
       "Greater Arcane Protection Potion   39.0    -1.43   -56.30  161.0     1.21   \n",
       "Elixir of Superior Defense         17.0    -1.67   -28.83  126.0     1.14   \n",
       "Greater Shadow Protection Potion   20.0    -7.83  -157.52  109.0     7.48   \n",
       "Greater Stoneshield Potion         18.0    -1.44   -25.89  103.0     1.17   \n",
       "Arcane Elixir                       3.0    -0.91    -2.74   81.0     0.94   \n",
       "Free Action Potion                 32.0    -1.20   -35.02   81.0     1.27   \n",
       "Elixir of Fortitude                10.0    -1.03    -7.78   61.0     1.41   \n",
       "Swiftness Potion                    0.0     0.00     0.00   54.0     0.75   \n",
       "Limited Invulnerability Potion      1.0    -2.19    -2.19   54.0     2.19   \n",
       "Superior Mana Potion                0.0     0.00     0.00   53.0     1.37   \n",
       "Invisibility Potion                22.0    -2.22   -42.71   46.0     2.24   \n",
       "Elixir of Shadow Power              1.0    -3.50    -3.50   44.0     3.27   \n",
       "Elixir of Greater Intellect        36.0    -0.56   -18.73   32.0     0.68   \n",
       "Superior Healing Potion           158.0    -0.10   -14.40   19.0     0.14   \n",
       "Elixir of Greater Defense           2.0    -1.21    -2.42   16.0     0.81   \n",
       "Major Healing Potion              113.0    -1.03   -90.09   11.0     0.71   \n",
       "\n",
       "                                  S_Sales  Volume  Profit%  Gross_Profit  \\\n",
       "Fire Protection Potion            2080.20  1149.0    -2.93       1602.78   \n",
       "Mighty Rage Potion                 379.42   380.0   -17.31        366.51   \n",
       "Elixir of Giants                   256.07   314.0    17.80        229.81   \n",
       "Elixir of the Mongoose            1376.93   328.0    34.81       1050.87   \n",
       "Elixir of Greater Agility          202.18   239.0   -15.68        200.16   \n",
       "Greater Arcane Protection Potion   196.86   200.0   -15.25        139.63   \n",
       "Elixir of Superior Defense         145.03   143.0   -32.11        114.74   \n",
       "Greater Shadow Protection Potion   822.11   129.0    -4.44        658.58   \n",
       "Greater Stoneshield Potion         113.77   121.0   -18.45         94.92   \n",
       "Arcane Elixir                       81.13    84.0     3.33         73.70   \n",
       "Free Action Potion                 103.28   113.0     5.76         64.30   \n",
       "Elixir of Fortitude                 85.74    71.0    36.46         75.44   \n",
       "Swiftness Potion                    39.96     0.0     0.00         40.42   \n",
       "Limited Invulnerability Potion     121.58    55.0    -0.16        115.86   \n",
       "Superior Mana Potion                74.89     0.0     0.00         72.70   \n",
       "Invisibility Potion                 99.84    68.0     0.92         54.11   \n",
       "Elixir of Shadow Power             143.74    45.0    -6.66        140.24   \n",
       "Elixir of Greater Intellect         23.65    68.0    19.87          1.33   \n",
       "Superior Healing Potion              2.67   177.0    41.25        -13.04   \n",
       "Elixir of Greater Defense           12.95    18.0   -33.05         10.53   \n",
       "Major Healing Potion                 7.80   124.0   -31.19       -108.62   \n",
       "\n",
       "                                  True_Profit  Weighted_Price  \n",
       "Fire Protection Potion                1642.60            2.10  \n",
       "Mighty Rage Potion                     363.79            1.05  \n",
       "Elixir of Giants                       226.64            0.92  \n",
       "Elixir of the Mongoose                1061.14            5.09  \n",
       "Elixir of Greater Agility              197.45            0.88  \n",
       "Greater Arcane Protection Potion       140.56            1.26  \n",
       "Elixir of Superior Defense             116.20            1.20  \n",
       "Greater Shadow Protection Potion       664.59            7.53  \n",
       "Greater Stoneshield Potion              87.89            1.21  \n",
       "Arcane Elixir                           78.39            0.94  \n",
       "Free Action Potion                      68.26            1.25  \n",
       "Elixir of Fortitude                     77.96            1.35  \n",
       "Swiftness Potion                        39.96            0.75  \n",
       "Limited Invulnerability Potion         119.39            2.19  \n",
       "Superior Mana Potion                    74.89            1.37  \n",
       "Invisibility Potion                     57.13            2.23  \n",
       "Elixir of Shadow Power                 140.24            3.27  \n",
       "Elixir of Greater Intellect              4.92            0.62  \n",
       "Superior Healing Potion                -11.73            0.10  \n",
       "Elixir of Greater Defense               10.53            0.85  \n",
       "Major Healing Potion                   -82.29            1.00  "
      ]
     },
     "execution_count": 593,
     "metadata": {},
     "output_type": "execute_result"
    }
   ],
   "source": [
    "pot_sales = sales.loc[pots].sort_values('S_Qty', ascending=False)\n",
    "pot_sales"
   ]
  },
  {
   "cell_type": "code",
   "execution_count": 594,
   "metadata": {},
   "outputs": [],
   "source": [
    "sales.loc['UNKNOWN'] = 0"
   ]
  },
  {
   "cell_type": "code",
   "execution_count": 595,
   "metadata": {},
   "outputs": [],
   "source": [
    "with open(f'recipes.yaml', 'r') as f:\n",
    "    recipes = yaml.load(f, Loader=yaml.FullLoader)\n",
    "    \n",
    "potion_costs = {}\n",
    "for key in recipes:\n",
    "    recipe = recipes[key]\n",
    "    cost = 0\n",
    "\n",
    "    for ingredient in recipe:\n",
    "        \n",
    "        #last_10_buys = bought[bought['Item']==ingredient].tail(16)['PricePer'].mean()\n",
    "        cost += sales.loc[ingredient, 'B_Price'] * recipe[ingredient]\n",
    "    \n",
    "    potion_costs[key] = cost"
   ]
  },
  {
   "cell_type": "code",
   "execution_count": 596,
   "metadata": {},
   "outputs": [],
   "source": [
    "pot_sales['Mat_Cost'] = pot_sales.index\n",
    "pot_sales['Mat_Cost'] = pot_sales['Mat_Cost'].apply(lambda x: potion_costs[x] if x in potion_costs else 0)"
   ]
  },
  {
   "cell_type": "code",
   "execution_count": 597,
   "metadata": {},
   "outputs": [],
   "source": [
    "pot_sales['Profit Per Sale'] = pot_sales['S_Price'] + pot_sales['Mat_Cost']"
   ]
  },
  {
   "cell_type": "code",
   "execution_count": 598,
   "metadata": {},
   "outputs": [],
   "source": [
    "import matplotlib.pyplot as plt\n",
    "import pandas as pd\n",
    "import numpy as np\n",
    "import string\n"
   ]
  },
  {
   "cell_type": "code",
   "execution_count": 599,
   "metadata": {},
   "outputs": [],
   "source": [
    "scat = pot_sales.iloc[1:][[\"Profit Per Sale\", \"S_Qty\"]]\n",
    "scat = scat[(scat['Profit Per Sale']>0.1) & (scat['S_Qty']>20)]"
   ]
  },
  {
   "cell_type": "markdown",
   "metadata": {},
   "source": [
    "# most profitable items"
   ]
  },
  {
   "cell_type": "code",
   "execution_count": 600,
   "metadata": {},
   "outputs": [
    {
     "data": {
      "image/png": "[encoded data removed]",
      "text/plain": [
       "<Figure size 432x288 with 1 Axes>"
      ]
     },
     "metadata": {
      "needs_background": "light"
     },
     "output_type": "display_data"
    }
   ],
   "source": [
    "fig, ax = plt.subplots()\n",
    "scat.plot(\"Profit Per Sale\", \"S_Qty\", kind='scatter', ax=ax)\n",
    "\n",
    "for k, v in scat.iterrows():\n",
    "    ax.annotate(k, v)"
   ]
  },
  {
   "cell_type": "code",
   "execution_count": 601,
   "metadata": {},
   "outputs": [
    {
     "ename": "SyntaxError",
     "evalue": "invalid syntax (<ipython-input-601-12d82da54770>, line 1)",
     "output_type": "error",
     "traceback": [
      "\u001b[0;36m  File \u001b[0;32m\"<ipython-input-601-12d82da54770>\"\u001b[0;36m, line \u001b[0;32m1\u001b[0m\n\u001b[0;31m    Gromsblood x 4\u001b[0m\n\u001b[0m               ^\u001b[0m\n\u001b[0;31mSyntaxError\u001b[0m\u001b[0;31m:\u001b[0m invalid syntax\n"
     ]
    }
   ],
   "source": [
    "Gromsblood x 4\n",
    "Sungrass x 2 (+ sell)\n",
    "Plaguebloom x 2\n",
    "Mountain Silversage x 2\n",
    "Goldthorn x 1 (+ sell)\n",
    "Dreamfoil x 1\n",
    "Arcane dust x 1"
   ]
  },
  {
   "cell_type": "code",
   "execution_count": null,
   "metadata": {},
   "outputs": [],
   "source": []
  },
  {
   "cell_type": "code",
   "execution_count": null,
   "metadata": {},
   "outputs": [],
   "source": []
  },
  {
   "cell_type": "code",
   "execution_count": null,
   "metadata": {},
   "outputs": [],
   "source": []
  },
  {
   "cell_type": "markdown",
   "metadata": {},
   "source": [
    "### Top players"
   ]
  },
  {
   "cell_type": "code",
   "execution_count": null,
   "metadata": {},
   "outputs": [],
   "source": [
    "# These people have bought the most golds worth of goods from me\n",
    "top_purchasers = sold.groupby('Player').sum()['Price']\n",
    "top_purchasers.sort_values(ascending=False).head(20)"
   ]
  },
  {
   "cell_type": "code",
   "execution_count": null,
   "metadata": {},
   "outputs": [],
   "source": [
    "# I have bought the most golds worth of goods from these players\n",
    "top_vendors = bought.groupby('Player').sum()['Price']\n",
    "top_vendors.sort_values(ascending=False).head(20)"
   ]
  },
  {
   "cell_type": "markdown",
   "metadata": {},
   "source": [
    "### Pricing over time"
   ]
  },
  {
   "cell_type": "code",
   "execution_count": null,
   "metadata": {},
   "outputs": [],
   "source": []
  },
  {
   "cell_type": "code",
   "execution_count": null,
   "metadata": {},
   "outputs": [],
   "source": [
    "def show_price_history(name):\n",
    "\n",
    "    b_test = -bought[bought['Item']==name]['PricePer']\n",
    "    b_test.name = 'Bought'\n",
    "\n",
    "    s_test = sold[sold['Item']==name]['PricePer']\n",
    "    s_test.name = 'Sold'\n",
    "    \n",
    "    b_test = pd.DataFrame(b_test.loc[s_test.index.min():])\n",
    "\n",
    "    joined = pd.merge(b_test, s_test, how='outer', left_index=True, right_index=True)\n",
    "    joined = joined.interpolate()\n",
    "    joined.plot(title=name)"
   ]
  },
  {
   "cell_type": "code",
   "execution_count": null,
   "metadata": {},
   "outputs": [],
   "source": [
    "show_price_history('Elixir of the Mongoose')"
   ]
  },
  {
   "cell_type": "code",
   "execution_count": null,
   "metadata": {},
   "outputs": [],
   "source": [
    "show_price_history('Mighty Rage Potion')"
   ]
  },
  {
   "cell_type": "code",
   "execution_count": null,
   "metadata": {},
   "outputs": [],
   "source": [
    "show_price_history('Arcane Crystal')"
   ]
  },
  {
   "cell_type": "code",
   "execution_count": null,
   "metadata": {},
   "outputs": [],
   "source": []
  },
  {
   "cell_type": "code",
   "execution_count": null,
   "metadata": {},
   "outputs": [],
   "source": [
    "def get_action(row):\n",
    "    \"\"\" Given an inventory size and stated preference, produces a Buy and Sell recommendations\n",
    "    \"\"\"\n",
    "    if row['Inventory'] == 1 and row['Min']!=0:\n",
    "        return ('Orange', 'No Sell')\n",
    "    elif row['Inventory'] < 5 or row['Inventory'] < row['Ideal'] * 0.25:\n",
    "        return ('Orange', 'Red')\n",
    "    elif row['Inventory'] < row['Ideal'] * 0.75:\n",
    "        return ('Yellow', 'Red')\n",
    "    elif row['Inventory'] < row['Ideal'] * 1.25:\n",
    "        return ('Green', 'Orange')\n",
    "    elif row['Inventory'] < row['Max']:\n",
    "        return ('Blue', 'Yellow')\n",
    "    else:\n",
    "        return ('No Buy', 'Green')"
   ]
  },
  {
   "cell_type": "markdown",
   "metadata": {},
   "source": [
    "### Stocktake and Auction Actions"
   ]
  },
  {
   "cell_type": "markdown",
   "metadata": {},
   "source": [
    "Set the thresholds according to market price\n",
    "* Blue <80%\n",
    "* Green 80-96%\n",
    "* Yellow 96-104%\n",
    "* Orange 104-120%\n",
    "* Red 120%+"
   ]
  },
  {
   "cell_type": "code",
   "execution_count": null,
   "metadata": {},
   "outputs": [],
   "source": [
    "inventory_df = pd.DataFrame.from_dict(inventory).T\n",
    "stocktake = sales[['Weighted_Price']].join(inventory_df)\n",
    "stocktake_value = (stocktake['Weighted_Price'] * stocktake['Inventory']).sort_values(ascending=False)\n",
    "print(f\"I have {round(stocktake_value.sum(),2)} gold locked in inventory\")"
   ]
  },
  {
   "cell_type": "code",
   "execution_count": null,
   "metadata": {},
   "outputs": [],
   "source": [
    "for ind, row in stocktake.iterrows():\n",
    "    action = get_action(row)\n",
    "    stocktake.loc[ind, 'Buy if'] = action[0]\n",
    "    stocktake.loc[ind, 'Sell if'] = action[1]    \n",
    "    \n",
    "stocktake"
   ]
  },
  {
   "cell_type": "code",
   "execution_count": null,
   "metadata": {},
   "outputs": [],
   "source": [
    "stocktake.to_csv('stocktake.csv')"
   ]
  },
  {
   "cell_type": "code",
   "execution_count": null,
   "metadata": {},
   "outputs": [],
   "source": []
  },
  {
   "cell_type": "markdown",
   "metadata": {},
   "source": [
    "## Shopping list (for rebalancing)"
   ]
  },
  {
   "cell_type": "code",
   "execution_count": null,
   "metadata": {},
   "outputs": [],
   "source": [
    "shopping_df = stocktake.loc[pots]['Ideal'] - stocktake.loc[pots]['Inventory']\n",
    "shopping_dict = shopping_df[shopping_df>0].to_dict()"
   ]
  },
  {
   "cell_type": "code",
   "execution_count": null,
   "metadata": {},
   "outputs": [],
   "source": [
    "with open(f'recipes.yaml', 'r') as f:\n",
    "    recipes = yaml.load(f, Loader=yaml.FullLoader)\n",
    "\n",
    "shopping_total = {}\n",
    "for key in shopping_dict:\n",
    "    reagents = recipes[key]\n",
    "    for r in reagents:\n",
    "        if r != 'UNKNOWN':\n",
    "            shopping_total[r] = reagents[r] * shopping_dict[key]        "
   ]
  },
  {
   "cell_type": "code",
   "execution_count": null,
   "metadata": {},
   "outputs": [],
   "source": [
    "shopping_total"
   ]
  },
  {
   "cell_type": "code",
   "execution_count": null,
   "metadata": {},
   "outputs": [],
   "source": [
    "stocktake['Requested'] = stocktake.index\n",
    "stocktake['Requested'] = stocktake['Requested'].apply(lambda x: shopping_total[x] if x in shopping_total else 0)"
   ]
  },
  {
   "cell_type": "code",
   "execution_count": null,
   "metadata": {},
   "outputs": [],
   "source": [
    "stocktake['Purchase'] = stocktake[['Ideal', 'Inventory']].max(axis=1) - stocktake['Inventory'] + stocktake['Requested']"
   ]
  },
  {
   "cell_type": "code",
   "execution_count": null,
   "metadata": {},
   "outputs": [],
   "source": [
    "stocktake"
   ]
  },
  {
   "cell_type": "code",
   "execution_count": null,
   "metadata": {},
   "outputs": [],
   "source": []
  },
  {
   "cell_type": "code",
   "execution_count": null,
   "metadata": {},
   "outputs": [],
   "source": []
  },
  {
   "cell_type": "code",
   "execution_count": null,
   "metadata": {},
   "outputs": [],
   "source": []
  },
  {
   "cell_type": "code",
   "execution_count": null,
   "metadata": {},
   "outputs": [],
   "source": []
  }
 ],
 "metadata": {
  "kernelspec": {
   "display_name": "Python 3",
   "language": "python",
   "name": "python3"
  },
  "language_info": {
   "codemirror_mode": {
    "name": "ipython",
    "version": 3
   },
   "file_extension": ".py",
   "mimetype": "text/x-python",
   "name": "python",
   "nbconvert_exporter": "python",
   "pygments_lexer": "ipython3",
   "version": "3.7.3"
  }
 },
 "nbformat": 4,
 "nbformat_minor": 2
}
