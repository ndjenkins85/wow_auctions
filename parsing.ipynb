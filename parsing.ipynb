{
 "cells": [
  {
   "cell_type": "code",
   "execution_count": 1,
   "metadata": {},
   "outputs": [
    {
     "name": "stderr",
     "output_type": "stream",
     "text": [
      "/Users/nicholasjenkins/downloads/ENTER/lib/python3.7/site-packages/statsmodels/tools/_testing.py:19: FutureWarning: pandas.util.testing is deprecated. Use the functions in the public API at pandas.testing instead.\n",
      "  import pandas.util.testing as tm\n"
     ]
    }
   ],
   "source": [
    "import yaml\n",
    "import pandas as pd\n",
    "import seaborn as sns\n",
    "from datetime import datetime as dt"
   ]
  },
  {
   "cell_type": "code",
   "execution_count": 2,
   "metadata": {},
   "outputs": [],
   "source": [
    "path_to_beancounter = '/Applications/World of Warcraft/_classic_/WTF/Account/BLUEM/SavedVariables/BeanCounter.lua'\n",
    "#path_to_beancounter = 'BeanCounter.lua'"
   ]
  },
  {
   "cell_type": "code",
   "execution_count": 3,
   "metadata": {},
   "outputs": [],
   "source": [
    "# Reads the beancounter database and converts all items:code into a dict\n",
    "with open(path_to_beancounter, 'r') as f:\n",
    "    beans = f.readlines()\n",
    "    \n",
    "start_db = [i for i, x in enumerate(beans) if 'BeanCounterDBNames' in x][0] + 1\n",
    "end_db = [i for i, x in enumerate(beans) if 'BeanCounterAccountDB' in x][0] - 1\n",
    "\n",
    "def parse_item(x):\n",
    "    return x.split(';')[1].split('\"')[0].replace('\"', '')\n",
    "\n",
    "def parse_code(x):\n",
    "    return x.split('\"')[1].split(':')[0]\n",
    "\n",
    "full_items = dict([(parse_item(x), parse_code(x)) for x in beans[start_db: end_db]])"
   ]
  },
  {
   "cell_type": "code",
   "execution_count": 4,
   "metadata": {},
   "outputs": [
    {
     "ename": "FileNotFoundError",
     "evalue": "[Errno 2] No such file or directory: 'inventory.yaml'",
     "output_type": "error",
     "traceback": [
      "\u001b[0;31m---------------------------------------------------------------------------\u001b[0m",
      "\u001b[0;31mFileNotFoundError\u001b[0m                         Traceback (most recent call last)",
      "\u001b[0;32m<ipython-input-4-2084a17b65da>\u001b[0m in \u001b[0;36m<module>\u001b[0;34m\u001b[0m\n\u001b[1;32m      1\u001b[0m \u001b[0;31m# Load my inventory list, ensure keys are typed up correctly\u001b[0m\u001b[0;34m\u001b[0m\u001b[0;34m\u001b[0m\u001b[0;34m\u001b[0m\u001b[0m\n\u001b[1;32m      2\u001b[0m \u001b[0;31m# Gets relevant list of items\u001b[0m\u001b[0;34m\u001b[0m\u001b[0;34m\u001b[0m\u001b[0;34m\u001b[0m\u001b[0m\n\u001b[0;32m----> 3\u001b[0;31m \u001b[0;32mwith\u001b[0m \u001b[0mopen\u001b[0m\u001b[0;34m(\u001b[0m\u001b[0;34mf'inventory.yaml'\u001b[0m\u001b[0;34m,\u001b[0m \u001b[0;34m'r'\u001b[0m\u001b[0;34m)\u001b[0m \u001b[0;32mas\u001b[0m \u001b[0mf\u001b[0m\u001b[0;34m:\u001b[0m\u001b[0;34m\u001b[0m\u001b[0;34m\u001b[0m\u001b[0m\n\u001b[0m\u001b[1;32m      4\u001b[0m     \u001b[0minventory\u001b[0m \u001b[0;34m=\u001b[0m \u001b[0myaml\u001b[0m\u001b[0;34m.\u001b[0m\u001b[0mload\u001b[0m\u001b[0;34m(\u001b[0m\u001b[0mf\u001b[0m\u001b[0;34m,\u001b[0m \u001b[0mLoader\u001b[0m\u001b[0;34m=\u001b[0m\u001b[0myaml\u001b[0m\u001b[0;34m.\u001b[0m\u001b[0mFullLoader\u001b[0m\u001b[0;34m)\u001b[0m\u001b[0;34m\u001b[0m\u001b[0;34m\u001b[0m\u001b[0m\n\u001b[1;32m      5\u001b[0m \u001b[0;34m\u001b[0m\u001b[0m\n",
      "\u001b[0;31mFileNotFoundError\u001b[0m: [Errno 2] No such file or directory: 'inventory.yaml'"
     ]
    }
   ],
   "source": [
    "# Load my inventory list, ensure keys are typed up correctly\n",
    "# Gets relevant list of items\n",
    "with open(f'inventory.yaml', 'r') as f:\n",
    "    inventory = yaml.load(f, Loader=yaml.FullLoader)\n",
    "    \n",
    "for sku in inventory:\n",
    "    assert sku in full_items    \n",
    "    \n",
    "items = dict([(value, key) for key, value in full_items.items() if key in inventory])  \n",
    "\n",
    "pots = [x for i, x in items.items() if 'Potion' in x or 'Elixir' in x]\n",
    "\n",
    "print(f\"I'm in the market for {len(items)} items, and selling {len(pots)} potions and Elixirs\")"
   ]
  },
  {
   "cell_type": "code",
   "execution_count": null,
   "metadata": {},
   "outputs": [],
   "source": [
    "# Find the relevant section of the file to do with actual auctions\n",
    "sale_start = [i for i, x in enumerate(beans) if 'Amazoni' in x][0] + 1\n",
    "sale_end = [i for i, x in enumerate(beans) if 'BeanCounterDBSettings' in x][0] - 6\n",
    "\n",
    "records = beans[sale_start: sale_end]"
   ]
  },
  {
   "cell_type": "code",
   "execution_count": null,
   "metadata": {},
   "outputs": [],
   "source": [
    "# Pattern matching logic for records\n",
    "item_pattern_a = '\\t\\t\\t\\t[\"'\n",
    "item_pattern_b = '\"] = {\\n'\n",
    "\n",
    "detail_pattern_a = '\\t\\t\\t\\t\\t\\t\"'\n",
    "detail_pattern_b = '\", -- [1]\\n'\n",
    "\n",
    "def pattern_fit(line, pattern, left=True):\n",
    "    \"\"\"\n",
    "    Given a line of text, and a left/right pattern, return True or False for matching    \n",
    "    \"\"\"\n",
    "    if len(line) <= len(pattern):\n",
    "        return False\n",
    "    elif left:\n",
    "        return line[:len(pattern)] == pattern\n",
    "    else:\n",
    "        return line[-len(pattern):] == pattern\n",
    "    \n",
    "    \n",
    "def pattern_extract(line, patterns=[]):\n",
    "    return line[len(patterns[0]):len(line)-len(patterns[1])]\n",
    "\n",
    "\n",
    "def get_auction_type(record):\n",
    "    #if 'postedAuctions' in record: return 'postedAuctions'\n",
    "    #if 'failedAuctions' in record: return 'failedAuctions'\n",
    "    if 'completedBidsBuyouts' in record: return 'completedBidsBuyouts'\n",
    "    if 'completedAuctions' in record: return 'completedAuctions'"
   ]
  },
  {
   "cell_type": "code",
   "execution_count": null,
   "metadata": {},
   "outputs": [],
   "source": [
    "auction_type = None\n",
    "item_id = None\n",
    "detail = None\n",
    "data = []\n",
    "\n",
    "for record in records:\n",
    "    \n",
    "    if get_auction_type(record):\n",
    "        auction_type = get_auction_type(record)\n",
    "        \n",
    "    if pattern_fit(record, item_pattern_a) and pattern_fit(record, item_pattern_b, left=False):\n",
    "        item_id = pattern_extract(record, [item_pattern_a, item_pattern_b])\n",
    "        \n",
    "    if '\\t\\t\\t\\t\\t\\t\"' in record and '\", -- [' in record:\n",
    "        detail = record.split('\\t\\t\\t\\t\\t\\t\"')[1].split('\", -- [')[0]\n",
    "    else:\n",
    "        detail = None\n",
    "        \n",
    "    if auction_type and item_id and detail:\n",
    "        row = [auction_type, item_id] + detail.split(';')\n",
    "        data.append(row)"
   ]
  },
  {
   "cell_type": "code",
   "execution_count": null,
   "metadata": {},
   "outputs": [],
   "source": []
  },
  {
   "cell_type": "code",
   "execution_count": null,
   "metadata": {},
   "outputs": [],
   "source": [
    "df = pd.DataFrame(data)"
   ]
  },
  {
   "cell_type": "code",
   "execution_count": null,
   "metadata": {},
   "outputs": [],
   "source": [
    "df"
   ]
  },
  {
   "cell_type": "code",
   "execution_count": null,
   "metadata": {},
   "outputs": [],
   "source": []
  },
  {
   "cell_type": "code",
   "execution_count": null,
   "metadata": {},
   "outputs": [],
   "source": []
  },
  {
   "cell_type": "code",
   "execution_count": null,
   "metadata": {},
   "outputs": [],
   "source": []
  },
  {
   "cell_type": "code",
   "execution_count": null,
   "metadata": {},
   "outputs": [],
   "source": []
  },
  {
   "cell_type": "code",
   "execution_count": null,
   "metadata": {},
   "outputs": [],
   "source": [
    "# Create dataframe and filter to only our items we care about\n",
    "df = pd.DataFrame(data)\n",
    "\n",
    "df = df[df[1].isin(items)]\n",
    "df[1] = df[1].replace(items)\n",
    "\n",
    "df = df.drop_duplicates()\n",
    "df = df.drop([3,4,5,6,10,11], axis=1)\n",
    "\n",
    "df[0] = df[0].replace({'completedBidsBuyouts': 'Bought', 'completedAuctions': 'Sold'})\n",
    "\n",
    "df.columns = ['Action', 'Item', 'Qty', 'Price', 'Player', 'Timestamp']\n",
    "\n",
    "df['Qty'] = df['Qty'].astype(int)\n",
    "df['Price'] = round(df['Price'].astype(int) / 10000, 4)\n",
    "\n",
    "# Make purchases negative\n",
    "df.loc[df[df['Action']=='Bought'].index, 'Price'] = - df.loc[df[df['Action']=='Bought'].index, 'Price']\n",
    "\n",
    "df['PricePer'] = round(df['Price'] / df['Qty'], 4)\n",
    "\n"
   ]
  },
  {
   "cell_type": "code",
   "execution_count": null,
   "metadata": {},
   "outputs": [],
   "source": [
    "new_df = df.copy()"
   ]
  },
  {
   "cell_type": "code",
   "execution_count": null,
   "metadata": {},
   "outputs": [],
   "source": [
    "df = new_df"
   ]
  },
  {
   "cell_type": "code",
   "execution_count": null,
   "metadata": {},
   "outputs": [],
   "source": [
    "df = df.drop_duplicates().dropna()"
   ]
  },
  {
   "cell_type": "code",
   "execution_count": null,
   "metadata": {},
   "outputs": [],
   "source": [
    "\n",
    "# Set index to timestamp\n",
    "df['Timestamp'] = df['Timestamp'].apply(lambda x: dt.fromtimestamp(int(x)))\n",
    "df = df.set_index('Timestamp').sort_index()\n",
    "\n",
    "sold = df[df['Action']=='Sold']\n",
    "bought = df[df['Action']=='Bought']"
   ]
  },
  {
   "cell_type": "code",
   "execution_count": null,
   "metadata": {},
   "outputs": [],
   "source": [
    "df"
   ]
  },
  {
   "cell_type": "markdown",
   "metadata": {},
   "source": [
    "## Analysis"
   ]
  },
  {
   "cell_type": "markdown",
   "metadata": {},
   "source": [
    "### Sales activity"
   ]
  },
  {
   "cell_type": "code",
   "execution_count": null,
   "metadata": {},
   "outputs": [],
   "source": []
  },
  {
   "cell_type": "code",
   "execution_count": null,
   "metadata": {},
   "outputs": [],
   "source": [
    "df['Qty'].cumsum().plot(title='Raw units bought and sold')"
   ]
  },
  {
   "cell_type": "code",
   "execution_count": null,
   "metadata": {},
   "outputs": [],
   "source": [
    "sold['Price'].cumsum().plot(title='Raw Sales over time')"
   ]
  },
  {
   "cell_type": "code",
   "execution_count": null,
   "metadata": {},
   "outputs": [],
   "source": [
    "df.loc['2020-01-01':]['Price'].cumsum().plot(title='Recent profit')"
   ]
  },
  {
   "cell_type": "code",
   "execution_count": null,
   "metadata": {},
   "outputs": [],
   "source": [
    "# Gold per week based on since year start\n",
    "df.loc['2020-01-01':]['Price'].cumsum()[-1] / ((df.index.max() - pd.to_datetime('2020-01-01')).days / 7)"
   ]
  },
  {
   "cell_type": "code",
   "execution_count": null,
   "metadata": {},
   "outputs": [],
   "source": [
    "# Gold per week based on since start alchy hording\n",
    "df.loc['2020-02-04':]['Price'].cumsum()[-1] / ((df.index.max() - pd.to_datetime('2020-02-04')).days / 7)"
   ]
  },
  {
   "cell_type": "code",
   "execution_count": null,
   "metadata": {},
   "outputs": [],
   "source": []
  },
  {
   "cell_type": "markdown",
   "metadata": {},
   "source": [
    "### Profit breakdown"
   ]
  },
  {
   "cell_type": "code",
   "execution_count": null,
   "metadata": {},
   "outputs": [],
   "source": [
    "df"
   ]
  },
  {
   "cell_type": "code",
   "execution_count": null,
   "metadata": {},
   "outputs": [],
   "source": []
  },
  {
   "cell_type": "code",
   "execution_count": null,
   "metadata": {},
   "outputs": [],
   "source": [
    "bought_qty = bought.groupby('Item').sum()['Qty']\n",
    "bought_qty.name = 'B_Qty'\n",
    "\n",
    "bought_price = bought.groupby('Item').mean()['PricePer']\n",
    "bought_price.name = 'B_Price'\n",
    "\n",
    "bought_total_sales = bought.groupby('Item').sum()['Price']\n",
    "bought_total_sales.name = 'B_Sales'\n",
    "\n",
    "\n",
    "sold_qty = sold.groupby('Item').sum()['Qty']\n",
    "sold_qty.name = 'S_Qty'\n",
    "\n",
    "sold_price = sold.groupby('Item').mean()['PricePer']\n",
    "sold_price.name = 'S_Price'\n",
    "\n",
    "sold_total_sales = sold.groupby('Item').sum()['Price']\n",
    "sold_total_sales.name = 'S_Sales'\n",
    "\n",
    "\n",
    "sales = pd.concat([bought_qty, bought_price, bought_total_sales, sold_qty, sold_price, sold_total_sales], \n",
    "                  axis=1, sort=True)\n",
    "\n",
    "sales['Volume'] = sales['B_Qty'] + sales['S_Qty']\n",
    "\n",
    "sales['Profit%'] = ((sales['S_Price'] / - sales['B_Price']) - 1) * 100 \n",
    "\n",
    "sales = sales.fillna(0)\n",
    "\n",
    "sales['Gross_Profit'] = (sales['S_Qty'] * sales['S_Price']) + (sales['B_Qty'] * sales['B_Price'])\n",
    "\n",
    "sales['True_Profit'] = (sales['S_Sales'] + sales['B_Sales'])\n",
    "\n",
    "\n",
    "sales['Weighted_Price'] = ((sales['S_Qty'] * sales['S_Price']) + (\n",
    "                            sales['B_Qty'] * -sales['B_Price'])\n",
    "                          ) / (sales['S_Qty'] + sales['B_Qty'])\n",
    "\n",
    "sales = sales.round(2)\n"
   ]
  },
  {
   "cell_type": "code",
   "execution_count": null,
   "metadata": {},
   "outputs": [],
   "source": [
    "pot_sales = sales.loc[pots].sort_values('S_Qty', ascending=False)\n",
    "pot_sales"
   ]
  },
  {
   "cell_type": "code",
   "execution_count": null,
   "metadata": {},
   "outputs": [],
   "source": [
    "sales.loc['UNKNOWN'] = 0"
   ]
  },
  {
   "cell_type": "code",
   "execution_count": null,
   "metadata": {},
   "outputs": [],
   "source": [
    "with open(f'recipes.yaml', 'r') as f:\n",
    "    recipes = yaml.load(f, Loader=yaml.FullLoader)\n",
    "    \n",
    "potion_costs = {}\n",
    "for key in recipes:\n",
    "    recipe = recipes[key]\n",
    "    cost = 0\n",
    "\n",
    "    for ingredient in recipe:\n",
    "        \n",
    "        #last_10_buys = bought[bought['Item']==ingredient].tail(16)['PricePer'].mean()\n",
    "        cost += sales.loc[ingredient, 'B_Price'] * recipe[ingredient]\n",
    "    \n",
    "    potion_costs[key] = cost"
   ]
  },
  {
   "cell_type": "code",
   "execution_count": null,
   "metadata": {},
   "outputs": [],
   "source": [
    "pot_sales['Mat_Cost'] = pot_sales.index\n",
    "pot_sales['Mat_Cost'] = pot_sales['Mat_Cost'].apply(lambda x: potion_costs[x] if x in potion_costs else 0)"
   ]
  },
  {
   "cell_type": "code",
   "execution_count": null,
   "metadata": {},
   "outputs": [],
   "source": [
    "pot_sales['Profit Per Sale'] = pot_sales['S_Price'] + pot_sales['Mat_Cost']"
   ]
  },
  {
   "cell_type": "code",
   "execution_count": null,
   "metadata": {},
   "outputs": [],
   "source": [
    "import matplotlib.pyplot as plt\n",
    "import pandas as pd\n",
    "import numpy as np\n",
    "import string\n"
   ]
  },
  {
   "cell_type": "code",
   "execution_count": null,
   "metadata": {},
   "outputs": [],
   "source": [
    "scat = pot_sales.iloc[1:][[\"Profit Per Sale\", \"S_Qty\"]]\n",
    "scat = scat[(scat['Profit Per Sale']>0.1) & (scat['S_Qty']>20)]"
   ]
  },
  {
   "cell_type": "markdown",
   "metadata": {},
   "source": [
    "# most profitable items"
   ]
  },
  {
   "cell_type": "code",
   "execution_count": null,
   "metadata": {},
   "outputs": [],
   "source": [
    "fig, ax = plt.subplots()\n",
    "scat.plot(\"Profit Per Sale\", \"S_Qty\", kind='scatter', ax=ax)\n",
    "\n",
    "for k, v in scat.iterrows():\n",
    "    ax.annotate(k, v)"
   ]
  },
  {
   "cell_type": "code",
   "execution_count": null,
   "metadata": {},
   "outputs": [],
   "source": [
    "Gromsblood x 4\n",
    "Sungrass x 2 (+ sell)\n",
    "Plaguebloom x 2\n",
    "Mountain Silversage x 2\n",
    "Goldthorn x 1 (+ sell)\n",
    "Dreamfoil x 1\n",
    "Arcane dust x 1"
   ]
  },
  {
   "cell_type": "code",
   "execution_count": null,
   "metadata": {},
   "outputs": [],
   "source": []
  },
  {
   "cell_type": "code",
   "execution_count": null,
   "metadata": {},
   "outputs": [],
   "source": []
  },
  {
   "cell_type": "code",
   "execution_count": null,
   "metadata": {},
   "outputs": [],
   "source": []
  },
  {
   "cell_type": "markdown",
   "metadata": {},
   "source": [
    "### Top players"
   ]
  },
  {
   "cell_type": "code",
   "execution_count": null,
   "metadata": {},
   "outputs": [],
   "source": [
    "# These people have bought the most golds worth of goods from me\n",
    "top_purchasers = sold.groupby('Player').sum()['Price']\n",
    "top_purchasers.sort_values(ascending=False).head(20)"
   ]
  },
  {
   "cell_type": "code",
   "execution_count": null,
   "metadata": {},
   "outputs": [],
   "source": [
    "# I have bought the most golds worth of goods from these players\n",
    "top_vendors = bought.groupby('Player').sum()['Price']\n",
    "top_vendors.sort_values(ascending=False).head(20)"
   ]
  },
  {
   "cell_type": "markdown",
   "metadata": {},
   "source": [
    "### Pricing over time"
   ]
  },
  {
   "cell_type": "code",
   "execution_count": null,
   "metadata": {},
   "outputs": [],
   "source": []
  },
  {
   "cell_type": "code",
   "execution_count": null,
   "metadata": {},
   "outputs": [],
   "source": [
    "def show_price_history(name):\n",
    "\n",
    "    b_test = -bought[bought['Item']==name]['PricePer']\n",
    "    b_test.name = 'Bought'\n",
    "\n",
    "    s_test = sold[sold['Item']==name]['PricePer']\n",
    "    s_test.name = 'Sold'\n",
    "    \n",
    "    b_test = pd.DataFrame(b_test.loc[s_test.index.min():])\n",
    "\n",
    "    joined = pd.merge(b_test, s_test, how='outer', left_index=True, right_index=True)\n",
    "    joined = joined.interpolate()\n",
    "    joined.plot(title=name)"
   ]
  },
  {
   "cell_type": "code",
   "execution_count": null,
   "metadata": {},
   "outputs": [],
   "source": [
    "show_price_history('Elixir of the Mongoose')"
   ]
  },
  {
   "cell_type": "code",
   "execution_count": null,
   "metadata": {},
   "outputs": [],
   "source": [
    "show_price_history('Mighty Rage Potion')"
   ]
  },
  {
   "cell_type": "code",
   "execution_count": null,
   "metadata": {},
   "outputs": [],
   "source": [
    "show_price_history('Arcane Crystal')"
   ]
  },
  {
   "cell_type": "code",
   "execution_count": null,
   "metadata": {},
   "outputs": [],
   "source": []
  },
  {
   "cell_type": "code",
   "execution_count": null,
   "metadata": {},
   "outputs": [],
   "source": [
    "def get_action(row):\n",
    "    \"\"\" Given an inventory size and stated preference, produces a Buy and Sell recommendations\n",
    "    \"\"\"\n",
    "    if row['Inventory'] == 1 and row['Min']!=0:\n",
    "        return ('Orange', 'No Sell')\n",
    "    elif row['Inventory'] < 5 or row['Inventory'] < row['Ideal'] * 0.25:\n",
    "        return ('Orange', 'Red')\n",
    "    elif row['Inventory'] < row['Ideal'] * 0.75:\n",
    "        return ('Yellow', 'Red')\n",
    "    elif row['Inventory'] < row['Ideal'] * 1.25:\n",
    "        return ('Green', 'Orange')\n",
    "    elif row['Inventory'] < row['Max']:\n",
    "        return ('Blue', 'Yellow')\n",
    "    else:\n",
    "        return ('No Buy', 'Green')"
   ]
  },
  {
   "cell_type": "markdown",
   "metadata": {},
   "source": [
    "### Stocktake and Auction Actions"
   ]
  },
  {
   "cell_type": "markdown",
   "metadata": {},
   "source": [
    "Set the thresholds according to market price\n",
    "* Blue <80%\n",
    "* Green 80-96%\n",
    "* Yellow 96-104%\n",
    "* Orange 104-120%\n",
    "* Red 120%+"
   ]
  },
  {
   "cell_type": "code",
   "execution_count": null,
   "metadata": {},
   "outputs": [],
   "source": [
    "inventory_df = pd.DataFrame.from_dict(inventory).T\n",
    "stocktake = sales[['Weighted_Price']].join(inventory_df)\n",
    "stocktake_value = (stocktake['Weighted_Price'] * stocktake['Inventory']).sort_values(ascending=False)\n",
    "print(f\"I have {round(stocktake_value.sum(),2)} gold locked in inventory\")"
   ]
  },
  {
   "cell_type": "code",
   "execution_count": null,
   "metadata": {},
   "outputs": [],
   "source": [
    "for ind, row in stocktake.iterrows():\n",
    "    action = get_action(row)\n",
    "    stocktake.loc[ind, 'Buy if'] = action[0]\n",
    "    stocktake.loc[ind, 'Sell if'] = action[1]    \n",
    "    \n",
    "stocktake"
   ]
  },
  {
   "cell_type": "code",
   "execution_count": null,
   "metadata": {},
   "outputs": [],
   "source": [
    "stocktake.to_csv('stocktake.csv')"
   ]
  },
  {
   "cell_type": "code",
   "execution_count": null,
   "metadata": {},
   "outputs": [],
   "source": []
  },
  {
   "cell_type": "markdown",
   "metadata": {},
   "source": [
    "## Shopping list (for rebalancing)"
   ]
  },
  {
   "cell_type": "code",
   "execution_count": null,
   "metadata": {},
   "outputs": [],
   "source": [
    "shopping_df = stocktake.loc[pots]['Ideal'] - stocktake.loc[pots]['Inventory']\n",
    "shopping_dict = shopping_df[shopping_df>0].to_dict()"
   ]
  },
  {
   "cell_type": "code",
   "execution_count": null,
   "metadata": {},
   "outputs": [],
   "source": [
    "with open(f'recipes.yaml', 'r') as f:\n",
    "    recipes = yaml.load(f, Loader=yaml.FullLoader)\n",
    "\n",
    "shopping_total = {}\n",
    "for key in shopping_dict:\n",
    "    reagents = recipes[key]\n",
    "    for r in reagents:\n",
    "        if r != 'UNKNOWN':\n",
    "            shopping_total[r] = reagents[r] * shopping_dict[key]        "
   ]
  },
  {
   "cell_type": "code",
   "execution_count": null,
   "metadata": {},
   "outputs": [],
   "source": [
    "shopping_total"
   ]
  },
  {
   "cell_type": "code",
   "execution_count": null,
   "metadata": {},
   "outputs": [],
   "source": [
    "stocktake['Requested'] = stocktake.index\n",
    "stocktake['Requested'] = stocktake['Requested'].apply(lambda x: shopping_total[x] if x in shopping_total else 0)"
   ]
  },
  {
   "cell_type": "code",
   "execution_count": null,
   "metadata": {},
   "outputs": [],
   "source": [
    "stocktake['Purchase'] = stocktake[['Ideal', 'Inventory']].max(axis=1) - stocktake['Inventory'] + stocktake['Requested']"
   ]
  },
  {
   "cell_type": "code",
   "execution_count": null,
   "metadata": {},
   "outputs": [],
   "source": [
    "stocktake"
   ]
  },
  {
   "cell_type": "code",
   "execution_count": null,
   "metadata": {},
   "outputs": [],
   "source": []
  },
  {
   "cell_type": "code",
   "execution_count": null,
   "metadata": {},
   "outputs": [],
   "source": []
  },
  {
   "cell_type": "code",
   "execution_count": null,
   "metadata": {},
   "outputs": [],
   "source": []
  },
  {
   "cell_type": "code",
   "execution_count": null,
   "metadata": {},
   "outputs": [],
   "source": []
  }
 ],
 "metadata": {
  "kernelspec": {
   "display_name": "Python 3",
   "language": "python",
   "name": "python3"
  },
  "language_info": {
   "codemirror_mode": {
    "name": "ipython",
    "version": 3
   },
   "file_extension": ".py",
   "mimetype": "text/x-python",
   "name": "python",
   "nbconvert_exporter": "python",
   "pygments_lexer": "ipython3",
   "version": "3.7.3"
  }
 },
 "nbformat": 4,
 "nbformat_minor": 2
}
