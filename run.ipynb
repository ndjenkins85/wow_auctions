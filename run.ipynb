{
 "cells": [
  {
   "cell_type": "code",
   "execution_count": 1,
   "metadata": {},
   "outputs": [
    {
     "name": "stderr",
     "output_type": "stream",
     "text": [
      "/Users/nicholasjenkins/downloads/ENTER/lib/python3.7/site-packages/statsmodels/tools/_testing.py:19: FutureWarning: pandas.util.testing is deprecated. Use the functions in the public API at pandas.testing instead.\n",
      "  import pandas.util.testing as tm\n"
     ]
    }
   ],
   "source": [
    "from sources import *\n",
    "from analysis import * \n",
    "from datetime import datetime as dt"
   ]
  },
  {
   "cell_type": "code",
   "execution_count": null,
   "metadata": {},
   "outputs": [],
   "source": [
    "# Get latest booty bay data and add to addons\n",
    "# Load up game and enter /pricer\n",
    "# Run generate_booty_data to generate latest prices\n",
    "#generate_booty_data()"
   ]
  },
  {
   "cell_type": "code",
   "execution_count": null,
   "metadata": {},
   "outputs": [],
   "source": []
  },
  {
   "cell_type": "code",
   "execution_count": null,
   "metadata": {},
   "outputs": [],
   "source": [
    "#4.31 seconds save time (4/26)\n",
    "start = dt.now()\n",
    "print(start)\n",
    "generate_booty_data(verbose=True)\n",
    "generate_auction_scandata(verbose=True)\n",
    "generate_auction_activity(verbose=True)\n",
    "generate_inventory(verbose=True)\n",
    "analyse_item_prices(verbose=True)\n",
    "analyse_sales_performance()\n",
    "analyse_item_min_sell_price()\n",
    "analyse_sell_data()\n",
    "apply_buy_policy(MAT_DEV=0)\n",
    "\n",
    "end = dt.now()\n",
    "print(end)\n",
    "print(\"Time taken\", (end - start).total_seconds())\n"
   ]
  },
  {
   "cell_type": "code",
   "execution_count": null,
   "metadata": {},
   "outputs": [],
   "source": [
    "# sell_policy = pd.read_parquet('outputs/sell_policy.parquet')\n",
    "# sell_policy[['sell_price','infeasible','immediate_inv','auction_leads','auctions']].tail(8)\n",
    "apply_sell_policy(stack_size=5, leads_wanted=20, duration='medium', update=True)\n",
    "# sell_policy = pd.read_parquet('outputs/sell_policy.parquet')\n",
    "# sell_policy[['sell_price','infeasible','immediate_inv','auction_leads','auctions','stack_size', 'sell_count']].tail(8)"
   ]
  },
  {
   "cell_type": "code",
   "execution_count": null,
   "metadata": {},
   "outputs": [],
   "source": [
    "apply_sell_policy(stack_size=1, leads_wanted=25, duration='medium', update=True, leave_one=False)\n",
    "# sell_policy = pd.read_parquet('outputs/sell_policy.parquet')\n",
    "# sell_policy[['sell_price','infeasible','immediate_inv','auction_leads','auctions','stack_size', 'sell_count']].tail(8)"
   ]
  },
  {
   "cell_type": "code",
   "execution_count": null,
   "metadata": {},
   "outputs": [],
   "source": [
    "sell_policy = pd.read_parquet('outputs/sell_policy.parquet')\n",
    "sell_policy"
   ]
  },
  {
   "cell_type": "code",
   "execution_count": null,
   "metadata": {},
   "outputs": [],
   "source": [
    "buy_policy = pd.read_parquet('outputs/buy_policy.parquet')\n",
    "buy_policy"
   ]
  },
  {
   "cell_type": "code",
   "execution_count": null,
   "metadata": {},
   "outputs": [],
   "source": []
  },
  {
   "cell_type": "code",
   "execution_count": null,
   "metadata": {},
   "outputs": [],
   "source": []
  },
  {
   "cell_type": "code",
   "execution_count": null,
   "metadata": {},
   "outputs": [],
   "source": []
  },
  {
   "cell_type": "code",
   "execution_count": null,
   "metadata": {},
   "outputs": [],
   "source": []
  },
  {
   "cell_type": "code",
   "execution_count": null,
   "metadata": {},
   "outputs": [],
   "source": []
  },
  {
   "cell_type": "code",
   "execution_count": null,
   "metadata": {},
   "outputs": [],
   "source": [
    "apply_sell_policy(stack_size=5, leads_wanted=50, duration='long', update=True, factor=2)"
   ]
  },
  {
   "cell_type": "code",
   "execution_count": null,
   "metadata": {},
   "outputs": [],
   "source": []
  },
  {
   "cell_type": "code",
   "execution_count": null,
   "metadata": {},
   "outputs": [],
   "source": []
  },
  {
   "cell_type": "code",
   "execution_count": null,
   "metadata": {},
   "outputs": [],
   "source": []
  },
  {
   "cell_type": "code",
   "execution_count": null,
   "metadata": {},
   "outputs": [],
   "source": []
  },
  {
   "cell_type": "code",
   "execution_count": null,
   "metadata": {},
   "outputs": [],
   "source": []
  },
  {
   "cell_type": "code",
   "execution_count": null,
   "metadata": {},
   "outputs": [],
   "source": []
  },
  {
   "cell_type": "code",
   "execution_count": null,
   "metadata": {},
   "outputs": [],
   "source": []
  },
  {
   "cell_type": "code",
   "execution_count": null,
   "metadata": {},
   "outputs": [],
   "source": []
  }
 ],
 "metadata": {
  "kernelspec": {
   "display_name": "Python 3",
   "language": "python",
   "name": "python3"
  },
  "language_info": {
   "codemirror_mode": {
    "name": "ipython",
    "version": 3
   },
   "file_extension": ".py",
   "mimetype": "text/x-python",
   "name": "python",
   "nbconvert_exporter": "python",
   "pygments_lexer": "ipython3",
   "version": "3.7.3"
  }
 },
 "nbformat": 4,
 "nbformat_minor": 2
}
