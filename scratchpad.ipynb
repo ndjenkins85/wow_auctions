{
 "cells": [
  {
   "cell_type": "code",
   "execution_count": 3,
   "metadata": {},
   "outputs": [],
   "source": [
    "from sources import *\n",
    "from analysis import *"
   ]
  },
  {
   "cell_type": "markdown",
   "metadata": {},
   "source": [
    "### Wishlist\n",
    "* Optimize program to run faster\n",
    "* Sell items automatically (once for 5x items, once for 1-9 items. Set as short, medium, long)\n",
    "* More visibility into buy list; should also inform making items\n",
    "* Update sell policy to not undercut myself"
   ]
  },
  {
   "cell_type": "code",
   "execution_count": 4,
   "metadata": {
    "scrolled": true
   },
   "outputs": [
    {
     "name": "stdout",
     "output_type": "stream",
     "text": [
      "Auction scandata loaded and cleaned. 27175 records\n",
      "Auction scandata full repository. 2611678 records with 93 snapshots. Repository has *not* been updated this run\n"
     ]
    }
   ],
   "source": [
    "# GET AH SCANDATA\n",
    "# LOG OUT\n",
    "generate_auction_scandata(verbose=True) # 17 sec\n",
    "# LOG IN\n",
    "# CHECK MAILBOX"
   ]
  },
  {
   "cell_type": "code",
   "execution_count": null,
   "metadata": {},
   "outputs": [],
   "source": [
    "generate_auction_activity(verbose=True) # 1.5sec\n",
    "generate_inventory(verbose=True) #0.7 sec\n",
    "\n",
    "analyse_item_prices(verbose=True) # 0.7 sec\n",
    "analyse_sales_performance() # 0.9 sec\n",
    "analyse_item_min_sell_price() #0.5 sec\n",
    "analyse_sell_data()\n",
    "#analyse_character_needs()\n",
    "\n",
    "apply_buy_policy()"
   ]
  },
  {
   "cell_type": "code",
   "execution_count": null,
   "metadata": {},
   "outputs": [],
   "source": [
    "sell_policy = pd.read_parquet('outputs/sell_policy.parquet')\n",
    "sell_policy"
   ]
  },
  {
   "cell_type": "code",
   "execution_count": null,
   "metadata": {},
   "outputs": [],
   "source": [
    "#(sell_policy['immediate_inv'].apply(lambda x: max(x-5, 0)) / 5).astype(int)"
   ]
  },
  {
   "cell_type": "code",
   "execution_count": null,
   "metadata": {},
   "outputs": [],
   "source": [
    "buy_policy = pd.read_parquet('outputs/buy_policy.parquet')\n",
    "buy_policy"
   ]
  },
  {
   "cell_type": "code",
   "execution_count": null,
   "metadata": {},
   "outputs": [],
   "source": [
    "apply_sell_policy(sale_number=2, stack_size=5, duration='long', factor=1.6)"
   ]
  },
  {
   "cell_type": "code",
   "execution_count": null,
   "metadata": {},
   "outputs": [],
   "source": [
    "apply_sell_policy(sale_number=5, stack_size=1, duration='medium')"
   ]
  },
  {
   "cell_type": "code",
   "execution_count": null,
   "metadata": {},
   "outputs": [],
   "source": [
    "apply_sell_policy(sale_number=2, stack_size=5, duration='medium')"
   ]
  },
  {
   "cell_type": "code",
   "execution_count": null,
   "metadata": {},
   "outputs": [],
   "source": []
  },
  {
   "cell_type": "code",
   "execution_count": null,
   "metadata": {},
   "outputs": [],
   "source": []
  },
  {
   "cell_type": "code",
   "execution_count": null,
   "metadata": {},
   "outputs": [],
   "source": []
  },
  {
   "cell_type": "code",
   "execution_count": null,
   "metadata": {},
   "outputs": [],
   "source": []
  },
  {
   "cell_type": "code",
   "execution_count": null,
   "metadata": {},
   "outputs": [],
   "source": []
  },
  {
   "cell_type": "code",
   "execution_count": null,
   "metadata": {},
   "outputs": [],
   "source": []
  },
  {
   "cell_type": "code",
   "execution_count": null,
   "metadata": {},
   "outputs": [],
   "source": []
  },
  {
   "cell_type": "code",
   "execution_count": null,
   "metadata": {},
   "outputs": [],
   "source": []
  }
 ],
 "metadata": {
  "kernelspec": {
   "display_name": "Python 3",
   "language": "python",
   "name": "python3"
  },
  "language_info": {
   "codemirror_mode": {
    "name": "ipython",
    "version": 3
   },
   "file_extension": ".py",
   "mimetype": "text/x-python",
   "name": "python",
   "nbconvert_exporter": "python",
   "pygments_lexer": "ipython3",
   "version": "3.7.3"
  }
 },
 "nbformat": 4,
 "nbformat_minor": 2
}
