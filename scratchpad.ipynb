{
 "cells": [
  {
   "cell_type": "code",
   "execution_count": 1,
   "metadata": {},
   "outputs": [],
   "source": [
    "from utils import *"
   ]
  },
  {
   "cell_type": "code",
   "execution_count": 2,
   "metadata": {},
   "outputs": [
    {
     "name": "stdout",
     "output_type": "stream",
     "text": [
      "Total Monies: 817.65\n",
      "Saving inventory data with (121, 6) shape\n"
     ]
    }
   ],
   "source": [
    "generate_inventory(verbose=True)"
   ]
  },
  {
   "cell_type": "code",
   "execution_count": 3,
   "metadata": {},
   "outputs": [],
   "source": [
    "def analyse_stocktake_value():\n",
    "    df = pd.read_parquet('intermediate/inventory.parquet')\n",
    "\n",
    "    item_count = df.groupby('item')['count'].sum()\n",
    "    items = load_items()\n",
    "    # Adjust for self demand\n",
    "    for item, detail in items.items():\n",
    "        if 'self_demand' in detail:\n",
    "            for character, count in detail['self_demand'].items():\n",
    "                if item in item_count.index:\n",
    "                    item_count.loc[item] -= count\n",
    "\n",
    "    ####\n",
    "\n",
    "    # Get prices from below\n",
    "    prices.name = 'price'\n",
    "    stocktake = pd.DataFrame(item_count).join(prices)\n",
    "    stocktake['est'] = stocktake['count'] * stocktake['price']\n",
    "    print(int(stocktake['est'].sum() / 10000))                "
   ]
  },
  {
   "cell_type": "code",
   "execution_count": 4,
   "metadata": {},
   "outputs": [
    {
     "data": {
      "text/plain": [
       "{'Melue': {'Elixir of Giants': -1}, 'Zegna': {}}"
      ]
     },
     "execution_count": 4,
     "metadata": {},
     "output_type": "execute_result"
    }
   ],
   "source": [
    "get_character_needs(['Melue', 'Zegna'])"
   ]
  },
  {
   "cell_type": "code",
   "execution_count": 5,
   "metadata": {
    "scrolled": true
   },
   "outputs": [
    {
     "name": "stdout",
     "output_type": "stream",
     "text": [
      "12767 auction events\n",
      "9900 auction events of interest\n"
     ]
    }
   ],
   "source": [
    "generate_auction_history(verbose=True)"
   ]
  },
  {
   "cell_type": "code",
   "execution_count": null,
   "metadata": {},
   "outputs": [],
   "source": []
  },
  {
   "cell_type": "code",
   "execution_count": null,
   "metadata": {},
   "outputs": [],
   "source": [
    "def get_profits(date=None, item=None):\n",
    "    df_raw = pd.read_parquet('intermediate/auctions.parquet')\n",
    "    df_raw = df_raw.drop_duplicates(subset=['auction_type','item', 'timestamp'])\n",
    "\n",
    "    df_failed = df_raw[df_raw['auction_type'].isin(['failed'])]\n",
    "    df_success = df_raw[df_raw['auction_type'].isin(['buy_price', 'sell_price'])]\n",
    "    df_auction_type = df_success.set_index(['auction_type','item', 'timestamp'])['price_per'].unstack().T\n",
    "\n",
    "    item_history = df_success.set_index(['item','auction_type', 'timestamp'])['price_per'].unstack().T\n",
    "    general_profit = ((df_auction_type['sell_price'].sum(axis=1).cumsum() - df_auction_type['buy_price'].sum(axis=1).cumsum()) / 10000).astype(int)\n",
    "\n",
    "    if item:\n",
    "        item_history[item].dropna(how='all').plot()\n",
    "    elif date:\n",
    "        general_profit.loc[date:].plot()"
   ]
  },
  {
   "cell_type": "code",
   "execution_count": null,
   "metadata": {},
   "outputs": [],
   "source": [
    "get_profits(item='Mighty Rage Potion')"
   ]
  },
  {
   "cell_type": "code",
   "execution_count": null,
   "metadata": {},
   "outputs": [],
   "source": [
    "get_profits(date='2020-02-15')"
   ]
  },
  {
   "cell_type": "code",
   "execution_count": null,
   "metadata": {},
   "outputs": [],
   "source": [
    "add_item_prices()"
   ]
  },
  {
   "cell_type": "code",
   "execution_count": null,
   "metadata": {},
   "outputs": [],
   "source": []
  },
  {
   "cell_type": "code",
   "execution_count": null,
   "metadata": {},
   "outputs": [],
   "source": []
  },
  {
   "cell_type": "code",
   "execution_count": null,
   "metadata": {},
   "outputs": [],
   "source": [
    "verbose = True\n",
    "\n",
    "with open('intermediate/items_enriched.yaml', 'r') as f:\n",
    "    user_items = yaml.load(f, Loader=yaml.FullLoader)"
   ]
  },
  {
   "cell_type": "code",
   "execution_count": null,
   "metadata": {},
   "outputs": [],
   "source": [
    "pd.DataFrame.from_dict(user_items).T['min_list_price'].dropna()"
   ]
  },
  {
   "cell_type": "code",
   "execution_count": null,
   "metadata": {},
   "outputs": [],
   "source": []
  },
  {
   "cell_type": "code",
   "execution_count": null,
   "metadata": {},
   "outputs": [],
   "source": [
    "prices = pd.DataFrame.from_dict(user_items).T"
   ]
  },
  {
   "cell_type": "code",
   "execution_count": null,
   "metadata": {},
   "outputs": [],
   "source": [
    "prices['lower_price'] = prices['buy_price'].fillna(prices['sell_price'])\n",
    "prices['upper_price'] = prices['sell_price'].fillna(prices['buy_price'])"
   ]
  },
  {
   "cell_type": "code",
   "execution_count": null,
   "metadata": {},
   "outputs": [],
   "source": [
    "prices = ((prices['upper_price'] + prices['lower_price']) / 2).dropna()"
   ]
  },
  {
   "cell_type": "code",
   "execution_count": null,
   "metadata": {},
   "outputs": [],
   "source": []
  },
  {
   "cell_type": "code",
   "execution_count": null,
   "metadata": {},
   "outputs": [],
   "source": [
    "\n",
    "\n",
    "ingredient_raw = pd.DataFrame.from_dict(user_items).T[['gross_profit', 'auction_success', 'made_from']].dropna()\n",
    "\n",
    "ingredient_raw['ingredient_value'] = ingredient_raw['gross_profit'] * ingredient_raw['auction_success']\n",
    "\n",
    "ingredient_df = pd.DataFrame()\n",
    "for item, recipe in ingredient_raw['made_from'].items():\n",
    "    for ingredient, count in recipe.items():\n",
    "        ingredient_df.loc[item, ingredient] = count\n",
    "        \n",
    "xs = ingredient_df.drop(['Crystal Vial', 'Leaded Vial', 'Empty Vial'], axis=1).fillna(0).astype(int)\n",
    "ys = ingredient_raw['ingredient_value']"
   ]
  },
  {
   "cell_type": "code",
   "execution_count": null,
   "metadata": {},
   "outputs": [],
   "source": [
    "ingredient_raw"
   ]
  },
  {
   "cell_type": "code",
   "execution_count": null,
   "metadata": {},
   "outputs": [],
   "source": [
    "def update_beta(pred_beta, y, x, learning_rate=0.02):\n",
    "    actual_value = y * (x / x.sum())\n",
    "    actual_value = actual_value[actual_value>0]\n",
    "\n",
    "    new_beta = pred_beta.copy()\n",
    "    new_beta.update(actual_value)\n",
    "\n",
    "    # Introduce some truthiness to the betas\n",
    "    pred_beta += ((new_beta - pred_beta) * learning_rate)\n",
    "    return pred_beta"
   ]
  },
  {
   "cell_type": "code",
   "execution_count": null,
   "metadata": {},
   "outputs": [],
   "source": [
    "import numpy as np"
   ]
  },
  {
   "cell_type": "code",
   "execution_count": null,
   "metadata": {},
   "outputs": [],
   "source": [
    "random_start = ((np.random.rand(len(xs.columns)) - 0.5) + 1) * ys.mean()"
   ]
  },
  {
   "cell_type": "code",
   "execution_count": null,
   "metadata": {},
   "outputs": [],
   "source": [
    "pred_beta = pd.Series(random_start, index=xs.columns)"
   ]
  },
  {
   "cell_type": "code",
   "execution_count": null,
   "metadata": {},
   "outputs": [],
   "source": [
    "all_betas = pd.DataFrame(columns=pred_beta.index)\n",
    "\n",
    "for i in range(800):\n",
    "    for item, y in ys.sample(10).items():\n",
    "        x = xs.loc[item]\n",
    "        pred_beta = update_beta(pred_beta, y, x, learning_rate=0.005)\n",
    "        \n",
    "        if verbose:\n",
    "            beta_proportion = ((pred_beta / pred_beta.sum()))\n",
    "            all_betas.loc[i] = beta_proportion\n",
    "if verbose:\n",
    "    all_betas.plot(legend=False)\n",
    "            \n",
    "beta_proportion = ((pred_beta / pred_beta.sum()))            \n",
    "beta_proportion.sort_values()         "
   ]
  },
  {
   "cell_type": "code",
   "execution_count": null,
   "metadata": {},
   "outputs": [],
   "source": [
    "pred_beta"
   ]
  },
  {
   "cell_type": "code",
   "execution_count": null,
   "metadata": {},
   "outputs": [],
   "source": []
  },
  {
   "cell_type": "code",
   "execution_count": null,
   "metadata": {},
   "outputs": [],
   "source": []
  },
  {
   "cell_type": "code",
   "execution_count": null,
   "metadata": {},
   "outputs": [],
   "source": [
    "# Need a POPULARITY metric, something that signifies how many of the last x auctions have been item"
   ]
  },
  {
   "cell_type": "code",
   "execution_count": null,
   "metadata": {},
   "outputs": [],
   "source": []
  },
  {
   "cell_type": "code",
   "execution_count": null,
   "metadata": {},
   "outputs": [],
   "source": []
  },
  {
   "cell_type": "code",
   "execution_count": null,
   "metadata": {},
   "outputs": [],
   "source": []
  },
  {
   "cell_type": "code",
   "execution_count": null,
   "metadata": {},
   "outputs": [],
   "source": []
  },
  {
   "cell_type": "code",
   "execution_count": null,
   "metadata": {},
   "outputs": [],
   "source": []
  }
 ],
 "metadata": {
  "kernelspec": {
   "display_name": "Python 3",
   "language": "python",
   "name": "python3"
  },
  "language_info": {
   "codemirror_mode": {
    "name": "ipython",
    "version": 3
   },
   "file_extension": ".py",
   "mimetype": "text/x-python",
   "name": "python",
   "nbconvert_exporter": "python",
   "pygments_lexer": "ipython3",
   "version": "3.7.3"
  }
 },
 "nbformat": 4,
 "nbformat_minor": 2
}
