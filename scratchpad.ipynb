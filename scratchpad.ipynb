{
 "cells": [
  {
   "cell_type": "code",
   "execution_count": 1,
   "metadata": {},
   "outputs": [],
   "source": [
    "from utils import *"
   ]
  },
  {
   "cell_type": "code",
   "execution_count": 2,
   "metadata": {},
   "outputs": [],
   "source": [
    "account_name = '396255466#1'\n",
    "path_live = f\"/Applications/World of Warcraft/_classic_/WTF/Account/{account_name}/SavedVariables/Auc-ScanData.lua\" \n",
    "\n",
    "with open(path_live, 'r') as f:\n",
    "    ac = lua.decode('{'+f.read()+'}')"
   ]
  },
  {
   "cell_type": "code",
   "execution_count": 10,
   "metadata": {},
   "outputs": [],
   "source": [
    "auction_data = []\n",
    "\n",
    "for rope in ac['AucScanData']['scans']['Grobbulus']['ropes']:\n",
    "    auctions = rope[9:-3].split('},{')\n",
    "    for auction in auctions:\n",
    "        auction_data.append(auction.split('|')[-1].split(','))\n",
    "        \n",
    "# Contains lots of columns, we ignore ones we likely dont care about\n",
    "# We apply transformations and relabel\n",
    "df = pd.DataFrame(auction_data)\n",
    "df['item'] = df[8].str.replace('\"','')\n",
    "df['count'] = df[10].replace('nil', 0).astype(int)\n",
    "df['price'] = df[16].astype(int)\n",
    "df['agent'] = df[19].str.replace('\"','')\n",
    "df['timestamp'] = df[7].apply(lambda x: dt.fromtimestamp(int(x)))\n",
    "\n",
    "# There is some timing difference in the timestamp, we dont really care we just need time of pull\n",
    "df['timestamp'] = df['timestamp'].max()\n",
    "\n",
    "df = df[df['count']>0]\n",
    "df['price_per'] = df['price'] / df['count']\n",
    "\n",
    "cols = [\"timestamp\", \"item\", \"count\", \"price\", \"agent\", \"price_per\"]\n",
    "df = df[cols]"
   ]
  },
  {
   "cell_type": "code",
   "execution_count": 16,
   "metadata": {},
   "outputs": [],
   "source": []
  },
  {
   "cell_type": "code",
   "execution_count": 27,
   "metadata": {},
   "outputs": [],
   "source": []
  },
  {
   "cell_type": "code",
   "execution_count": null,
   "metadata": {},
   "outputs": [],
   "source": []
  },
  {
   "cell_type": "code",
   "execution_count": null,
   "metadata": {},
   "outputs": [],
   "source": []
  },
  {
   "cell_type": "code",
   "execution_count": 7,
   "metadata": {},
   "outputs": [],
   "source": [
    "user_items = load_items()"
   ]
  },
  {
   "cell_type": "code",
   "execution_count": 31,
   "metadata": {},
   "outputs": [],
   "source": [
    "df_relevant = df[df['item'].isin(user_items.keys())]"
   ]
  },
  {
   "cell_type": "code",
   "execution_count": 36,
   "metadata": {},
   "outputs": [
    {
     "data": {
      "text/html": [
       "<div>\n",
       "<style scoped>\n",
       "    .dataframe tbody tr th:only-of-type {\n",
       "        vertical-align: middle;\n",
       "    }\n",
       "\n",
       "    .dataframe tbody tr th {\n",
       "        vertical-align: top;\n",
       "    }\n",
       "\n",
       "    .dataframe thead th {\n",
       "        text-align: right;\n",
       "    }\n",
       "</style>\n",
       "<table border=\"1\" class=\"dataframe\">\n",
       "  <thead>\n",
       "    <tr style=\"text-align: right;\">\n",
       "      <th></th>\n",
       "      <th>item</th>\n",
       "      <th>count</th>\n",
       "      <th>price</th>\n",
       "      <th>agent</th>\n",
       "      <th>price_per</th>\n",
       "    </tr>\n",
       "  </thead>\n",
       "  <tbody>\n",
       "    <tr>\n",
       "      <th>23505</th>\n",
       "      <td>Arcane Crystal</td>\n",
       "      <td>1</td>\n",
       "      <td>626900</td>\n",
       "      <td>Racateria</td>\n",
       "      <td>626900.0</td>\n",
       "    </tr>\n",
       "    <tr>\n",
       "      <th>19443</th>\n",
       "      <td>Arcane Crystal</td>\n",
       "      <td>1</td>\n",
       "      <td>627000</td>\n",
       "      <td>Vhos</td>\n",
       "      <td>627000.0</td>\n",
       "    </tr>\n",
       "    <tr>\n",
       "      <th>24341</th>\n",
       "      <td>Arcane Crystal</td>\n",
       "      <td>1</td>\n",
       "      <td>627900</td>\n",
       "      <td>Lockurheart</td>\n",
       "      <td>627900.0</td>\n",
       "    </tr>\n",
       "    <tr>\n",
       "      <th>21690</th>\n",
       "      <td>Arcane Crystal</td>\n",
       "      <td>1</td>\n",
       "      <td>627949</td>\n",
       "      <td>Suukokku</td>\n",
       "      <td>627949.0</td>\n",
       "    </tr>\n",
       "    <tr>\n",
       "      <th>21269</th>\n",
       "      <td>Arcane Crystal</td>\n",
       "      <td>1</td>\n",
       "      <td>627999</td>\n",
       "      <td>Sivart</td>\n",
       "      <td>627999.0</td>\n",
       "    </tr>\n",
       "    <tr>\n",
       "      <th>...</th>\n",
       "      <td>...</td>\n",
       "      <td>...</td>\n",
       "      <td>...</td>\n",
       "      <td>...</td>\n",
       "      <td>...</td>\n",
       "    </tr>\n",
       "    <tr>\n",
       "      <th>6156</th>\n",
       "      <td>Winter Squid</td>\n",
       "      <td>1</td>\n",
       "      <td>18000</td>\n",
       "      <td>Homage</td>\n",
       "      <td>18000.0</td>\n",
       "    </tr>\n",
       "    <tr>\n",
       "      <th>6157</th>\n",
       "      <td>Winter Squid</td>\n",
       "      <td>1</td>\n",
       "      <td>18000</td>\n",
       "      <td>Homage</td>\n",
       "      <td>18000.0</td>\n",
       "    </tr>\n",
       "    <tr>\n",
       "      <th>1715</th>\n",
       "      <td>Winter Squid</td>\n",
       "      <td>1</td>\n",
       "      <td>19900</td>\n",
       "      <td>Avarita</td>\n",
       "      <td>19900.0</td>\n",
       "    </tr>\n",
       "    <tr>\n",
       "      <th>9138</th>\n",
       "      <td>Winter Squid</td>\n",
       "      <td>20</td>\n",
       "      <td>399140</td>\n",
       "      <td>Annafoxlove</td>\n",
       "      <td>19957.0</td>\n",
       "    </tr>\n",
       "    <tr>\n",
       "      <th>9139</th>\n",
       "      <td>Winter Squid</td>\n",
       "      <td>20</td>\n",
       "      <td>399140</td>\n",
       "      <td>Annafoxlove</td>\n",
       "      <td>19957.0</td>\n",
       "    </tr>\n",
       "  </tbody>\n",
       "</table>\n",
       "<p>3049 rows × 5 columns</p>\n",
       "</div>"
      ],
      "text/plain": [
       "                 item  count   price        agent  price_per\n",
       "23505  Arcane Crystal      1  626900    Racateria   626900.0\n",
       "19443  Arcane Crystal      1  627000         Vhos   627000.0\n",
       "24341  Arcane Crystal      1  627900  Lockurheart   627900.0\n",
       "21690  Arcane Crystal      1  627949     Suukokku   627949.0\n",
       "21269  Arcane Crystal      1  627999       Sivart   627999.0\n",
       "...               ...    ...     ...          ...        ...\n",
       "6156     Winter Squid      1   18000       Homage    18000.0\n",
       "6157     Winter Squid      1   18000       Homage    18000.0\n",
       "1715     Winter Squid      1   19900      Avarita    19900.0\n",
       "9138     Winter Squid     20  399140  Annafoxlove    19957.0\n",
       "9139     Winter Squid     20  399140  Annafoxlove    19957.0\n",
       "\n",
       "[3049 rows x 5 columns]"
      ]
     },
     "execution_count": 36,
     "metadata": {},
     "output_type": "execute_result"
    }
   ],
   "source": [
    "df_relevant.sort_values(['item','price_per','count'])"
   ]
  },
  {
   "cell_type": "code",
   "execution_count": null,
   "metadata": {},
   "outputs": [],
   "source": []
  },
  {
   "cell_type": "code",
   "execution_count": 10,
   "metadata": {},
   "outputs": [
    {
     "data": {
      "text/plain": [
       "{'Arcane Crystal': None,\n",
       " 'Arcane Elixir': None,\n",
       " 'Arcanite Bar': None,\n",
       " 'Blackmouth Oil': None,\n",
       " 'Blinding Powder': None,\n",
       " 'Blindweed': None,\n",
       " 'Crippling Poison II': None,\n",
       " 'Dense Sharpening Stones': None,\n",
       " 'Dream Dust': None,\n",
       " 'Dreamfoil': None,\n",
       " 'Elemental Sharpening Stone': None,\n",
       " 'Elixir of Fortitude': None,\n",
       " 'Elixir of Giants': None,\n",
       " 'Elixir of Greater Agility': None,\n",
       " 'Elixir of Greater Intellect': None,\n",
       " 'Tender Wolf Meat': None,\n",
       " \"Khadgar's Whiskers\": None,\n",
       " 'Swiftthistle': None,\n",
       " 'Briarthorn': None,\n",
       " 'Winter Squid': None,\n",
       " 'Elixir of Shadow Power': None,\n",
       " 'Elixir of Superior Defense': None,\n",
       " 'Elixir of the Mongoose': None,\n",
       " 'Essence of Undead': None,\n",
       " 'Essence of Water': None,\n",
       " 'Fadeleaf': None,\n",
       " 'Fire Oil': None,\n",
       " 'Fire Protection Potion': None,\n",
       " 'Firefin Snapper': None,\n",
       " 'Flash Powder': None,\n",
       " 'Free Action Potion': None,\n",
       " 'Ghost Mushroom': None,\n",
       " 'Goldthorn': None,\n",
       " 'Grave Moss': None,\n",
       " 'Greater Arcane Protection Potion': None,\n",
       " 'Greater Eternal Essence': None,\n",
       " 'Greater Shadow Protection Potion': None,\n",
       " 'Greater Stoneshield Potion': None,\n",
       " 'Grilled Squid': None,\n",
       " 'Gromsblood': None,\n",
       " 'Heavy Runecloth Bandage': None,\n",
       " 'Instant Poison V': None,\n",
       " 'Invisibility Potion': None,\n",
       " 'Lesser Eternal Essence': None,\n",
       " 'Lesser Invisibility Potion': None,\n",
       " 'Limited Invulnerability Potion': None,\n",
       " 'Major Health Potion': None,\n",
       " 'Mighty Rage Potion': None,\n",
       " 'Mountain Silversage': None,\n",
       " 'Oily Blackmouth': None,\n",
       " 'Plaguebloom': None,\n",
       " 'Small Flame Sac': None,\n",
       " 'Stonescale Eel': None,\n",
       " 'Stonescale Oil': None,\n",
       " 'Stranglekelp': None,\n",
       " 'Sungrass': None,\n",
       " 'Superior Health Potion': None,\n",
       " 'Superior Mana Potion': None,\n",
       " 'Swiftness Potion': None,\n",
       " 'Tender Wolf Steak': None,\n",
       " 'Thistle Tea': None,\n",
       " 'Thorium Bar': None,\n",
       " 'Thorium Ore': None,\n",
       " 'Wild Steelbloom': None,\n",
       " 'Crystal Vial': None,\n",
       " 'Leaded Vial': None,\n",
       " 'Empty Vial': None,\n",
       " 'Soothing Spices': None}"
      ]
     },
     "execution_count": 10,
     "metadata": {},
     "output_type": "execute_result"
    }
   ],
   "source": [
    "{item: details.get('label') for item, details in user_items.items()}"
   ]
  },
  {
   "cell_type": "code",
   "execution_count": null,
   "metadata": {},
   "outputs": [],
   "source": []
  },
  {
   "cell_type": "code",
   "execution_count": null,
   "metadata": {},
   "outputs": [],
   "source": []
  },
  {
   "cell_type": "code",
   "execution_count": null,
   "metadata": {},
   "outputs": [],
   "source": []
  },
  {
   "cell_type": "code",
   "execution_count": null,
   "metadata": {},
   "outputs": [],
   "source": []
  },
  {
   "cell_type": "code",
   "execution_count": null,
   "metadata": {},
   "outputs": [],
   "source": []
  },
  {
   "cell_type": "code",
   "execution_count": 11,
   "metadata": {},
   "outputs": [
    {
     "name": "stdout",
     "output_type": "stream",
     "text": [
      "Total Monies: 930.10\n",
      "Saving inventory data with (114, 6) shape\n",
      "15677 auction events\n",
      "12694 auction events of interest\n"
     ]
    }
   ],
   "source": [
    "generate_inventory(verbose=True)\n",
    "generate_auction_history(verbose=True)\n",
    "generate_historic_average_prices()"
   ]
  },
  {
   "cell_type": "code",
   "execution_count": 12,
   "metadata": {},
   "outputs": [
    {
     "data": {
      "text/plain": [
       "{'Melue': {'Elemental Sharpening Stone': -2,\n",
       "  'Heavy Runecloth Bandage': -6,\n",
       "  'Thistle Tea': -9},\n",
       " 'Zegna': {'Elemental Sharpening Stone': -1,\n",
       "  'Heavy Runecloth Bandage': -4,\n",
       "  'Swiftness Potion': -2}}"
      ]
     },
     "execution_count": 12,
     "metadata": {},
     "output_type": "execute_result"
    }
   ],
   "source": [
    "get_character_needs(['Melue', 'Zegna'])"
   ]
  },
  {
   "cell_type": "code",
   "execution_count": 13,
   "metadata": {},
   "outputs": [
    {
     "data": {
      "text/plain": [
       "{'Amazoni': {'Elixir of Giants': -33,\n",
       "  'Fire Protection Potion': -30,\n",
       "  'Greater Arcane Protection Potion': -15,\n",
       "  'Limited Invulnerability Potion': -35,\n",
       "  'Mighty Rage Potion': -36}}"
      ]
     },
     "execution_count": 13,
     "metadata": {},
     "output_type": "execute_result"
    }
   ],
   "source": [
    "get_character_needs(['Amazoni'])"
   ]
  },
  {
   "cell_type": "code",
   "execution_count": 14,
   "metadata": {
    "scrolled": true
   },
   "outputs": [
    {
     "data": {
      "image/png": "[encoded data removed]",
      "text/plain": [
       "<Figure size 432x288 with 1 Axes>"
      ]
     },
     "metadata": {
      "needs_background": "light"
     },
     "output_type": "display_data"
    }
   ],
   "source": [
    "get_profits(item='Elixir of Giants')"
   ]
  },
  {
   "cell_type": "code",
   "execution_count": 15,
   "metadata": {},
   "outputs": [
    {
     "data": {
      "image/png": "[encoded data removed]",
      "text/plain": [
       "<Figure size 432x288 with 1 Axes>"
      ]
     },
     "metadata": {
      "needs_background": "light"
     },
     "output_type": "display_data"
    }
   ],
   "source": [
    "get_profits(item='Elixir of the Mongoose')"
   ]
  },
  {
   "cell_type": "code",
   "execution_count": 16,
   "metadata": {},
   "outputs": [
    {
     "data": {
      "image/png": "[encoded data removed]",
      "text/plain": [
       "<Figure size 432x288 with 1 Axes>"
      ]
     },
     "metadata": {
      "needs_background": "light"
     },
     "output_type": "display_data"
    }
   ],
   "source": [
    "get_profits(date='2020-04-01')"
   ]
  },
  {
   "cell_type": "code",
   "execution_count": 17,
   "metadata": {},
   "outputs": [],
   "source": [
    "generate_market_average_prices()"
   ]
  },
  {
   "cell_type": "code",
   "execution_count": 18,
   "metadata": {},
   "outputs": [],
   "source": [
    "generate_item_sell_prices()"
   ]
  },
  {
   "cell_type": "code",
   "execution_count": null,
   "metadata": {},
   "outputs": [],
   "source": []
  },
  {
   "cell_type": "code",
   "execution_count": null,
   "metadata": {},
   "outputs": [],
   "source": []
  },
  {
   "cell_type": "code",
   "execution_count": null,
   "metadata": {},
   "outputs": [],
   "source": []
  },
  {
   "cell_type": "code",
   "execution_count": null,
   "metadata": {},
   "outputs": [],
   "source": []
  },
  {
   "cell_type": "code",
   "execution_count": null,
   "metadata": {},
   "outputs": [],
   "source": []
  },
  {
   "cell_type": "code",
   "execution_count": 19,
   "metadata": {},
   "outputs": [],
   "source": [
    "prices = pd.read_parquet('intermediate/sell_prices.parquet')"
   ]
  },
  {
   "cell_type": "code",
   "execution_count": 20,
   "metadata": {},
   "outputs": [
    {
     "data": {
      "text/plain": [
       "1193.2"
      ]
     },
     "execution_count": 20,
     "metadata": {},
     "output_type": "execute_result"
    }
   ],
   "source": [
    "#80 * # Thorium ore \n",
    "12 + (12 * 85) + (40 * 0.08) + 50 + 8 + 100\n",
    "#Arcanite bar \n",
    "#10 # Blue sapphire\n",
    "#4 # Azerothian Diamond"
   ]
  },
  {
   "cell_type": "code",
   "execution_count": 21,
   "metadata": {},
   "outputs": [
    {
     "data": {
      "text/plain": [
       "1020"
      ]
     },
     "execution_count": 21,
     "metadata": {},
     "output_type": "execute_result"
    }
   ],
   "source": [
    "12*85"
   ]
  },
  {
   "cell_type": "code",
   "execution_count": null,
   "metadata": {},
   "outputs": [],
   "source": []
  },
  {
   "cell_type": "code",
   "execution_count": 24,
   "metadata": {},
   "outputs": [
    {
     "data": {
      "text/plain": [
       "item\n",
       "Arcane Elixir                        8500\n",
       "Elixir of Fortitude                  9000\n",
       "Elixir of Giants                     9000\n",
       "Elixir of Greater Agility            8600\n",
       "Elixir of Greater Intellect          5900\n",
       "Elixir of Shadow Power              28400\n",
       "Elixir of Superior Defense          10600\n",
       "Elixir of the Mongoose              57200\n",
       "Fire Protection Potion              11900\n",
       "Free Action Potion                  12100\n",
       "Greater Arcane Protection Potion     9100\n",
       "Greater Stoneshield Potion           9900\n",
       "Invisibility Potion                 14900\n",
       "Limited Invulnerability Potion      19100\n",
       "Mighty Rage Potion                  11000\n",
       "Swiftness Potion                     6300\n",
       "Name: min_list_price, dtype: int64"
      ]
     },
     "execution_count": 24,
     "metadata": {},
     "output_type": "execute_result"
    }
   ],
   "source": [
    "prices['min_list_price']"
   ]
  },
  {
   "cell_type": "code",
   "execution_count": 23,
   "metadata": {},
   "outputs": [
    {
     "ename": "KeyError",
     "evalue": "'buy_price'",
     "output_type": "error",
     "traceback": [
      "\u001b[0;31m---------------------------------------------------------------------------\u001b[0m",
      "\u001b[0;31mKeyError\u001b[0m                                  Traceback (most recent call last)",
      "\u001b[0;32m~/downloads/ENTER/lib/python3.7/site-packages/pandas/core/indexes/base.py\u001b[0m in \u001b[0;36mget_loc\u001b[0;34m(self, key, method, tolerance)\u001b[0m\n\u001b[1;32m   2645\u001b[0m             \u001b[0;32mtry\u001b[0m\u001b[0;34m:\u001b[0m\u001b[0;34m\u001b[0m\u001b[0;34m\u001b[0m\u001b[0m\n\u001b[0;32m-> 2646\u001b[0;31m                 \u001b[0;32mreturn\u001b[0m \u001b[0mself\u001b[0m\u001b[0;34m.\u001b[0m\u001b[0m_engine\u001b[0m\u001b[0;34m.\u001b[0m\u001b[0mget_loc\u001b[0m\u001b[0;34m(\u001b[0m\u001b[0mkey\u001b[0m\u001b[0;34m)\u001b[0m\u001b[0;34m\u001b[0m\u001b[0;34m\u001b[0m\u001b[0m\n\u001b[0m\u001b[1;32m   2647\u001b[0m             \u001b[0;32mexcept\u001b[0m \u001b[0mKeyError\u001b[0m\u001b[0;34m:\u001b[0m\u001b[0;34m\u001b[0m\u001b[0;34m\u001b[0m\u001b[0m\n",
      "\u001b[0;32mpandas/_libs/index.pyx\u001b[0m in \u001b[0;36mpandas._libs.index.IndexEngine.get_loc\u001b[0;34m()\u001b[0m\n",
      "\u001b[0;32mpandas/_libs/index.pyx\u001b[0m in \u001b[0;36mpandas._libs.index.IndexEngine.get_loc\u001b[0;34m()\u001b[0m\n",
      "\u001b[0;32mpandas/_libs/hashtable_class_helper.pxi\u001b[0m in \u001b[0;36mpandas._libs.hashtable.PyObjectHashTable.get_item\u001b[0;34m()\u001b[0m\n",
      "\u001b[0;32mpandas/_libs/hashtable_class_helper.pxi\u001b[0m in \u001b[0;36mpandas._libs.hashtable.PyObjectHashTable.get_item\u001b[0;34m()\u001b[0m\n",
      "\u001b[0;31mKeyError\u001b[0m: 'buy_price'",
      "\nDuring handling of the above exception, another exception occurred:\n",
      "\u001b[0;31mKeyError\u001b[0m                                  Traceback (most recent call last)",
      "\u001b[0;32m<ipython-input-23-3a2482d291a0>\u001b[0m in \u001b[0;36m<module>\u001b[0;34m\u001b[0m\n\u001b[0;32m----> 1\u001b[0;31m \u001b[0mprices\u001b[0m\u001b[0;34m[\u001b[0m\u001b[0;34m'lower_price'\u001b[0m\u001b[0;34m]\u001b[0m \u001b[0;34m=\u001b[0m \u001b[0mprices\u001b[0m\u001b[0;34m[\u001b[0m\u001b[0;34m'buy_price'\u001b[0m\u001b[0;34m]\u001b[0m\u001b[0;34m.\u001b[0m\u001b[0mfillna\u001b[0m\u001b[0;34m(\u001b[0m\u001b[0mprices\u001b[0m\u001b[0;34m[\u001b[0m\u001b[0;34m'sell_price'\u001b[0m\u001b[0;34m]\u001b[0m\u001b[0;34m)\u001b[0m\u001b[0;34m\u001b[0m\u001b[0;34m\u001b[0m\u001b[0m\n\u001b[0m\u001b[1;32m      2\u001b[0m \u001b[0mprices\u001b[0m\u001b[0;34m[\u001b[0m\u001b[0;34m'upper_price'\u001b[0m\u001b[0;34m]\u001b[0m \u001b[0;34m=\u001b[0m \u001b[0mprices\u001b[0m\u001b[0;34m[\u001b[0m\u001b[0;34m'sell_price'\u001b[0m\u001b[0;34m]\u001b[0m\u001b[0;34m.\u001b[0m\u001b[0mfillna\u001b[0m\u001b[0;34m(\u001b[0m\u001b[0mprices\u001b[0m\u001b[0;34m[\u001b[0m\u001b[0;34m'buy_price'\u001b[0m\u001b[0;34m]\u001b[0m\u001b[0;34m)\u001b[0m\u001b[0;34m\u001b[0m\u001b[0;34m\u001b[0m\u001b[0m\n",
      "\u001b[0;32m~/downloads/ENTER/lib/python3.7/site-packages/pandas/core/frame.py\u001b[0m in \u001b[0;36m__getitem__\u001b[0;34m(self, key)\u001b[0m\n\u001b[1;32m   2798\u001b[0m             \u001b[0;32mif\u001b[0m \u001b[0mself\u001b[0m\u001b[0;34m.\u001b[0m\u001b[0mcolumns\u001b[0m\u001b[0;34m.\u001b[0m\u001b[0mnlevels\u001b[0m \u001b[0;34m>\u001b[0m \u001b[0;36m1\u001b[0m\u001b[0;34m:\u001b[0m\u001b[0;34m\u001b[0m\u001b[0;34m\u001b[0m\u001b[0m\n\u001b[1;32m   2799\u001b[0m                 \u001b[0;32mreturn\u001b[0m \u001b[0mself\u001b[0m\u001b[0;34m.\u001b[0m\u001b[0m_getitem_multilevel\u001b[0m\u001b[0;34m(\u001b[0m\u001b[0mkey\u001b[0m\u001b[0;34m)\u001b[0m\u001b[0;34m\u001b[0m\u001b[0;34m\u001b[0m\u001b[0m\n\u001b[0;32m-> 2800\u001b[0;31m             \u001b[0mindexer\u001b[0m \u001b[0;34m=\u001b[0m \u001b[0mself\u001b[0m\u001b[0;34m.\u001b[0m\u001b[0mcolumns\u001b[0m\u001b[0;34m.\u001b[0m\u001b[0mget_loc\u001b[0m\u001b[0;34m(\u001b[0m\u001b[0mkey\u001b[0m\u001b[0;34m)\u001b[0m\u001b[0;34m\u001b[0m\u001b[0;34m\u001b[0m\u001b[0m\n\u001b[0m\u001b[1;32m   2801\u001b[0m             \u001b[0;32mif\u001b[0m \u001b[0mis_integer\u001b[0m\u001b[0;34m(\u001b[0m\u001b[0mindexer\u001b[0m\u001b[0;34m)\u001b[0m\u001b[0;34m:\u001b[0m\u001b[0;34m\u001b[0m\u001b[0;34m\u001b[0m\u001b[0m\n\u001b[1;32m   2802\u001b[0m                 \u001b[0mindexer\u001b[0m \u001b[0;34m=\u001b[0m \u001b[0;34m[\u001b[0m\u001b[0mindexer\u001b[0m\u001b[0;34m]\u001b[0m\u001b[0;34m\u001b[0m\u001b[0;34m\u001b[0m\u001b[0m\n",
      "\u001b[0;32m~/downloads/ENTER/lib/python3.7/site-packages/pandas/core/indexes/base.py\u001b[0m in \u001b[0;36mget_loc\u001b[0;34m(self, key, method, tolerance)\u001b[0m\n\u001b[1;32m   2646\u001b[0m                 \u001b[0;32mreturn\u001b[0m \u001b[0mself\u001b[0m\u001b[0;34m.\u001b[0m\u001b[0m_engine\u001b[0m\u001b[0;34m.\u001b[0m\u001b[0mget_loc\u001b[0m\u001b[0;34m(\u001b[0m\u001b[0mkey\u001b[0m\u001b[0;34m)\u001b[0m\u001b[0;34m\u001b[0m\u001b[0;34m\u001b[0m\u001b[0m\n\u001b[1;32m   2647\u001b[0m             \u001b[0;32mexcept\u001b[0m \u001b[0mKeyError\u001b[0m\u001b[0;34m:\u001b[0m\u001b[0;34m\u001b[0m\u001b[0;34m\u001b[0m\u001b[0m\n\u001b[0;32m-> 2648\u001b[0;31m                 \u001b[0;32mreturn\u001b[0m \u001b[0mself\u001b[0m\u001b[0;34m.\u001b[0m\u001b[0m_engine\u001b[0m\u001b[0;34m.\u001b[0m\u001b[0mget_loc\u001b[0m\u001b[0;34m(\u001b[0m\u001b[0mself\u001b[0m\u001b[0;34m.\u001b[0m\u001b[0m_maybe_cast_indexer\u001b[0m\u001b[0;34m(\u001b[0m\u001b[0mkey\u001b[0m\u001b[0;34m)\u001b[0m\u001b[0;34m)\u001b[0m\u001b[0;34m\u001b[0m\u001b[0;34m\u001b[0m\u001b[0m\n\u001b[0m\u001b[1;32m   2649\u001b[0m         \u001b[0mindexer\u001b[0m \u001b[0;34m=\u001b[0m \u001b[0mself\u001b[0m\u001b[0;34m.\u001b[0m\u001b[0mget_indexer\u001b[0m\u001b[0;34m(\u001b[0m\u001b[0;34m[\u001b[0m\u001b[0mkey\u001b[0m\u001b[0;34m]\u001b[0m\u001b[0;34m,\u001b[0m \u001b[0mmethod\u001b[0m\u001b[0;34m=\u001b[0m\u001b[0mmethod\u001b[0m\u001b[0;34m,\u001b[0m \u001b[0mtolerance\u001b[0m\u001b[0;34m=\u001b[0m\u001b[0mtolerance\u001b[0m\u001b[0;34m)\u001b[0m\u001b[0;34m\u001b[0m\u001b[0;34m\u001b[0m\u001b[0m\n\u001b[1;32m   2650\u001b[0m         \u001b[0;32mif\u001b[0m \u001b[0mindexer\u001b[0m\u001b[0;34m.\u001b[0m\u001b[0mndim\u001b[0m \u001b[0;34m>\u001b[0m \u001b[0;36m1\u001b[0m \u001b[0;32mor\u001b[0m \u001b[0mindexer\u001b[0m\u001b[0;34m.\u001b[0m\u001b[0msize\u001b[0m \u001b[0;34m>\u001b[0m \u001b[0;36m1\u001b[0m\u001b[0;34m:\u001b[0m\u001b[0;34m\u001b[0m\u001b[0;34m\u001b[0m\u001b[0m\n",
      "\u001b[0;32mpandas/_libs/index.pyx\u001b[0m in \u001b[0;36mpandas._libs.index.IndexEngine.get_loc\u001b[0;34m()\u001b[0m\n",
      "\u001b[0;32mpandas/_libs/index.pyx\u001b[0m in \u001b[0;36mpandas._libs.index.IndexEngine.get_loc\u001b[0;34m()\u001b[0m\n",
      "\u001b[0;32mpandas/_libs/hashtable_class_helper.pxi\u001b[0m in \u001b[0;36mpandas._libs.hashtable.PyObjectHashTable.get_item\u001b[0;34m()\u001b[0m\n",
      "\u001b[0;32mpandas/_libs/hashtable_class_helper.pxi\u001b[0m in \u001b[0;36mpandas._libs.hashtable.PyObjectHashTable.get_item\u001b[0;34m()\u001b[0m\n",
      "\u001b[0;31mKeyError\u001b[0m: 'buy_price'"
     ]
    }
   ],
   "source": [
    "prices['lower_price'] = prices['buy_price'].fillna(prices['sell_price'])\n",
    "prices['upper_price'] = prices['sell_price'].fillna(prices['buy_price'])"
   ]
  },
  {
   "cell_type": "code",
   "execution_count": null,
   "metadata": {},
   "outputs": [],
   "source": [
    "prices = ((prices['upper_price'] + prices['lower_price']) / 2).dropna()"
   ]
  },
  {
   "cell_type": "code",
   "execution_count": null,
   "metadata": {},
   "outputs": [],
   "source": []
  },
  {
   "cell_type": "code",
   "execution_count": null,
   "metadata": {},
   "outputs": [],
   "source": [
    "prices = pd.read_parquet('intermediate/sell_prices.parquet')"
   ]
  },
  {
   "cell_type": "code",
   "execution_count": null,
   "metadata": {},
   "outputs": [],
   "source": [
    "prices[['gross_profit', 'auction_success']].dropna()"
   ]
  },
  {
   "cell_type": "code",
   "execution_count": null,
   "metadata": {},
   "outputs": [],
   "source": [
    "prices['ingredient_value'] = prices['gross_profit'] * prices['auction_success']"
   ]
  },
  {
   "cell_type": "code",
   "execution_count": null,
   "metadata": {},
   "outputs": [],
   "source": [
    "user_items = load_items()"
   ]
  },
  {
   "cell_type": "code",
   "execution_count": null,
   "metadata": {},
   "outputs": [],
   "source": [
    "ingredient_df = pd.DataFrame()\n",
    "for item, details in user_items.items():\n",
    "    if details.get('made_from'):\n",
    "        for ingredient, count in details.get('made_from').items():\n",
    "            ingredient_df.loc[item, ingredient] = count\n",
    "        \n",
    "# xs = ingredient_df.drop(['Crystal Vial', 'Leaded Vial', 'Empty Vial'], axis=1).fillna(0).astype(int)\n",
    "# ys = ingredient_raw['ingredient_value']"
   ]
  },
  {
   "cell_type": "code",
   "execution_count": null,
   "metadata": {},
   "outputs": [],
   "source": [
    "ingredient_raw"
   ]
  },
  {
   "cell_type": "code",
   "execution_count": null,
   "metadata": {},
   "outputs": [],
   "source": [
    "def update_beta(pred_beta, y, x, learning_rate=0.02):\n",
    "    actual_value = y * (x / x.sum())\n",
    "    actual_value = actual_value[actual_value>0]\n",
    "\n",
    "    new_beta = pred_beta.copy()\n",
    "    new_beta.update(actual_value)\n",
    "\n",
    "    # Introduce some truthiness to the betas\n",
    "    pred_beta += ((new_beta - pred_beta) * learning_rate)\n",
    "    return pred_beta"
   ]
  },
  {
   "cell_type": "code",
   "execution_count": null,
   "metadata": {},
   "outputs": [],
   "source": [
    "import numpy as np"
   ]
  },
  {
   "cell_type": "code",
   "execution_count": null,
   "metadata": {},
   "outputs": [],
   "source": [
    "random_start = ((np.random.rand(len(xs.columns)) - 0.5) + 1) * ys.mean()"
   ]
  },
  {
   "cell_type": "code",
   "execution_count": null,
   "metadata": {},
   "outputs": [],
   "source": [
    "pred_beta = pd.Series(random_start, index=xs.columns)"
   ]
  },
  {
   "cell_type": "code",
   "execution_count": null,
   "metadata": {},
   "outputs": [],
   "source": [
    "all_betas = pd.DataFrame(columns=pred_beta.index)\n",
    "\n",
    "for i in range(800):\n",
    "    for item, y in ys.sample(10).items():\n",
    "        x = xs.loc[item]\n",
    "        pred_beta = update_beta(pred_beta, y, x, learning_rate=0.005)\n",
    "        \n",
    "        if verbose:\n",
    "            beta_proportion = ((pred_beta / pred_beta.sum()))\n",
    "            all_betas.loc[i] = beta_proportion\n",
    "if verbose:\n",
    "    all_betas.plot(legend=False)\n",
    "            \n",
    "beta_proportion = ((pred_beta / pred_beta.sum()))            \n",
    "beta_proportion.sort_values()         "
   ]
  },
  {
   "cell_type": "code",
   "execution_count": null,
   "metadata": {},
   "outputs": [],
   "source": [
    "pred_beta"
   ]
  },
  {
   "cell_type": "code",
   "execution_count": null,
   "metadata": {},
   "outputs": [],
   "source": []
  },
  {
   "cell_type": "code",
   "execution_count": null,
   "metadata": {},
   "outputs": [],
   "source": []
  },
  {
   "cell_type": "code",
   "execution_count": null,
   "metadata": {},
   "outputs": [],
   "source": [
    "# Need a POPULARITY metric, something that signifies how many of the last x auctions have been item"
   ]
  },
  {
   "cell_type": "code",
   "execution_count": null,
   "metadata": {},
   "outputs": [],
   "source": [
    "def analyse_stocktake_value(excluded_characters=[]):\n",
    "    df = pd.read_parquet('intermediate/inventory.parquet')\n",
    "\n",
    "    item_count = df.groupby('item')['count'].sum()\n",
    "    items = load_items()\n",
    "    # Adjust for self demand\n",
    "    for item, detail in items.items():\n",
    "        if 'self_demand' in detail:\n",
    "            for character, count in detail['self_demand'].items():\n",
    "                if character not in excluded_characters:\n",
    "                    if item in item_count.index:\n",
    "                        item_count.loc[item] -= count\n",
    "\n",
    "    ####\n",
    "\n",
    "    # Get prices from below\n",
    "    prices.name = 'price'\n",
    "    stocktake = pd.DataFrame(item_count).join(prices)\n",
    "    stocktake['est'] = stocktake['count'] * stocktake['price']\n",
    "    print(int(stocktake['est'].sum() / 10000))                \n",
    "    \n",
    "    \n",
    "analyse_stocktake_value(excluded_characters=['Amazoni'])    "
   ]
  },
  {
   "cell_type": "code",
   "execution_count": null,
   "metadata": {},
   "outputs": [],
   "source": []
  },
  {
   "cell_type": "code",
   "execution_count": null,
   "metadata": {},
   "outputs": [],
   "source": []
  },
  {
   "cell_type": "code",
   "execution_count": null,
   "metadata": {},
   "outputs": [],
   "source": []
  },
  {
   "cell_type": "code",
   "execution_count": null,
   "metadata": {},
   "outputs": [],
   "source": []
  }
 ],
 "metadata": {
  "kernelspec": {
   "display_name": "Python 3",
   "language": "python",
   "name": "python3"
  },
  "language_info": {
   "codemirror_mode": {
    "name": "ipython",
    "version": 3
   },
   "file_extension": ".py",
   "mimetype": "text/x-python",
   "name": "python",
   "nbconvert_exporter": "python",
   "pygments_lexer": "ipython3",
   "version": "3.7.3"
  }
 },
 "nbformat": 4,
 "nbformat_minor": 2
}
