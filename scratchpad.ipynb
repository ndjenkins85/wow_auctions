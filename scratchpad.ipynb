{
 "cells": [
  {
   "cell_type": "code",
   "execution_count": 148,
   "metadata": {},
   "outputs": [],
   "source": [
    "from utils import *"
   ]
  },
  {
   "cell_type": "code",
   "execution_count": 149,
   "metadata": {},
   "outputs": [
    {
     "name": "stdout",
     "output_type": "stream",
     "text": [
      "Total Monies: 873.12\n",
      "Saving inventory data with (117, 6) shape\n"
     ]
    }
   ],
   "source": [
    "generate_inventory(verbose=True)"
   ]
  },
  {
   "cell_type": "code",
   "execution_count": 391,
   "metadata": {},
   "outputs": [
    {
     "data": {
      "text/plain": [
       "{'Melue': {'Free Action Potion': -1}, 'Zegna': {}}"
      ]
     },
     "execution_count": 391,
     "metadata": {},
     "output_type": "execute_result"
    }
   ],
   "source": [
    "get_character_needs(['Melue', 'Zegna'])"
   ]
  },
  {
   "cell_type": "code",
   "execution_count": 151,
   "metadata": {
    "scrolled": true
   },
   "outputs": [
    {
     "name": "stdout",
     "output_type": "stream",
     "text": [
      "11432 auction events\n",
      "8622 auction events of interest\n"
     ]
    }
   ],
   "source": [
    "generate_auction_history(verbose=True)"
   ]
  },
  {
   "cell_type": "code",
   "execution_count": 395,
   "metadata": {},
   "outputs": [],
   "source": [
    "add_item_prices()"
   ]
  },
  {
   "cell_type": "code",
   "execution_count": null,
   "metadata": {},
   "outputs": [],
   "source": []
  },
  {
   "cell_type": "code",
   "execution_count": null,
   "metadata": {},
   "outputs": [],
   "source": []
  },
  {
   "cell_type": "code",
   "execution_count": 419,
   "metadata": {},
   "outputs": [],
   "source": []
  },
  {
   "cell_type": "code",
   "execution_count": null,
   "metadata": {},
   "outputs": [],
   "source": []
  },
  {
   "cell_type": "code",
   "execution_count": 696,
   "metadata": {},
   "outputs": [
    {
     "data": {
      "text/html": [
       "<div>\n",
       "<style scoped>\n",
       "    .dataframe tbody tr th:only-of-type {\n",
       "        vertical-align: middle;\n",
       "    }\n",
       "\n",
       "    .dataframe tbody tr th {\n",
       "        vertical-align: top;\n",
       "    }\n",
       "\n",
       "    .dataframe thead th {\n",
       "        text-align: right;\n",
       "    }\n",
       "</style>\n",
       "<table border=\"1\" class=\"dataframe\">\n",
       "  <thead>\n",
       "    <tr style=\"text-align: right;\">\n",
       "      <th></th>\n",
       "      <th>gross_profit</th>\n",
       "      <th>auction_success</th>\n",
       "      <th>made_from</th>\n",
       "      <th>ingredient_value</th>\n",
       "    </tr>\n",
       "  </thead>\n",
       "  <tbody>\n",
       "    <tr>\n",
       "      <th>Arcane Elixir</th>\n",
       "      <td>2705</td>\n",
       "      <td>0.987179</td>\n",
       "      <td>{'Blindweed': 1, 'Crystal Vial': 1, 'Goldthorn...</td>\n",
       "      <td>2670.32</td>\n",
       "    </tr>\n",
       "    <tr>\n",
       "      <th>Elixir of Fortitude</th>\n",
       "      <td>4694</td>\n",
       "      <td>0.920455</td>\n",
       "      <td>{'Goldthorn': 1, 'Leaded Vial': 1, 'Wild Steel...</td>\n",
       "      <td>4320.61</td>\n",
       "    </tr>\n",
       "    <tr>\n",
       "      <th>Elixir of Giants</th>\n",
       "      <td>2809</td>\n",
       "      <td>0.954357</td>\n",
       "      <td>{'Crystal Vial': 1, 'Gromsblood': 1, 'Sungrass...</td>\n",
       "      <td>2680.79</td>\n",
       "    </tr>\n",
       "    <tr>\n",
       "      <th>Elixir of Greater Agility</th>\n",
       "      <td>1130</td>\n",
       "      <td>0.966805</td>\n",
       "      <td>{'Crystal Vial': 1, 'Goldthorn': 1, 'Sungrass'...</td>\n",
       "      <td>1092.49</td>\n",
       "    </tr>\n",
       "    <tr>\n",
       "      <th>Elixir of Greater Intellect</th>\n",
       "      <td>2752</td>\n",
       "      <td>0.727273</td>\n",
       "      <td>{'Blindweed': 1, 'Khadgar's Whiskers': 1, 'Lea...</td>\n",
       "      <td>2001.45</td>\n",
       "    </tr>\n",
       "    <tr>\n",
       "      <th>Elixir of Superior Defense</th>\n",
       "      <td>2112</td>\n",
       "      <td>0.659686</td>\n",
       "      <td>{'Crystal Vial': 1, 'Leaded Vial': 2, 'Stonesc...</td>\n",
       "      <td>1393.26</td>\n",
       "    </tr>\n",
       "    <tr>\n",
       "      <th>Elixir of the Mongoose</th>\n",
       "      <td>6395</td>\n",
       "      <td>0.991701</td>\n",
       "      <td>{'Crystal Vial': 1, 'Mountain Silversage': 2, ...</td>\n",
       "      <td>6341.93</td>\n",
       "    </tr>\n",
       "    <tr>\n",
       "      <th>Fire Protection Potion</th>\n",
       "      <td>4580</td>\n",
       "      <td>0.958506</td>\n",
       "      <td>{'Empty Vial': 1, 'Firefin Snapper': 2, 'Leade...</td>\n",
       "      <td>4389.96</td>\n",
       "    </tr>\n",
       "    <tr>\n",
       "      <th>Greater Stoneshield Potion</th>\n",
       "      <td>928</td>\n",
       "      <td>0.766667</td>\n",
       "      <td>{'Crystal Vial': 1, 'Leaded Vial': 3, 'Stonesc...</td>\n",
       "      <td>711.467</td>\n",
       "    </tr>\n",
       "    <tr>\n",
       "      <th>Invisibility Potion</th>\n",
       "      <td>6892</td>\n",
       "      <td>0.623377</td>\n",
       "      <td>{'Crystal Vial': 1, 'Ghost Mushroom': 1, 'Sung...</td>\n",
       "      <td>4296.31</td>\n",
       "    </tr>\n",
       "    <tr>\n",
       "      <th>Limited Invulnerability Potion</th>\n",
       "      <td>2846</td>\n",
       "      <td>1</td>\n",
       "      <td>{'Blindweed': 2, 'Crystal Vial': 1, 'Ghost Mus...</td>\n",
       "      <td>2846</td>\n",
       "    </tr>\n",
       "    <tr>\n",
       "      <th>Mighty Rage Potion</th>\n",
       "      <td>2609</td>\n",
       "      <td>0.879668</td>\n",
       "      <td>{'Crystal Vial': 1, 'Gromsblood': 3}</td>\n",
       "      <td>2295.05</td>\n",
       "    </tr>\n",
       "  </tbody>\n",
       "</table>\n",
       "</div>"
      ],
      "text/plain": [
       "                               gross_profit auction_success  \\\n",
       "Arcane Elixir                          2705        0.987179   \n",
       "Elixir of Fortitude                    4694        0.920455   \n",
       "Elixir of Giants                       2809        0.954357   \n",
       "Elixir of Greater Agility              1130        0.966805   \n",
       "Elixir of Greater Intellect            2752        0.727273   \n",
       "Elixir of Superior Defense             2112        0.659686   \n",
       "Elixir of the Mongoose                 6395        0.991701   \n",
       "Fire Protection Potion                 4580        0.958506   \n",
       "Greater Stoneshield Potion              928        0.766667   \n",
       "Invisibility Potion                    6892        0.623377   \n",
       "Limited Invulnerability Potion         2846               1   \n",
       "Mighty Rage Potion                     2609        0.879668   \n",
       "\n",
       "                                                                        made_from  \\\n",
       "Arcane Elixir                   {'Blindweed': 1, 'Crystal Vial': 1, 'Goldthorn...   \n",
       "Elixir of Fortitude             {'Goldthorn': 1, 'Leaded Vial': 1, 'Wild Steel...   \n",
       "Elixir of Giants                {'Crystal Vial': 1, 'Gromsblood': 1, 'Sungrass...   \n",
       "Elixir of Greater Agility       {'Crystal Vial': 1, 'Goldthorn': 1, 'Sungrass'...   \n",
       "Elixir of Greater Intellect     {'Blindweed': 1, 'Khadgar's Whiskers': 1, 'Lea...   \n",
       "Elixir of Superior Defense      {'Crystal Vial': 1, 'Leaded Vial': 2, 'Stonesc...   \n",
       "Elixir of the Mongoose          {'Crystal Vial': 1, 'Mountain Silversage': 2, ...   \n",
       "Fire Protection Potion          {'Empty Vial': 1, 'Firefin Snapper': 2, 'Leade...   \n",
       "Greater Stoneshield Potion      {'Crystal Vial': 1, 'Leaded Vial': 3, 'Stonesc...   \n",
       "Invisibility Potion             {'Crystal Vial': 1, 'Ghost Mushroom': 1, 'Sung...   \n",
       "Limited Invulnerability Potion  {'Blindweed': 2, 'Crystal Vial': 1, 'Ghost Mus...   \n",
       "Mighty Rage Potion                           {'Crystal Vial': 1, 'Gromsblood': 3}   \n",
       "\n",
       "                               ingredient_value  \n",
       "Arcane Elixir                           2670.32  \n",
       "Elixir of Fortitude                     4320.61  \n",
       "Elixir of Giants                        2680.79  \n",
       "Elixir of Greater Agility               1092.49  \n",
       "Elixir of Greater Intellect             2001.45  \n",
       "Elixir of Superior Defense              1393.26  \n",
       "Elixir of the Mongoose                  6341.93  \n",
       "Fire Protection Potion                  4389.96  \n",
       "Greater Stoneshield Potion              711.467  \n",
       "Invisibility Potion                     4296.31  \n",
       "Limited Invulnerability Potion             2846  \n",
       "Mighty Rage Potion                      2295.05  "
      ]
     },
     "execution_count": 696,
     "metadata": {},
     "output_type": "execute_result"
    }
   ],
   "source": [
    "ingredient_raw"
   ]
  },
  {
   "cell_type": "code",
   "execution_count": 700,
   "metadata": {},
   "outputs": [
    {
     "data": {
      "text/plain": [
       "Blindweed              4\n",
       "Goldthorn              3\n",
       "Wild Steelbloom        1\n",
       "Gromsblood             4\n",
       "Sungrass               4\n",
       "Khadgar's Whiskers     1\n",
       "Stonescale Eel         5\n",
       "Mountain Silversage    2\n",
       "Plaguebloom            2\n",
       "Firefin Snapper        2\n",
       "Small Flame Sac        1\n",
       "Thorium Ore            1\n",
       "Ghost Mushroom         2\n",
       "dtype: int64"
      ]
     },
     "execution_count": 700,
     "metadata": {},
     "output_type": "execute_result"
    }
   ],
   "source": [
    "xs.sum()"
   ]
  },
  {
   "cell_type": "code",
   "execution_count": 701,
   "metadata": {},
   "outputs": [
    {
     "data": {
      "text/plain": [
       "Blindweed              0.063367\n",
       "Goldthorn              0.060831\n",
       "Wild Steelbloom        0.098392\n",
       "Gromsblood             0.081727\n",
       "Sungrass               0.050804\n",
       "Khadgar's Whiskers     0.050136\n",
       "Stonescale Eel         0.032589\n",
       "Mountain Silversage    0.142603\n",
       "Plaguebloom            0.143832\n",
       "Firefin Snapper        0.129959\n",
       "Small Flame Sac        0.066508\n",
       "Thorium Ore            0.010054\n",
       "Ghost Mushroom         0.069199\n",
       "dtype: float64"
      ]
     },
     "execution_count": 701,
     "metadata": {},
     "output_type": "execute_result"
    }
   ],
   "source": [
    "beta_proportion"
   ]
  },
  {
   "cell_type": "code",
   "execution_count": 598,
   "metadata": {},
   "outputs": [],
   "source": []
  },
  {
   "cell_type": "code",
   "execution_count": 599,
   "metadata": {},
   "outputs": [],
   "source": [
    "verbose = True\n",
    "\n",
    "with open('intermediate/items_enriched.yaml', 'r') as f:\n",
    "    user_items = yaml.load(f, Loader=yaml.FullLoader)\n",
    "\n",
    "ingredient_raw = pd.DataFrame.from_dict(user_items).T[['gross_profit', 'auction_success', 'made_from']].dropna()\n",
    "\n",
    "ingredient_raw['ingredient_value'] = ingredient_raw['gross_profit'] * ingredient_raw['auction_success']\n",
    "\n",
    "ingredient_df = pd.DataFrame()\n",
    "for item, recipe in ingredient_raw['made_from'].items():\n",
    "    for ingredient, count in recipe.items():\n",
    "        ingredient_df.loc[item, ingredient] = count\n",
    "        \n",
    "xs = ingredient_df.drop(['Crystal Vial', 'Leaded Vial', 'Empty Vial'], axis=1).fillna(0).astype(int)\n",
    "ys = ingredient_raw['ingredient_value']"
   ]
  },
  {
   "cell_type": "code",
   "execution_count": 691,
   "metadata": {},
   "outputs": [],
   "source": [
    "def update_beta(pred_beta, y, x, learning_rate=0.02):\n",
    "    actual_value = y * (x / x.sum())\n",
    "    actual_value = actual_value[actual_value>0]\n",
    "\n",
    "    new_beta = pred_beta.copy()\n",
    "    new_beta.update(actual_value)\n",
    "\n",
    "    # Introduce some truthiness to the betas\n",
    "    pred_beta += ((new_beta - pred_beta) * learning_rate)\n",
    "    return pred_beta"
   ]
  },
  {
   "cell_type": "code",
   "execution_count": 692,
   "metadata": {},
   "outputs": [],
   "source": [
    "import numpy as np"
   ]
  },
  {
   "cell_type": "code",
   "execution_count": 693,
   "metadata": {},
   "outputs": [],
   "source": [
    "random_start = ((np.random.rand(len(xs.columns)) - 0.5) + 1) * ys.mean()"
   ]
  },
  {
   "cell_type": "code",
   "execution_count": 694,
   "metadata": {},
   "outputs": [],
   "source": [
    "pred_beta = pd.Series(random_start, index=xs.columns)"
   ]
  },
  {
   "cell_type": "code",
   "execution_count": 695,
   "metadata": {},
   "outputs": [
    {
     "data": {
      "text/plain": [
       "Blindweed              0.063367\n",
       "Goldthorn              0.060831\n",
       "Wild Steelbloom        0.098392\n",
       "Gromsblood             0.081727\n",
       "Sungrass               0.050804\n",
       "Khadgar's Whiskers     0.050136\n",
       "Stonescale Eel         0.032589\n",
       "Mountain Silversage    0.142603\n",
       "Plaguebloom            0.143832\n",
       "Firefin Snapper        0.129959\n",
       "Small Flame Sac        0.066508\n",
       "Thorium Ore            0.010054\n",
       "Ghost Mushroom         0.069199\n",
       "dtype: float64"
      ]
     },
     "execution_count": 695,
     "metadata": {},
     "output_type": "execute_result"
    },
    {
     "data": {
      "image/png": "[encoded data removed]",
      "text/plain": [
       "<Figure size 432x288 with 1 Axes>"
      ]
     },
     "metadata": {
      "needs_background": "light"
     },
     "output_type": "display_data"
    }
   ],
   "source": [
    "all_betas = pd.DataFrame(columns=pred_beta.index)\n",
    "\n",
    "for i in range(800):\n",
    "    for item, y in ys.sample(10).items():\n",
    "        x = xs.loc[item]\n",
    "        pred_beta = update_beta(pred_beta, y, x, learning_rate=0.005)\n",
    "        \n",
    "        if verbose:\n",
    "            beta_proportion = ((pred_beta / pred_beta.sum()))\n",
    "            all_betas.loc[i] = beta_proportion\n",
    "if verbose:\n",
    "    all_betas.plot(legend=False)\n",
    "            \n",
    "beta_proportion = ((pred_beta / pred_beta.sum()))            \n",
    "beta_proportion         "
   ]
  },
  {
   "cell_type": "code",
   "execution_count": 703,
   "metadata": {},
   "outputs": [
    {
     "data": {
      "text/plain": [
       "Thorium Ore            0.010054\n",
       "Stonescale Eel         0.032589\n",
       "Khadgar's Whiskers     0.050136\n",
       "Sungrass               0.050804\n",
       "Goldthorn              0.060831\n",
       "Blindweed              0.063367\n",
       "Small Flame Sac        0.066508\n",
       "Ghost Mushroom         0.069199\n",
       "Gromsblood             0.081727\n",
       "Wild Steelbloom        0.098392\n",
       "Firefin Snapper        0.129959\n",
       "Mountain Silversage    0.142603\n",
       "Plaguebloom            0.143832\n",
       "dtype: float64"
      ]
     },
     "execution_count": 703,
     "metadata": {},
     "output_type": "execute_result"
    }
   ],
   "source": [
    "beta_proportion.sort_values()"
   ]
  },
  {
   "cell_type": "code",
   "execution_count": null,
   "metadata": {},
   "outputs": [],
   "source": []
  },
  {
   "cell_type": "code",
   "execution_count": null,
   "metadata": {},
   "outputs": [],
   "source": []
  },
  {
   "cell_type": "code",
   "execution_count": 702,
   "metadata": {},
   "outputs": [],
   "source": [
    "# Need a POPULARITY metric, something that signifies how many of the last x auctions have been item"
   ]
  },
  {
   "cell_type": "code",
   "execution_count": null,
   "metadata": {},
   "outputs": [],
   "source": []
  },
  {
   "cell_type": "code",
   "execution_count": null,
   "metadata": {},
   "outputs": [],
   "source": []
  },
  {
   "cell_type": "code",
   "execution_count": null,
   "metadata": {},
   "outputs": [],
   "source": []
  },
  {
   "cell_type": "code",
   "execution_count": null,
   "metadata": {},
   "outputs": [],
   "source": []
  },
  {
   "cell_type": "code",
   "execution_count": null,
   "metadata": {},
   "outputs": [],
   "source": []
  }
 ],
 "metadata": {
  "kernelspec": {
   "display_name": "Python 3",
   "language": "python",
   "name": "python3"
  },
  "language_info": {
   "codemirror_mode": {
    "name": "ipython",
    "version": 3
   },
   "file_extension": ".py",
   "mimetype": "text/x-python",
   "name": "python",
   "nbconvert_exporter": "python",
   "pygments_lexer": "ipython3",
   "version": "3.7.3"
  }
 },
 "nbformat": 4,
 "nbformat_minor": 2
}
